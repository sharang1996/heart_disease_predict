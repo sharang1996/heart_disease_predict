{
 "cells": [
  {
   "cell_type": "code",
   "execution_count": 8,
   "metadata": {
    "ExecuteTime": {
     "end_time": "2020-12-26T02:47:14.894787Z",
     "start_time": "2020-12-26T02:47:14.319940Z"
    }
   },
   "outputs": [],
   "source": [
    "import pandas as pd\n",
    "import matplotlib.pyplot as plt\n",
    "import pandas as pd\n",
    "import seaborn as sns\n",
    "from scipy import stats\n",
    "import numpy as np\n",
    "from statsmodels.graphics.gofplots import qqplot"
   ]
  },
  {
   "cell_type": "code",
   "execution_count": 9,
   "metadata": {
    "ExecuteTime": {
     "end_time": "2020-12-26T02:47:15.660333Z",
     "start_time": "2020-12-26T02:47:15.649755Z"
    }
   },
   "outputs": [],
   "source": [
    "heart_disease = pd.read_csv('heart_statlog_cleveland_hungary_final.csv')"
   ]
  },
  {
   "cell_type": "code",
   "execution_count": 10,
   "metadata": {
    "ExecuteTime": {
     "end_time": "2020-12-26T02:47:21.874401Z",
     "start_time": "2020-12-26T02:47:21.868199Z"
    }
   },
   "outputs": [
    {
     "data": {
      "text/plain": [
       "(1190, 12)"
      ]
     },
     "execution_count": 10,
     "metadata": {},
     "output_type": "execute_result"
    }
   ],
   "source": [
    "heart_disease.shape"
   ]
  },
  {
   "cell_type": "code",
   "execution_count": 11,
   "metadata": {
    "ExecuteTime": {
     "end_time": "2020-12-26T02:47:22.455490Z",
     "start_time": "2020-12-26T02:47:22.448147Z"
    }
   },
   "outputs": [
    {
     "data": {
      "text/plain": [
       "age                      int64\n",
       "sex                      int64\n",
       "chest pain type          int64\n",
       "resting bp s             int64\n",
       "cholesterol              int64\n",
       "fasting blood sugar      int64\n",
       "resting ecg              int64\n",
       "max heart rate           int64\n",
       "exercise angina          int64\n",
       "oldpeak                float64\n",
       "ST slope                 int64\n",
       "target                   int64\n",
       "dtype: object"
      ]
     },
     "execution_count": 11,
     "metadata": {},
     "output_type": "execute_result"
    }
   ],
   "source": [
    "heart_disease.dtypes"
   ]
  },
  {
   "cell_type": "code",
   "execution_count": 12,
   "metadata": {
    "ExecuteTime": {
     "end_time": "2020-12-26T02:47:23.083065Z",
     "start_time": "2020-12-26T02:47:23.067314Z"
    }
   },
   "outputs": [
    {
     "data": {
      "text/html": [
       "<div>\n",
       "<style scoped>\n",
       "    .dataframe tbody tr th:only-of-type {\n",
       "        vertical-align: middle;\n",
       "    }\n",
       "\n",
       "    .dataframe tbody tr th {\n",
       "        vertical-align: top;\n",
       "    }\n",
       "\n",
       "    .dataframe thead th {\n",
       "        text-align: right;\n",
       "    }\n",
       "</style>\n",
       "<table border=\"1\" class=\"dataframe\">\n",
       "  <thead>\n",
       "    <tr style=\"text-align: right;\">\n",
       "      <th></th>\n",
       "      <th>age</th>\n",
       "      <th>sex</th>\n",
       "      <th>chest pain type</th>\n",
       "      <th>resting bp s</th>\n",
       "      <th>cholesterol</th>\n",
       "      <th>fasting blood sugar</th>\n",
       "      <th>resting ecg</th>\n",
       "      <th>max heart rate</th>\n",
       "      <th>exercise angina</th>\n",
       "      <th>oldpeak</th>\n",
       "      <th>ST slope</th>\n",
       "      <th>target</th>\n",
       "    </tr>\n",
       "  </thead>\n",
       "  <tbody>\n",
       "    <tr>\n",
       "      <th>0</th>\n",
       "      <td>40</td>\n",
       "      <td>1</td>\n",
       "      <td>2</td>\n",
       "      <td>140</td>\n",
       "      <td>289</td>\n",
       "      <td>0</td>\n",
       "      <td>0</td>\n",
       "      <td>172</td>\n",
       "      <td>0</td>\n",
       "      <td>0.0</td>\n",
       "      <td>1</td>\n",
       "      <td>0</td>\n",
       "    </tr>\n",
       "    <tr>\n",
       "      <th>1</th>\n",
       "      <td>49</td>\n",
       "      <td>0</td>\n",
       "      <td>3</td>\n",
       "      <td>160</td>\n",
       "      <td>180</td>\n",
       "      <td>0</td>\n",
       "      <td>0</td>\n",
       "      <td>156</td>\n",
       "      <td>0</td>\n",
       "      <td>1.0</td>\n",
       "      <td>2</td>\n",
       "      <td>1</td>\n",
       "    </tr>\n",
       "    <tr>\n",
       "      <th>2</th>\n",
       "      <td>37</td>\n",
       "      <td>1</td>\n",
       "      <td>2</td>\n",
       "      <td>130</td>\n",
       "      <td>283</td>\n",
       "      <td>0</td>\n",
       "      <td>1</td>\n",
       "      <td>98</td>\n",
       "      <td>0</td>\n",
       "      <td>0.0</td>\n",
       "      <td>1</td>\n",
       "      <td>0</td>\n",
       "    </tr>\n",
       "    <tr>\n",
       "      <th>3</th>\n",
       "      <td>48</td>\n",
       "      <td>0</td>\n",
       "      <td>4</td>\n",
       "      <td>138</td>\n",
       "      <td>214</td>\n",
       "      <td>0</td>\n",
       "      <td>0</td>\n",
       "      <td>108</td>\n",
       "      <td>1</td>\n",
       "      <td>1.5</td>\n",
       "      <td>2</td>\n",
       "      <td>1</td>\n",
       "    </tr>\n",
       "    <tr>\n",
       "      <th>4</th>\n",
       "      <td>54</td>\n",
       "      <td>1</td>\n",
       "      <td>3</td>\n",
       "      <td>150</td>\n",
       "      <td>195</td>\n",
       "      <td>0</td>\n",
       "      <td>0</td>\n",
       "      <td>122</td>\n",
       "      <td>0</td>\n",
       "      <td>0.0</td>\n",
       "      <td>1</td>\n",
       "      <td>0</td>\n",
       "    </tr>\n",
       "  </tbody>\n",
       "</table>\n",
       "</div>"
      ],
      "text/plain": [
       "   age  sex  chest pain type  resting bp s  cholesterol  fasting blood sugar  \\\n",
       "0   40    1                2           140          289                    0   \n",
       "1   49    0                3           160          180                    0   \n",
       "2   37    1                2           130          283                    0   \n",
       "3   48    0                4           138          214                    0   \n",
       "4   54    1                3           150          195                    0   \n",
       "\n",
       "   resting ecg  max heart rate  exercise angina  oldpeak  ST slope  target  \n",
       "0            0             172                0      0.0         1       0  \n",
       "1            0             156                0      1.0         2       1  \n",
       "2            1              98                0      0.0         1       0  \n",
       "3            0             108                1      1.5         2       1  \n",
       "4            0             122                0      0.0         1       0  "
      ]
     },
     "execution_count": 12,
     "metadata": {},
     "output_type": "execute_result"
    }
   ],
   "source": [
    "heart_disease.head()"
   ]
  },
  {
   "cell_type": "code",
   "execution_count": 13,
   "metadata": {
    "ExecuteTime": {
     "end_time": "2020-12-26T02:47:24.028194Z",
     "start_time": "2020-12-26T02:47:24.020818Z"
    }
   },
   "outputs": [
    {
     "data": {
      "text/plain": [
       "1    629\n",
       "0    561\n",
       "Name: target, dtype: int64"
      ]
     },
     "execution_count": 13,
     "metadata": {},
     "output_type": "execute_result"
    }
   ],
   "source": [
    "heart_disease['target'].value_counts()\n",
    "#1 : heart disease, 0: normal"
   ]
  },
  {
   "cell_type": "code",
   "execution_count": 14,
   "metadata": {
    "ExecuteTime": {
     "end_time": "2020-12-26T02:47:24.869006Z",
     "start_time": "2020-12-26T02:47:24.809100Z"
    }
   },
   "outputs": [
    {
     "data": {
      "text/html": [
       "<div>\n",
       "<style scoped>\n",
       "    .dataframe tbody tr th:only-of-type {\n",
       "        vertical-align: middle;\n",
       "    }\n",
       "\n",
       "    .dataframe tbody tr th {\n",
       "        vertical-align: top;\n",
       "    }\n",
       "\n",
       "    .dataframe thead th {\n",
       "        text-align: right;\n",
       "    }\n",
       "</style>\n",
       "<table border=\"1\" class=\"dataframe\">\n",
       "  <thead>\n",
       "    <tr style=\"text-align: right;\">\n",
       "      <th></th>\n",
       "      <th>age</th>\n",
       "      <th>sex</th>\n",
       "      <th>chest pain type</th>\n",
       "      <th>resting bp s</th>\n",
       "      <th>cholesterol</th>\n",
       "      <th>fasting blood sugar</th>\n",
       "      <th>resting ecg</th>\n",
       "      <th>max heart rate</th>\n",
       "      <th>exercise angina</th>\n",
       "      <th>oldpeak</th>\n",
       "      <th>ST slope</th>\n",
       "      <th>target</th>\n",
       "    </tr>\n",
       "  </thead>\n",
       "  <tbody>\n",
       "    <tr>\n",
       "      <th>count</th>\n",
       "      <td>1190.000000</td>\n",
       "      <td>1190.000000</td>\n",
       "      <td>1190.000000</td>\n",
       "      <td>1190.000000</td>\n",
       "      <td>1190.000000</td>\n",
       "      <td>1190.000000</td>\n",
       "      <td>1190.000000</td>\n",
       "      <td>1190.000000</td>\n",
       "      <td>1190.000000</td>\n",
       "      <td>1190.000000</td>\n",
       "      <td>1190.000000</td>\n",
       "      <td>1190.000000</td>\n",
       "    </tr>\n",
       "    <tr>\n",
       "      <th>mean</th>\n",
       "      <td>53.720168</td>\n",
       "      <td>0.763866</td>\n",
       "      <td>3.232773</td>\n",
       "      <td>132.153782</td>\n",
       "      <td>210.363866</td>\n",
       "      <td>0.213445</td>\n",
       "      <td>0.698319</td>\n",
       "      <td>139.732773</td>\n",
       "      <td>0.387395</td>\n",
       "      <td>0.922773</td>\n",
       "      <td>1.624370</td>\n",
       "      <td>0.528571</td>\n",
       "    </tr>\n",
       "    <tr>\n",
       "      <th>std</th>\n",
       "      <td>9.358203</td>\n",
       "      <td>0.424884</td>\n",
       "      <td>0.935480</td>\n",
       "      <td>18.368823</td>\n",
       "      <td>101.420489</td>\n",
       "      <td>0.409912</td>\n",
       "      <td>0.870359</td>\n",
       "      <td>25.517636</td>\n",
       "      <td>0.487360</td>\n",
       "      <td>1.086337</td>\n",
       "      <td>0.610459</td>\n",
       "      <td>0.499393</td>\n",
       "    </tr>\n",
       "    <tr>\n",
       "      <th>min</th>\n",
       "      <td>28.000000</td>\n",
       "      <td>0.000000</td>\n",
       "      <td>1.000000</td>\n",
       "      <td>0.000000</td>\n",
       "      <td>0.000000</td>\n",
       "      <td>0.000000</td>\n",
       "      <td>0.000000</td>\n",
       "      <td>60.000000</td>\n",
       "      <td>0.000000</td>\n",
       "      <td>-2.600000</td>\n",
       "      <td>0.000000</td>\n",
       "      <td>0.000000</td>\n",
       "    </tr>\n",
       "    <tr>\n",
       "      <th>25%</th>\n",
       "      <td>47.000000</td>\n",
       "      <td>1.000000</td>\n",
       "      <td>3.000000</td>\n",
       "      <td>120.000000</td>\n",
       "      <td>188.000000</td>\n",
       "      <td>0.000000</td>\n",
       "      <td>0.000000</td>\n",
       "      <td>121.000000</td>\n",
       "      <td>0.000000</td>\n",
       "      <td>0.000000</td>\n",
       "      <td>1.000000</td>\n",
       "      <td>0.000000</td>\n",
       "    </tr>\n",
       "    <tr>\n",
       "      <th>50%</th>\n",
       "      <td>54.000000</td>\n",
       "      <td>1.000000</td>\n",
       "      <td>4.000000</td>\n",
       "      <td>130.000000</td>\n",
       "      <td>229.000000</td>\n",
       "      <td>0.000000</td>\n",
       "      <td>0.000000</td>\n",
       "      <td>140.500000</td>\n",
       "      <td>0.000000</td>\n",
       "      <td>0.600000</td>\n",
       "      <td>2.000000</td>\n",
       "      <td>1.000000</td>\n",
       "    </tr>\n",
       "    <tr>\n",
       "      <th>75%</th>\n",
       "      <td>60.000000</td>\n",
       "      <td>1.000000</td>\n",
       "      <td>4.000000</td>\n",
       "      <td>140.000000</td>\n",
       "      <td>269.750000</td>\n",
       "      <td>0.000000</td>\n",
       "      <td>2.000000</td>\n",
       "      <td>160.000000</td>\n",
       "      <td>1.000000</td>\n",
       "      <td>1.600000</td>\n",
       "      <td>2.000000</td>\n",
       "      <td>1.000000</td>\n",
       "    </tr>\n",
       "    <tr>\n",
       "      <th>max</th>\n",
       "      <td>77.000000</td>\n",
       "      <td>1.000000</td>\n",
       "      <td>4.000000</td>\n",
       "      <td>200.000000</td>\n",
       "      <td>603.000000</td>\n",
       "      <td>1.000000</td>\n",
       "      <td>2.000000</td>\n",
       "      <td>202.000000</td>\n",
       "      <td>1.000000</td>\n",
       "      <td>6.200000</td>\n",
       "      <td>3.000000</td>\n",
       "      <td>1.000000</td>\n",
       "    </tr>\n",
       "  </tbody>\n",
       "</table>\n",
       "</div>"
      ],
      "text/plain": [
       "               age          sex  chest pain type  resting bp s  cholesterol  \\\n",
       "count  1190.000000  1190.000000      1190.000000   1190.000000  1190.000000   \n",
       "mean     53.720168     0.763866         3.232773    132.153782   210.363866   \n",
       "std       9.358203     0.424884         0.935480     18.368823   101.420489   \n",
       "min      28.000000     0.000000         1.000000      0.000000     0.000000   \n",
       "25%      47.000000     1.000000         3.000000    120.000000   188.000000   \n",
       "50%      54.000000     1.000000         4.000000    130.000000   229.000000   \n",
       "75%      60.000000     1.000000         4.000000    140.000000   269.750000   \n",
       "max      77.000000     1.000000         4.000000    200.000000   603.000000   \n",
       "\n",
       "       fasting blood sugar  resting ecg  max heart rate  exercise angina  \\\n",
       "count          1190.000000  1190.000000     1190.000000      1190.000000   \n",
       "mean              0.213445     0.698319      139.732773         0.387395   \n",
       "std               0.409912     0.870359       25.517636         0.487360   \n",
       "min               0.000000     0.000000       60.000000         0.000000   \n",
       "25%               0.000000     0.000000      121.000000         0.000000   \n",
       "50%               0.000000     0.000000      140.500000         0.000000   \n",
       "75%               0.000000     2.000000      160.000000         1.000000   \n",
       "max               1.000000     2.000000      202.000000         1.000000   \n",
       "\n",
       "           oldpeak     ST slope       target  \n",
       "count  1190.000000  1190.000000  1190.000000  \n",
       "mean      0.922773     1.624370     0.528571  \n",
       "std       1.086337     0.610459     0.499393  \n",
       "min      -2.600000     0.000000     0.000000  \n",
       "25%       0.000000     1.000000     0.000000  \n",
       "50%       0.600000     2.000000     1.000000  \n",
       "75%       1.600000     2.000000     1.000000  \n",
       "max       6.200000     3.000000     1.000000  "
      ]
     },
     "execution_count": 14,
     "metadata": {},
     "output_type": "execute_result"
    }
   ],
   "source": [
    "heart_disease.describe()"
   ]
  },
  {
   "cell_type": "code",
   "execution_count": 15,
   "metadata": {
    "ExecuteTime": {
     "end_time": "2020-12-26T02:47:25.512515Z",
     "start_time": "2020-12-26T02:47:25.493216Z"
    }
   },
   "outputs": [
    {
     "data": {
      "text/html": [
       "<div>\n",
       "<style scoped>\n",
       "    .dataframe tbody tr th:only-of-type {\n",
       "        vertical-align: middle;\n",
       "    }\n",
       "\n",
       "    .dataframe tbody tr th {\n",
       "        vertical-align: top;\n",
       "    }\n",
       "\n",
       "    .dataframe thead th {\n",
       "        text-align: right;\n",
       "    }\n",
       "</style>\n",
       "<table border=\"1\" class=\"dataframe\">\n",
       "  <thead>\n",
       "    <tr style=\"text-align: right;\">\n",
       "      <th></th>\n",
       "      <th>age</th>\n",
       "      <th>sex</th>\n",
       "      <th>chest pain type</th>\n",
       "      <th>resting bp s</th>\n",
       "      <th>cholesterol</th>\n",
       "      <th>fasting blood sugar</th>\n",
       "      <th>resting ecg</th>\n",
       "      <th>max heart rate</th>\n",
       "      <th>exercise angina</th>\n",
       "      <th>oldpeak</th>\n",
       "      <th>ST slope</th>\n",
       "    </tr>\n",
       "    <tr>\n",
       "      <th>target</th>\n",
       "      <th></th>\n",
       "      <th></th>\n",
       "      <th></th>\n",
       "      <th></th>\n",
       "      <th></th>\n",
       "      <th></th>\n",
       "      <th></th>\n",
       "      <th></th>\n",
       "      <th></th>\n",
       "      <th></th>\n",
       "      <th></th>\n",
       "    </tr>\n",
       "  </thead>\n",
       "  <tbody>\n",
       "    <tr>\n",
       "      <th>0</th>\n",
       "      <td>51.124777</td>\n",
       "      <td>0.623886</td>\n",
       "      <td>2.777184</td>\n",
       "      <td>129.793226</td>\n",
       "      <td>231.657754</td>\n",
       "      <td>0.119430</td>\n",
       "      <td>0.631016</td>\n",
       "      <td>150.894831</td>\n",
       "      <td>0.139037</td>\n",
       "      <td>0.464706</td>\n",
       "      <td>1.297683</td>\n",
       "    </tr>\n",
       "    <tr>\n",
       "      <th>1</th>\n",
       "      <td>56.034976</td>\n",
       "      <td>0.888712</td>\n",
       "      <td>3.639110</td>\n",
       "      <td>134.259141</td>\n",
       "      <td>191.372019</td>\n",
       "      <td>0.297297</td>\n",
       "      <td>0.758347</td>\n",
       "      <td>129.777424</td>\n",
       "      <td>0.608903</td>\n",
       "      <td>1.331320</td>\n",
       "      <td>1.915739</td>\n",
       "    </tr>\n",
       "  </tbody>\n",
       "</table>\n",
       "</div>"
      ],
      "text/plain": [
       "              age       sex  chest pain type  resting bp s  cholesterol  \\\n",
       "target                                                                    \n",
       "0       51.124777  0.623886         2.777184    129.793226   231.657754   \n",
       "1       56.034976  0.888712         3.639110    134.259141   191.372019   \n",
       "\n",
       "        fasting blood sugar  resting ecg  max heart rate  exercise angina  \\\n",
       "target                                                                      \n",
       "0                  0.119430     0.631016      150.894831         0.139037   \n",
       "1                  0.297297     0.758347      129.777424         0.608903   \n",
       "\n",
       "         oldpeak  ST slope  \n",
       "target                      \n",
       "0       0.464706  1.297683  \n",
       "1       1.331320  1.915739  "
      ]
     },
     "execution_count": 15,
     "metadata": {},
     "output_type": "execute_result"
    }
   ],
   "source": [
    "heart_disease.groupby('target').mean()"
   ]
  },
  {
   "cell_type": "code",
   "execution_count": 16,
   "metadata": {
    "ExecuteTime": {
     "end_time": "2020-12-26T02:47:26.133208Z",
     "start_time": "2020-12-26T02:47:26.109078Z"
    }
   },
   "outputs": [
    {
     "data": {
      "text/html": [
       "<div>\n",
       "<style scoped>\n",
       "    .dataframe tbody tr th:only-of-type {\n",
       "        vertical-align: middle;\n",
       "    }\n",
       "\n",
       "    .dataframe tbody tr th {\n",
       "        vertical-align: top;\n",
       "    }\n",
       "\n",
       "    .dataframe thead th {\n",
       "        text-align: right;\n",
       "    }\n",
       "</style>\n",
       "<table border=\"1\" class=\"dataframe\">\n",
       "  <thead>\n",
       "    <tr style=\"text-align: right;\">\n",
       "      <th></th>\n",
       "      <th>age</th>\n",
       "      <th>sex</th>\n",
       "      <th>chest pain type</th>\n",
       "      <th>resting bp s</th>\n",
       "      <th>cholesterol</th>\n",
       "      <th>fasting blood sugar</th>\n",
       "      <th>resting ecg</th>\n",
       "      <th>max heart rate</th>\n",
       "      <th>exercise angina</th>\n",
       "      <th>oldpeak</th>\n",
       "      <th>ST slope</th>\n",
       "      <th>target</th>\n",
       "    </tr>\n",
       "  </thead>\n",
       "  <tbody>\n",
       "    <tr>\n",
       "      <th>age</th>\n",
       "      <td>1.000000</td>\n",
       "      <td>0.015096</td>\n",
       "      <td>0.149055</td>\n",
       "      <td>0.257692</td>\n",
       "      <td>-0.046472</td>\n",
       "      <td>0.178923</td>\n",
       "      <td>0.194595</td>\n",
       "      <td>-0.368676</td>\n",
       "      <td>0.188095</td>\n",
       "      <td>0.245093</td>\n",
       "      <td>0.237749</td>\n",
       "      <td>0.262029</td>\n",
       "    </tr>\n",
       "    <tr>\n",
       "      <th>sex</th>\n",
       "      <td>0.015096</td>\n",
       "      <td>1.000000</td>\n",
       "      <td>0.138405</td>\n",
       "      <td>-0.006443</td>\n",
       "      <td>-0.208441</td>\n",
       "      <td>0.110961</td>\n",
       "      <td>-0.022225</td>\n",
       "      <td>-0.181837</td>\n",
       "      <td>0.194380</td>\n",
       "      <td>0.096390</td>\n",
       "      <td>0.127913</td>\n",
       "      <td>0.311267</td>\n",
       "    </tr>\n",
       "    <tr>\n",
       "      <th>chest pain type</th>\n",
       "      <td>0.149055</td>\n",
       "      <td>0.138405</td>\n",
       "      <td>1.000000</td>\n",
       "      <td>0.009466</td>\n",
       "      <td>-0.109396</td>\n",
       "      <td>0.076492</td>\n",
       "      <td>0.035705</td>\n",
       "      <td>-0.337491</td>\n",
       "      <td>0.403428</td>\n",
       "      <td>0.224106</td>\n",
       "      <td>0.276949</td>\n",
       "      <td>0.460127</td>\n",
       "    </tr>\n",
       "    <tr>\n",
       "      <th>resting bp s</th>\n",
       "      <td>0.257692</td>\n",
       "      <td>-0.006443</td>\n",
       "      <td>0.009466</td>\n",
       "      <td>1.000000</td>\n",
       "      <td>0.099037</td>\n",
       "      <td>0.088235</td>\n",
       "      <td>0.095860</td>\n",
       "      <td>-0.101357</td>\n",
       "      <td>0.142435</td>\n",
       "      <td>0.176111</td>\n",
       "      <td>0.089384</td>\n",
       "      <td>0.121415</td>\n",
       "    </tr>\n",
       "    <tr>\n",
       "      <th>cholesterol</th>\n",
       "      <td>-0.046472</td>\n",
       "      <td>-0.208441</td>\n",
       "      <td>-0.109396</td>\n",
       "      <td>0.099037</td>\n",
       "      <td>1.000000</td>\n",
       "      <td>-0.239778</td>\n",
       "      <td>0.150879</td>\n",
       "      <td>0.238028</td>\n",
       "      <td>-0.033261</td>\n",
       "      <td>0.057451</td>\n",
       "      <td>-0.100053</td>\n",
       "      <td>-0.198366</td>\n",
       "    </tr>\n",
       "    <tr>\n",
       "      <th>fasting blood sugar</th>\n",
       "      <td>0.178923</td>\n",
       "      <td>0.110961</td>\n",
       "      <td>0.076492</td>\n",
       "      <td>0.088235</td>\n",
       "      <td>-0.239778</td>\n",
       "      <td>1.000000</td>\n",
       "      <td>0.032124</td>\n",
       "      <td>-0.118689</td>\n",
       "      <td>0.053053</td>\n",
       "      <td>0.031193</td>\n",
       "      <td>0.145902</td>\n",
       "      <td>0.216695</td>\n",
       "    </tr>\n",
       "    <tr>\n",
       "      <th>resting ecg</th>\n",
       "      <td>0.194595</td>\n",
       "      <td>-0.022225</td>\n",
       "      <td>0.035705</td>\n",
       "      <td>0.095860</td>\n",
       "      <td>0.150879</td>\n",
       "      <td>0.032124</td>\n",
       "      <td>1.000000</td>\n",
       "      <td>0.058812</td>\n",
       "      <td>0.037821</td>\n",
       "      <td>0.126023</td>\n",
       "      <td>0.093629</td>\n",
       "      <td>0.073059</td>\n",
       "    </tr>\n",
       "    <tr>\n",
       "      <th>max heart rate</th>\n",
       "      <td>-0.368676</td>\n",
       "      <td>-0.181837</td>\n",
       "      <td>-0.337491</td>\n",
       "      <td>-0.101357</td>\n",
       "      <td>0.238028</td>\n",
       "      <td>-0.118689</td>\n",
       "      <td>0.058812</td>\n",
       "      <td>1.000000</td>\n",
       "      <td>-0.377691</td>\n",
       "      <td>-0.183688</td>\n",
       "      <td>-0.350750</td>\n",
       "      <td>-0.413278</td>\n",
       "    </tr>\n",
       "    <tr>\n",
       "      <th>exercise angina</th>\n",
       "      <td>0.188095</td>\n",
       "      <td>0.194380</td>\n",
       "      <td>0.403428</td>\n",
       "      <td>0.142435</td>\n",
       "      <td>-0.033261</td>\n",
       "      <td>0.053053</td>\n",
       "      <td>0.037821</td>\n",
       "      <td>-0.377691</td>\n",
       "      <td>1.000000</td>\n",
       "      <td>0.370772</td>\n",
       "      <td>0.393408</td>\n",
       "      <td>0.481467</td>\n",
       "    </tr>\n",
       "    <tr>\n",
       "      <th>oldpeak</th>\n",
       "      <td>0.245093</td>\n",
       "      <td>0.096390</td>\n",
       "      <td>0.224106</td>\n",
       "      <td>0.176111</td>\n",
       "      <td>0.057451</td>\n",
       "      <td>0.031193</td>\n",
       "      <td>0.126023</td>\n",
       "      <td>-0.183688</td>\n",
       "      <td>0.370772</td>\n",
       "      <td>1.000000</td>\n",
       "      <td>0.524639</td>\n",
       "      <td>0.398385</td>\n",
       "    </tr>\n",
       "    <tr>\n",
       "      <th>ST slope</th>\n",
       "      <td>0.237749</td>\n",
       "      <td>0.127913</td>\n",
       "      <td>0.276949</td>\n",
       "      <td>0.089384</td>\n",
       "      <td>-0.100053</td>\n",
       "      <td>0.145902</td>\n",
       "      <td>0.093629</td>\n",
       "      <td>-0.350750</td>\n",
       "      <td>0.393408</td>\n",
       "      <td>0.524639</td>\n",
       "      <td>1.000000</td>\n",
       "      <td>0.505608</td>\n",
       "    </tr>\n",
       "    <tr>\n",
       "      <th>target</th>\n",
       "      <td>0.262029</td>\n",
       "      <td>0.311267</td>\n",
       "      <td>0.460127</td>\n",
       "      <td>0.121415</td>\n",
       "      <td>-0.198366</td>\n",
       "      <td>0.216695</td>\n",
       "      <td>0.073059</td>\n",
       "      <td>-0.413278</td>\n",
       "      <td>0.481467</td>\n",
       "      <td>0.398385</td>\n",
       "      <td>0.505608</td>\n",
       "      <td>1.000000</td>\n",
       "    </tr>\n",
       "  </tbody>\n",
       "</table>\n",
       "</div>"
      ],
      "text/plain": [
       "                          age       sex  chest pain type  resting bp s  \\\n",
       "age                  1.000000  0.015096         0.149055      0.257692   \n",
       "sex                  0.015096  1.000000         0.138405     -0.006443   \n",
       "chest pain type      0.149055  0.138405         1.000000      0.009466   \n",
       "resting bp s         0.257692 -0.006443         0.009466      1.000000   \n",
       "cholesterol         -0.046472 -0.208441        -0.109396      0.099037   \n",
       "fasting blood sugar  0.178923  0.110961         0.076492      0.088235   \n",
       "resting ecg          0.194595 -0.022225         0.035705      0.095860   \n",
       "max heart rate      -0.368676 -0.181837        -0.337491     -0.101357   \n",
       "exercise angina      0.188095  0.194380         0.403428      0.142435   \n",
       "oldpeak              0.245093  0.096390         0.224106      0.176111   \n",
       "ST slope             0.237749  0.127913         0.276949      0.089384   \n",
       "target               0.262029  0.311267         0.460127      0.121415   \n",
       "\n",
       "                     cholesterol  fasting blood sugar  resting ecg  \\\n",
       "age                    -0.046472             0.178923     0.194595   \n",
       "sex                    -0.208441             0.110961    -0.022225   \n",
       "chest pain type        -0.109396             0.076492     0.035705   \n",
       "resting bp s            0.099037             0.088235     0.095860   \n",
       "cholesterol             1.000000            -0.239778     0.150879   \n",
       "fasting blood sugar    -0.239778             1.000000     0.032124   \n",
       "resting ecg             0.150879             0.032124     1.000000   \n",
       "max heart rate          0.238028            -0.118689     0.058812   \n",
       "exercise angina        -0.033261             0.053053     0.037821   \n",
       "oldpeak                 0.057451             0.031193     0.126023   \n",
       "ST slope               -0.100053             0.145902     0.093629   \n",
       "target                 -0.198366             0.216695     0.073059   \n",
       "\n",
       "                     max heart rate  exercise angina   oldpeak  ST slope  \\\n",
       "age                       -0.368676         0.188095  0.245093  0.237749   \n",
       "sex                       -0.181837         0.194380  0.096390  0.127913   \n",
       "chest pain type           -0.337491         0.403428  0.224106  0.276949   \n",
       "resting bp s              -0.101357         0.142435  0.176111  0.089384   \n",
       "cholesterol                0.238028        -0.033261  0.057451 -0.100053   \n",
       "fasting blood sugar       -0.118689         0.053053  0.031193  0.145902   \n",
       "resting ecg                0.058812         0.037821  0.126023  0.093629   \n",
       "max heart rate             1.000000        -0.377691 -0.183688 -0.350750   \n",
       "exercise angina           -0.377691         1.000000  0.370772  0.393408   \n",
       "oldpeak                   -0.183688         0.370772  1.000000  0.524639   \n",
       "ST slope                  -0.350750         0.393408  0.524639  1.000000   \n",
       "target                    -0.413278         0.481467  0.398385  0.505608   \n",
       "\n",
       "                       target  \n",
       "age                  0.262029  \n",
       "sex                  0.311267  \n",
       "chest pain type      0.460127  \n",
       "resting bp s         0.121415  \n",
       "cholesterol         -0.198366  \n",
       "fasting blood sugar  0.216695  \n",
       "resting ecg          0.073059  \n",
       "max heart rate      -0.413278  \n",
       "exercise angina      0.481467  \n",
       "oldpeak              0.398385  \n",
       "ST slope             0.505608  \n",
       "target               1.000000  "
      ]
     },
     "execution_count": 16,
     "metadata": {},
     "output_type": "execute_result"
    }
   ],
   "source": [
    "#Correlation matrix\n",
    "heart_disease.corr()"
   ]
  },
  {
   "cell_type": "code",
   "execution_count": 17,
   "metadata": {
    "ExecuteTime": {
     "end_time": "2020-12-26T02:47:26.848804Z",
     "start_time": "2020-12-26T02:47:26.842555Z"
    }
   },
   "outputs": [],
   "source": [
    "def describe_cont_feature(feature):\n",
    "    print('\\n*** Results for {} ***'.format(feature))\n",
    "    print(heart_disease.groupby('target')[feature].describe())\n",
    "    print(ttest(feature))\n",
    "    \n",
    "def ttest(feature):\n",
    "    disease_positive = heart_disease[heart_disease['target']==1][feature]\n",
    "    disease_negative = heart_disease[heart_disease['target']==0][feature]\n",
    "    tstat, pval = stats.ttest_ind(disease_positive, disease_negative, equal_var=False)\n",
    "    print('t-statistic: {:.1f}, p-value: {:.3}'.format(tstat, pval))"
   ]
  },
  {
   "cell_type": "code",
   "execution_count": 18,
   "metadata": {
    "ExecuteTime": {
     "end_time": "2020-12-26T02:47:27.798325Z",
     "start_time": "2020-12-26T02:47:27.792293Z"
    }
   },
   "outputs": [
    {
     "data": {
      "text/plain": [
       "['age',\n",
       " 'sex',\n",
       " 'chest pain type',\n",
       " 'resting bp s',\n",
       " 'cholesterol',\n",
       " 'fasting blood sugar',\n",
       " 'resting ecg',\n",
       " 'max heart rate',\n",
       " 'exercise angina',\n",
       " 'oldpeak',\n",
       " 'ST slope']"
      ]
     },
     "execution_count": 18,
     "metadata": {},
     "output_type": "execute_result"
    }
   ],
   "source": [
    "features = list(heart_disease.columns)\n",
    "features.remove('target')\n",
    "features"
   ]
  },
  {
   "cell_type": "code",
   "execution_count": null,
   "metadata": {},
   "outputs": [],
   "source": []
  },
  {
   "cell_type": "code",
   "execution_count": 19,
   "metadata": {
    "ExecuteTime": {
     "end_time": "2020-12-26T02:47:29.434587Z",
     "start_time": "2020-12-26T02:47:29.247001Z"
    }
   },
   "outputs": [
    {
     "name": "stdout",
     "output_type": "stream",
     "text": [
      "\n",
      "*** Results for age ***\n",
      "        count       mean       std   min   25%   50%   75%   max\n",
      "target                                                          \n",
      "0       561.0  51.124777  9.493914  28.0  44.0  51.0  57.0  76.0\n",
      "1       629.0  56.034976  8.605215  31.0  51.0  57.0  62.0  77.0\n",
      "t-statistic: 9.3, p-value: 6.61e-20\n",
      "None\n",
      "\n",
      "*** Results for sex ***\n",
      "        count      mean       std  min  25%  50%  75%  max\n",
      "target                                                    \n",
      "0       561.0  0.623886  0.484842  0.0  0.0  1.0  1.0  1.0\n",
      "1       629.0  0.888712  0.314738  0.0  1.0  1.0  1.0  1.0\n",
      "t-statistic: 11.0, p-value: 1.09e-26\n",
      "None\n",
      "\n",
      "*** Results for chest pain type ***\n",
      "        count      mean       std  min  25%  50%  75%  max\n",
      "target                                                    \n",
      "0       561.0  2.777184  0.909423  1.0  2.0  3.0  4.0  4.0\n",
      "1       629.0  3.639110  0.754053  1.0  4.0  4.0  4.0  4.0\n",
      "t-statistic: 17.7, p-value: 1.13e-61\n",
      "None\n",
      "\n",
      "*** Results for resting bp s ***\n",
      "        count        mean        std   min    25%    50%    75%    max\n",
      "target                                                                \n",
      "0       561.0  129.793226  16.490474  80.0  120.0  130.0  140.0  190.0\n",
      "1       629.0  134.259141  19.670323   0.0  120.0  132.0  145.0  200.0\n",
      "t-statistic: 4.3, p-value: 2.22e-05\n",
      "None\n",
      "\n",
      "*** Results for cholesterol ***\n",
      "        count        mean         std  min    25%    50%    75%    max\n",
      "target                                                                \n",
      "0       561.0  231.657754   70.021658  0.0  201.0  232.0  268.0  564.0\n",
      "1       629.0  191.372019  119.734612  0.0  126.0  226.0  274.0  603.0\n",
      "t-statistic: -7.2, p-value: 1.39e-12\n",
      "None\n",
      "\n",
      "*** Results for fasting blood sugar ***\n",
      "        count      mean       std  min  25%  50%  75%  max\n",
      "target                                                    \n",
      "0       561.0  0.119430  0.324583  0.0  0.0  0.0  0.0  1.0\n",
      "1       629.0  0.297297  0.457432  0.0  0.0  0.0  1.0  1.0\n",
      "t-statistic: 7.8, p-value: 1.44e-14\n",
      "None\n",
      "\n",
      "*** Results for resting ecg ***\n",
      "        count      mean       std  min  25%  50%  75%  max\n",
      "target                                                    \n",
      "0       561.0  0.631016  0.868723  0.0  0.0  0.0  2.0  2.0\n",
      "1       629.0  0.758347  0.868109  0.0  0.0  0.0  2.0  2.0\n",
      "t-statistic: 2.5, p-value: 0.0117\n",
      "None\n",
      "\n",
      "*** Results for max heart rate ***\n",
      "        count        mean        std   min    25%    50%    75%    max\n",
      "target                                                                \n",
      "0       561.0  150.894831  22.704971  69.0  137.0  154.0  169.0  202.0\n",
      "1       629.0  129.777424  23.718521  60.0  113.0  128.0  147.0  195.0\n",
      "t-statistic: -15.7, p-value: 1.7e-50\n",
      "None\n",
      "\n",
      "*** Results for exercise angina ***\n",
      "        count      mean       std  min  25%  50%  75%  max\n",
      "target                                                    \n",
      "0       561.0  0.139037  0.346294  0.0  0.0  0.0  0.0  1.0\n",
      "1       629.0  0.608903  0.488384  0.0  0.0  1.0  1.0  1.0\n",
      "t-statistic: 19.3, p-value: 6e-72\n",
      "None\n",
      "\n",
      "*** Results for oldpeak ***\n",
      "        count      mean       std  min  25%  50%  75%  max\n",
      "target                                                    \n",
      "0       561.0  0.464706  0.733243 -1.1  0.0  0.0  0.8  4.2\n",
      "1       629.0  1.331320  1.183346 -2.6  0.1  1.2  2.0  6.2\n",
      "t-statistic: 15.4, p-value: 3.18e-48\n",
      "None\n",
      "\n",
      "*** Results for ST slope ***\n",
      "        count      mean       std  min  25%  50%  75%  max\n",
      "target                                                    \n",
      "0       561.0  1.297683  0.536668  1.0  1.0  1.0  2.0  3.0\n",
      "1       629.0  1.915739  0.518041  0.0  2.0  2.0  2.0  3.0\n",
      "t-statistic: 20.2, p-value: 9.85e-78\n",
      "None\n"
     ]
    }
   ],
   "source": [
    "# Look at the distribution of each feature at each level of the target variable\n",
    "for feature in features:\n",
    "    describe_cont_feature(feature)"
   ]
  },
  {
   "cell_type": "markdown",
   "metadata": {},
   "source": [
    "## Plot continous features"
   ]
  },
  {
   "cell_type": "code",
   "execution_count": 20,
   "metadata": {
    "ExecuteTime": {
     "end_time": "2020-12-26T02:47:30.741814Z",
     "start_time": "2020-12-26T02:47:30.735251Z"
    }
   },
   "outputs": [
    {
     "name": "stdout",
     "output_type": "stream",
     "text": [
      "['age', 'resting bp s', 'cholesterol', 'max heart rate', 'oldpeak']\n"
     ]
    }
   ],
   "source": [
    "# Plot overlaid histograms for continuous features\n",
    "non_continous_features = ['sex', 'chest pain type','fasting blood sugar','resting ecg','exercise angina','ST slope']\n",
    "continous_features = features\n",
    "for feature in non_continous_features:\n",
    "    continous_features.remove(feature)\n",
    "print(continous_features)"
   ]
  },
  {
   "cell_type": "code",
   "execution_count": 21,
   "metadata": {
    "ExecuteTime": {
     "end_time": "2020-12-26T02:47:34.288049Z",
     "start_time": "2020-12-26T02:47:31.821467Z"
    }
   },
   "outputs": [
    {
     "data": {
      "image/png": "[encoded data removed]",
      "text/plain": [
       "<Figure size 432x288 with 1 Axes>"
      ]
     },
     "metadata": {
      "needs_background": "light"
     },
     "output_type": "display_data"
    },
    {
     "data": {
      "image/png": "[encoded data removed]",
      "text/plain": [
       "<Figure size 432x288 with 1 Axes>"
      ]
     },
     "metadata": {
      "needs_background": "light"
     },
     "output_type": "display_data"
    },
    {
     "data": {
      "image/png": "[encoded data removed]",
      "text/plain": [
       "<Figure size 432x288 with 1 Axes>"
      ]
     },
     "metadata": {
      "needs_background": "light"
     },
     "output_type": "display_data"
    },
    {
     "data": {
      "image/png": "[encoded data removed]",
      "text/plain": [
       "<Figure size 432x288 with 1 Axes>"
      ]
     },
     "metadata": {
      "needs_background": "light"
     },
     "output_type": "display_data"
    },
    {
     "data": {
      "image/png": "[encoded data removed]",
      "text/plain": [
       "<Figure size 432x288 with 1 Axes>"
      ]
     },
     "metadata": {
      "needs_background": "light"
     },
     "output_type": "display_data"
    }
   ],
   "source": [
    "import warnings\n",
    "warnings.filterwarnings(\"ignore\")\n",
    "for i in continous_features:\n",
    "    normal = list(heart_disease[heart_disease['target'] == 0][i].dropna())\n",
    "    disease = list(heart_disease[heart_disease['target'] == 1][i].dropna())\n",
    "    xmin = min(min(normal), min(disease))\n",
    "    xmax = max(max(normal), max(disease))\n",
    "    width = (xmax - xmin) / 40\n",
    "    sns.distplot(normal, color='g', kde=False, bins=np.arange(xmin, xmax, width))\n",
    "    sns.distplot(disease, color='r', kde=False, bins=np.arange(xmin, xmax, width))\n",
    "    plt.legend(['normal', 'heart disease'])\n",
    "    plt.title('Overlaid histogram for {}'.format(i))\n",
    "    plt.show()"
   ]
  },
  {
   "cell_type": "markdown",
   "metadata": {},
   "source": [
    "## Plot categorical features "
   ]
  },
  {
   "cell_type": "code",
   "execution_count": 22,
   "metadata": {
    "ExecuteTime": {
     "end_time": "2020-12-26T02:47:36.775950Z",
     "start_time": "2020-12-26T02:47:34.290672Z"
    }
   },
   "outputs": [
    {
     "data": {
      "image/png": "[encoded data removed]",
      "text/plain": [
       "<Figure size 360x360 with 1 Axes>"
      ]
     },
     "metadata": {
      "needs_background": "light"
     },
     "output_type": "display_data"
    },
    {
     "data": {
      "image/png": "[encoded data removed]",
      "text/plain": [
       "<Figure size 360x360 with 1 Axes>"
      ]
     },
     "metadata": {
      "needs_background": "light"
     },
     "output_type": "display_data"
    },
    {
     "data": {
      "image/png": "[encoded data removed]",
      "text/plain": [
       "<Figure size 360x360 with 1 Axes>"
      ]
     },
     "metadata": {
      "needs_background": "light"
     },
     "output_type": "display_data"
    },
    {
     "data": {
      "image/png": "[encoded data removed]",
      "text/plain": [
       "<Figure size 360x360 with 1 Axes>"
      ]
     },
     "metadata": {
      "needs_background": "light"
     },
     "output_type": "display_data"
    },
    {
     "data": {
      "image/png": "[encoded data removed]",
      "text/plain": [
       "<Figure size 360x360 with 1 Axes>"
      ]
     },
     "metadata": {
      "needs_background": "light"
     },
     "output_type": "display_data"
    },
    {
     "data": {
      "image/png": "[encoded data removed]",
      "text/plain": [
       "<Figure size 360x360 with 1 Axes>"
      ]
     },
     "metadata": {
      "needs_background": "light"
     },
     "output_type": "display_data"
    }
   ],
   "source": [
    "# Generate categorical plots for ordinal features\n",
    "for col in non_continous_features:\n",
    "    sns.catplot(x=col, y='target', data=heart_disease, kind='point', aspect=1, )\n",
    "    plt.ylim(0, 1)"
   ]
  },
  {
   "cell_type": "code",
   "execution_count": 23,
   "metadata": {
    "ExecuteTime": {
     "end_time": "2020-12-26T02:47:36.807181Z",
     "start_time": "2020-12-26T02:47:36.778323Z"
    }
   },
   "outputs": [
    {
     "name": "stdout",
     "output_type": "stream",
     "text": [
      "       target\n",
      "sex          \n",
      "0    0.249110\n",
      "1    0.614961\n",
      "                   target\n",
      "chest pain type          \n",
      "1                0.378788\n",
      "2                0.143519\n",
      "3                0.318021\n",
      "4                0.772800\n",
      "                       target\n",
      "fasting blood sugar          \n",
      "0                    0.472222\n",
      "1                    0.736220\n",
      "               target\n",
      "resting ecg          \n",
      "0            0.483918\n",
      "1            0.657459\n",
      "2            0.550769\n",
      "                   target\n",
      "exercise angina          \n",
      "0                0.337449\n",
      "1                0.830803\n",
      "            target\n",
      "ST slope          \n",
      "0         1.000000\n",
      "1         0.209125\n",
      "2         0.788660\n",
      "3         0.728395\n"
     ]
    }
   ],
   "source": [
    "for col in non_continous_features:\n",
    "    heart_disease_copy = heart_disease.filter(['target',col], axis=1)\n",
    "    #heart_disease_copy = heart_disease['target', col]\n",
    "    \n",
    "    print(heart_disease_copy.groupby(col).mean())"
   ]
  },
  {
   "cell_type": "markdown",
   "metadata": {},
   "source": [
    "## Detect and clean outliers "
   ]
  },
  {
   "cell_type": "code",
   "execution_count": 24,
   "metadata": {
    "ExecuteTime": {
     "end_time": "2020-12-26T02:47:39.846216Z",
     "start_time": "2020-12-26T02:47:39.838495Z"
    }
   },
   "outputs": [],
   "source": [
    "def detect_outlier(feature):\n",
    "    outliers = []\n",
    "    data = heart_disease[feature]\n",
    "    mean = np.mean(data)\n",
    "    std =np.std(data)\n",
    "    \n",
    "    \n",
    "    for y in data:\n",
    "        z_score= (y - mean)/std \n",
    "        if np.abs(z_score) > 3:\n",
    "            outliers.append(y)\n",
    "    print('\\nOutlier caps for {}:'.format(feature))\n",
    "    print('  --95p: {:.1f} / {} values exceed that'.format(data.quantile(.95),\n",
    "                                                             len([i for i in data\n",
    "                                                                  if i > data.quantile(.95)])))\n",
    "    print('  --3sd: {:.1f} / {} values exceed that'.format(mean + 3*(std), len(outliers)))\n",
    "    print('  --99p: {:.1f} / {} values exceed that'.format(data.quantile(.99),\n",
    "                                                           len([i for i in data\n",
    "                                                                if i > data.quantile(.99)])))"
   ]
  },
  {
   "cell_type": "code",
   "execution_count": 25,
   "metadata": {
    "ExecuteTime": {
     "end_time": "2020-12-26T02:47:53.425554Z",
     "start_time": "2020-12-26T02:47:42.892219Z"
    }
   },
   "outputs": [
    {
     "name": "stdout",
     "output_type": "stream",
     "text": [
      "\n",
      "Outlier caps for age:\n",
      "  --95p: 68.0 / 57 values exceed that\n",
      "  --3sd: 81.8 / 0 values exceed that\n",
      "  --99p: 74.0 / 9 values exceed that\n",
      "\n",
      "Outlier caps for resting bp s:\n",
      "  --95p: 160.0 / 55 values exceed that\n",
      "  --3sd: 187.2 / 10 values exceed that\n",
      "  --99p: 180.0 / 10 values exceed that\n",
      "\n",
      "Outlier caps for cholesterol:\n",
      "  --95p: 330.0 / 58 values exceed that\n",
      "  --3sd: 514.5 / 5 values exceed that\n",
      "  --99p: 409.3 / 12 values exceed that\n",
      "\n",
      "Outlier caps for max heart rate:\n",
      "  --95p: 179.0 / 56 values exceed that\n",
      "  --3sd: 216.3 / 2 values exceed that\n",
      "  --99p: 188.0 / 11 values exceed that\n",
      "\n",
      "Outlier caps for oldpeak:\n",
      "  --95p: 3.0 / 45 values exceed that\n",
      "  --3sd: 4.2 / 11 values exceed that\n",
      "  --99p: 4.0 / 10 values exceed that\n"
     ]
    }
   ],
   "source": [
    "for feature in continous_features:\n",
    "    detect_outlier(feature)"
   ]
  },
  {
   "cell_type": "code",
   "execution_count": 26,
   "metadata": {
    "ExecuteTime": {
     "end_time": "2020-12-26T02:47:54.569319Z",
     "start_time": "2020-12-26T02:47:54.513372Z"
    }
   },
   "outputs": [
    {
     "data": {
      "text/html": [
       "<div>\n",
       "<style scoped>\n",
       "    .dataframe tbody tr th:only-of-type {\n",
       "        vertical-align: middle;\n",
       "    }\n",
       "\n",
       "    .dataframe tbody tr th {\n",
       "        vertical-align: top;\n",
       "    }\n",
       "\n",
       "    .dataframe thead th {\n",
       "        text-align: right;\n",
       "    }\n",
       "</style>\n",
       "<table border=\"1\" class=\"dataframe\">\n",
       "  <thead>\n",
       "    <tr style=\"text-align: right;\">\n",
       "      <th></th>\n",
       "      <th>age</th>\n",
       "      <th>sex</th>\n",
       "      <th>chest pain type</th>\n",
       "      <th>resting bp s</th>\n",
       "      <th>cholesterol</th>\n",
       "      <th>fasting blood sugar</th>\n",
       "      <th>resting ecg</th>\n",
       "      <th>max heart rate</th>\n",
       "      <th>exercise angina</th>\n",
       "      <th>oldpeak</th>\n",
       "      <th>ST slope</th>\n",
       "      <th>target</th>\n",
       "    </tr>\n",
       "  </thead>\n",
       "  <tbody>\n",
       "    <tr>\n",
       "      <th>count</th>\n",
       "      <td>1190.000000</td>\n",
       "      <td>1190.000000</td>\n",
       "      <td>1190.000000</td>\n",
       "      <td>1190.000000</td>\n",
       "      <td>1190.000000</td>\n",
       "      <td>1190.000000</td>\n",
       "      <td>1190.000000</td>\n",
       "      <td>1190.000000</td>\n",
       "      <td>1190.000000</td>\n",
       "      <td>1190.000000</td>\n",
       "      <td>1190.000000</td>\n",
       "      <td>1190.000000</td>\n",
       "    </tr>\n",
       "    <tr>\n",
       "      <th>mean</th>\n",
       "      <td>53.720168</td>\n",
       "      <td>0.763866</td>\n",
       "      <td>3.232773</td>\n",
       "      <td>132.153782</td>\n",
       "      <td>210.363866</td>\n",
       "      <td>0.213445</td>\n",
       "      <td>0.698319</td>\n",
       "      <td>139.732773</td>\n",
       "      <td>0.387395</td>\n",
       "      <td>0.922773</td>\n",
       "      <td>1.624370</td>\n",
       "      <td>0.528571</td>\n",
       "    </tr>\n",
       "    <tr>\n",
       "      <th>std</th>\n",
       "      <td>9.358203</td>\n",
       "      <td>0.424884</td>\n",
       "      <td>0.935480</td>\n",
       "      <td>18.368823</td>\n",
       "      <td>101.420489</td>\n",
       "      <td>0.409912</td>\n",
       "      <td>0.870359</td>\n",
       "      <td>25.517636</td>\n",
       "      <td>0.487360</td>\n",
       "      <td>1.086337</td>\n",
       "      <td>0.610459</td>\n",
       "      <td>0.499393</td>\n",
       "    </tr>\n",
       "    <tr>\n",
       "      <th>min</th>\n",
       "      <td>28.000000</td>\n",
       "      <td>0.000000</td>\n",
       "      <td>1.000000</td>\n",
       "      <td>0.000000</td>\n",
       "      <td>0.000000</td>\n",
       "      <td>0.000000</td>\n",
       "      <td>0.000000</td>\n",
       "      <td>60.000000</td>\n",
       "      <td>0.000000</td>\n",
       "      <td>-2.600000</td>\n",
       "      <td>0.000000</td>\n",
       "      <td>0.000000</td>\n",
       "    </tr>\n",
       "    <tr>\n",
       "      <th>25%</th>\n",
       "      <td>47.000000</td>\n",
       "      <td>1.000000</td>\n",
       "      <td>3.000000</td>\n",
       "      <td>120.000000</td>\n",
       "      <td>188.000000</td>\n",
       "      <td>0.000000</td>\n",
       "      <td>0.000000</td>\n",
       "      <td>121.000000</td>\n",
       "      <td>0.000000</td>\n",
       "      <td>0.000000</td>\n",
       "      <td>1.000000</td>\n",
       "      <td>0.000000</td>\n",
       "    </tr>\n",
       "    <tr>\n",
       "      <th>50%</th>\n",
       "      <td>54.000000</td>\n",
       "      <td>1.000000</td>\n",
       "      <td>4.000000</td>\n",
       "      <td>130.000000</td>\n",
       "      <td>229.000000</td>\n",
       "      <td>0.000000</td>\n",
       "      <td>0.000000</td>\n",
       "      <td>140.500000</td>\n",
       "      <td>0.000000</td>\n",
       "      <td>0.600000</td>\n",
       "      <td>2.000000</td>\n",
       "      <td>1.000000</td>\n",
       "    </tr>\n",
       "    <tr>\n",
       "      <th>75%</th>\n",
       "      <td>60.000000</td>\n",
       "      <td>1.000000</td>\n",
       "      <td>4.000000</td>\n",
       "      <td>140.000000</td>\n",
       "      <td>269.750000</td>\n",
       "      <td>0.000000</td>\n",
       "      <td>2.000000</td>\n",
       "      <td>160.000000</td>\n",
       "      <td>1.000000</td>\n",
       "      <td>1.600000</td>\n",
       "      <td>2.000000</td>\n",
       "      <td>1.000000</td>\n",
       "    </tr>\n",
       "    <tr>\n",
       "      <th>max</th>\n",
       "      <td>77.000000</td>\n",
       "      <td>1.000000</td>\n",
       "      <td>4.000000</td>\n",
       "      <td>200.000000</td>\n",
       "      <td>603.000000</td>\n",
       "      <td>1.000000</td>\n",
       "      <td>2.000000</td>\n",
       "      <td>202.000000</td>\n",
       "      <td>1.000000</td>\n",
       "      <td>6.200000</td>\n",
       "      <td>3.000000</td>\n",
       "      <td>1.000000</td>\n",
       "    </tr>\n",
       "  </tbody>\n",
       "</table>\n",
       "</div>"
      ],
      "text/plain": [
       "               age          sex  chest pain type  resting bp s  cholesterol  \\\n",
       "count  1190.000000  1190.000000      1190.000000   1190.000000  1190.000000   \n",
       "mean     53.720168     0.763866         3.232773    132.153782   210.363866   \n",
       "std       9.358203     0.424884         0.935480     18.368823   101.420489   \n",
       "min      28.000000     0.000000         1.000000      0.000000     0.000000   \n",
       "25%      47.000000     1.000000         3.000000    120.000000   188.000000   \n",
       "50%      54.000000     1.000000         4.000000    130.000000   229.000000   \n",
       "75%      60.000000     1.000000         4.000000    140.000000   269.750000   \n",
       "max      77.000000     1.000000         4.000000    200.000000   603.000000   \n",
       "\n",
       "       fasting blood sugar  resting ecg  max heart rate  exercise angina  \\\n",
       "count          1190.000000  1190.000000     1190.000000      1190.000000   \n",
       "mean              0.213445     0.698319      139.732773         0.387395   \n",
       "std               0.409912     0.870359       25.517636         0.487360   \n",
       "min               0.000000     0.000000       60.000000         0.000000   \n",
       "25%               0.000000     0.000000      121.000000         0.000000   \n",
       "50%               0.000000     0.000000      140.500000         0.000000   \n",
       "75%               0.000000     2.000000      160.000000         1.000000   \n",
       "max               1.000000     2.000000      202.000000         1.000000   \n",
       "\n",
       "           oldpeak     ST slope       target  \n",
       "count  1190.000000  1190.000000  1190.000000  \n",
       "mean      0.922773     1.624370     0.528571  \n",
       "std       1.086337     0.610459     0.499393  \n",
       "min      -2.600000     0.000000     0.000000  \n",
       "25%       0.000000     1.000000     0.000000  \n",
       "50%       0.600000     2.000000     1.000000  \n",
       "75%       1.600000     2.000000     1.000000  \n",
       "max       6.200000     3.000000     1.000000  "
      ]
     },
     "execution_count": 26,
     "metadata": {},
     "output_type": "execute_result"
    }
   ],
   "source": [
    "heart_disease.describe()"
   ]
  },
  {
   "cell_type": "code",
   "execution_count": 27,
   "metadata": {
    "ExecuteTime": {
     "end_time": "2020-12-26T02:47:56.274872Z",
     "start_time": "2020-12-26T02:47:56.256954Z"
    }
   },
   "outputs": [],
   "source": [
    "# Cap features\n",
    "heart_disease['age'].clip(upper=heart_disease['age'].quantile(.99), inplace=True)\n",
    "heart_disease['resting bp s'].clip(upper=heart_disease['resting bp s'].quantile(.99), inplace=True)\n",
    "heart_disease['cholesterol'].clip(upper=heart_disease['cholesterol'].quantile(.99), inplace=True)\n",
    "heart_disease['max heart rate'].clip(upper=heart_disease['max heart rate'].quantile(.99), inplace=True)\n",
    "heart_disease['oldpeak'].clip(upper=heart_disease['oldpeak'].quantile(.99), inplace=True)"
   ]
  },
  {
   "cell_type": "code",
   "execution_count": 28,
   "metadata": {
    "ExecuteTime": {
     "end_time": "2020-12-26T02:47:57.811566Z",
     "start_time": "2020-12-26T02:47:57.756978Z"
    }
   },
   "outputs": [
    {
     "data": {
      "text/html": [
       "<div>\n",
       "<style scoped>\n",
       "    .dataframe tbody tr th:only-of-type {\n",
       "        vertical-align: middle;\n",
       "    }\n",
       "\n",
       "    .dataframe tbody tr th {\n",
       "        vertical-align: top;\n",
       "    }\n",
       "\n",
       "    .dataframe thead th {\n",
       "        text-align: right;\n",
       "    }\n",
       "</style>\n",
       "<table border=\"1\" class=\"dataframe\">\n",
       "  <thead>\n",
       "    <tr style=\"text-align: right;\">\n",
       "      <th></th>\n",
       "      <th>age</th>\n",
       "      <th>sex</th>\n",
       "      <th>chest pain type</th>\n",
       "      <th>resting bp s</th>\n",
       "      <th>cholesterol</th>\n",
       "      <th>fasting blood sugar</th>\n",
       "      <th>resting ecg</th>\n",
       "      <th>max heart rate</th>\n",
       "      <th>exercise angina</th>\n",
       "      <th>oldpeak</th>\n",
       "      <th>ST slope</th>\n",
       "      <th>target</th>\n",
       "    </tr>\n",
       "  </thead>\n",
       "  <tbody>\n",
       "    <tr>\n",
       "      <th>count</th>\n",
       "      <td>1190.000000</td>\n",
       "      <td>1190.000000</td>\n",
       "      <td>1190.000000</td>\n",
       "      <td>1190.000000</td>\n",
       "      <td>1190.000000</td>\n",
       "      <td>1190.000000</td>\n",
       "      <td>1190.000000</td>\n",
       "      <td>1190.000000</td>\n",
       "      <td>1190.000000</td>\n",
       "      <td>1190.000000</td>\n",
       "      <td>1190.000000</td>\n",
       "      <td>1190.000000</td>\n",
       "    </tr>\n",
       "    <tr>\n",
       "      <th>mean</th>\n",
       "      <td>53.705042</td>\n",
       "      <td>0.763866</td>\n",
       "      <td>3.232773</td>\n",
       "      <td>132.028571</td>\n",
       "      <td>209.527697</td>\n",
       "      <td>0.213445</td>\n",
       "      <td>0.698319</td>\n",
       "      <td>139.675630</td>\n",
       "      <td>0.387395</td>\n",
       "      <td>0.914538</td>\n",
       "      <td>1.624370</td>\n",
       "      <td>0.528571</td>\n",
       "    </tr>\n",
       "    <tr>\n",
       "      <th>std</th>\n",
       "      <td>9.323432</td>\n",
       "      <td>0.424884</td>\n",
       "      <td>0.935480</td>\n",
       "      <td>17.980342</td>\n",
       "      <td>99.223647</td>\n",
       "      <td>0.409912</td>\n",
       "      <td>0.870359</td>\n",
       "      <td>25.399132</td>\n",
       "      <td>0.487360</td>\n",
       "      <td>1.056303</td>\n",
       "      <td>0.610459</td>\n",
       "      <td>0.499393</td>\n",
       "    </tr>\n",
       "    <tr>\n",
       "      <th>min</th>\n",
       "      <td>28.000000</td>\n",
       "      <td>0.000000</td>\n",
       "      <td>1.000000</td>\n",
       "      <td>0.000000</td>\n",
       "      <td>0.000000</td>\n",
       "      <td>0.000000</td>\n",
       "      <td>0.000000</td>\n",
       "      <td>60.000000</td>\n",
       "      <td>0.000000</td>\n",
       "      <td>-2.600000</td>\n",
       "      <td>0.000000</td>\n",
       "      <td>0.000000</td>\n",
       "    </tr>\n",
       "    <tr>\n",
       "      <th>25%</th>\n",
       "      <td>47.000000</td>\n",
       "      <td>1.000000</td>\n",
       "      <td>3.000000</td>\n",
       "      <td>120.000000</td>\n",
       "      <td>188.000000</td>\n",
       "      <td>0.000000</td>\n",
       "      <td>0.000000</td>\n",
       "      <td>121.000000</td>\n",
       "      <td>0.000000</td>\n",
       "      <td>0.000000</td>\n",
       "      <td>1.000000</td>\n",
       "      <td>0.000000</td>\n",
       "    </tr>\n",
       "    <tr>\n",
       "      <th>50%</th>\n",
       "      <td>54.000000</td>\n",
       "      <td>1.000000</td>\n",
       "      <td>4.000000</td>\n",
       "      <td>130.000000</td>\n",
       "      <td>229.000000</td>\n",
       "      <td>0.000000</td>\n",
       "      <td>0.000000</td>\n",
       "      <td>140.500000</td>\n",
       "      <td>0.000000</td>\n",
       "      <td>0.600000</td>\n",
       "      <td>2.000000</td>\n",
       "      <td>1.000000</td>\n",
       "    </tr>\n",
       "    <tr>\n",
       "      <th>75%</th>\n",
       "      <td>60.000000</td>\n",
       "      <td>1.000000</td>\n",
       "      <td>4.000000</td>\n",
       "      <td>140.000000</td>\n",
       "      <td>269.750000</td>\n",
       "      <td>0.000000</td>\n",
       "      <td>2.000000</td>\n",
       "      <td>160.000000</td>\n",
       "      <td>1.000000</td>\n",
       "      <td>1.600000</td>\n",
       "      <td>2.000000</td>\n",
       "      <td>1.000000</td>\n",
       "    </tr>\n",
       "    <tr>\n",
       "      <th>max</th>\n",
       "      <td>74.000000</td>\n",
       "      <td>1.000000</td>\n",
       "      <td>4.000000</td>\n",
       "      <td>180.000000</td>\n",
       "      <td>409.330000</td>\n",
       "      <td>1.000000</td>\n",
       "      <td>2.000000</td>\n",
       "      <td>188.000000</td>\n",
       "      <td>1.000000</td>\n",
       "      <td>4.000000</td>\n",
       "      <td>3.000000</td>\n",
       "      <td>1.000000</td>\n",
       "    </tr>\n",
       "  </tbody>\n",
       "</table>\n",
       "</div>"
      ],
      "text/plain": [
       "               age          sex  chest pain type  resting bp s  cholesterol  \\\n",
       "count  1190.000000  1190.000000      1190.000000   1190.000000  1190.000000   \n",
       "mean     53.705042     0.763866         3.232773    132.028571   209.527697   \n",
       "std       9.323432     0.424884         0.935480     17.980342    99.223647   \n",
       "min      28.000000     0.000000         1.000000      0.000000     0.000000   \n",
       "25%      47.000000     1.000000         3.000000    120.000000   188.000000   \n",
       "50%      54.000000     1.000000         4.000000    130.000000   229.000000   \n",
       "75%      60.000000     1.000000         4.000000    140.000000   269.750000   \n",
       "max      74.000000     1.000000         4.000000    180.000000   409.330000   \n",
       "\n",
       "       fasting blood sugar  resting ecg  max heart rate  exercise angina  \\\n",
       "count          1190.000000  1190.000000     1190.000000      1190.000000   \n",
       "mean              0.213445     0.698319      139.675630         0.387395   \n",
       "std               0.409912     0.870359       25.399132         0.487360   \n",
       "min               0.000000     0.000000       60.000000         0.000000   \n",
       "25%               0.000000     0.000000      121.000000         0.000000   \n",
       "50%               0.000000     0.000000      140.500000         0.000000   \n",
       "75%               0.000000     2.000000      160.000000         1.000000   \n",
       "max               1.000000     2.000000      188.000000         1.000000   \n",
       "\n",
       "           oldpeak     ST slope       target  \n",
       "count  1190.000000  1190.000000  1190.000000  \n",
       "mean      0.914538     1.624370     0.528571  \n",
       "std       1.056303     0.610459     0.499393  \n",
       "min      -2.600000     0.000000     0.000000  \n",
       "25%       0.000000     1.000000     0.000000  \n",
       "50%       0.600000     2.000000     1.000000  \n",
       "75%       1.600000     2.000000     1.000000  \n",
       "max       4.000000     3.000000     1.000000  "
      ]
     },
     "execution_count": 28,
     "metadata": {},
     "output_type": "execute_result"
    }
   ],
   "source": [
    "heart_disease.describe()"
   ]
  },
  {
   "cell_type": "code",
   "execution_count": null,
   "metadata": {},
   "outputs": [],
   "source": []
  },
  {
   "cell_type": "markdown",
   "metadata": {},
   "source": [
    "## Transform Skewed Features"
   ]
  },
  {
   "cell_type": "code",
   "execution_count": 29,
   "metadata": {
    "ExecuteTime": {
     "end_time": "2020-12-26T02:48:01.706916Z",
     "start_time": "2020-12-26T02:48:00.401922Z"
    }
   },
   "outputs": [
    {
     "data": {
      "image/png": "[encoded data removed]",
      "text/plain": [
       "<Figure size 432x288 with 1 Axes>"
      ]
     },
     "metadata": {
      "needs_background": "light"
     },
     "output_type": "display_data"
    },
    {
     "data": {
      "image/png": "[encoded data removed]",
      "text/plain": [
       "<Figure size 432x288 with 1 Axes>"
      ]
     },
     "metadata": {
      "needs_background": "light"
     },
     "output_type": "display_data"
    },
    {
     "data": {
      "image/png": "[encoded data removed]",
      "text/plain": [
       "<Figure size 432x288 with 1 Axes>"
      ]
     },
     "metadata": {
      "needs_background": "light"
     },
     "output_type": "display_data"
    },
    {
     "data": {
      "image/png": "[encoded data removed]",
      "text/plain": [
       "<Figure size 432x288 with 1 Axes>"
      ]
     },
     "metadata": {
      "needs_background": "light"
     },
     "output_type": "display_data"
    },
    {
     "data": {
      "image/png": "[encoded data removed]",
      "text/plain": [
       "<Figure size 432x288 with 1 Axes>"
      ]
     },
     "metadata": {
      "needs_background": "light"
     },
     "output_type": "display_data"
    }
   ],
   "source": [
    "for feature in continous_features:\n",
    "    sns.distplot(heart_disease[feature], kde=False)\n",
    "    plt.title('Histogram for {}'.format(feature))\n",
    "    plt.show()"
   ]
  },
  {
   "cell_type": "code",
   "execution_count": 30,
   "metadata": {
    "ExecuteTime": {
     "end_time": "2020-12-26T02:48:04.807960Z",
     "start_time": "2020-12-26T02:48:02.679320Z"
    }
   },
   "outputs": [
    {
     "data": {
      "image/png": "[encoded data removed]",
      "text/plain": [
       "<Figure size 432x288 with 1 Axes>"
      ]
     },
     "metadata": {
      "needs_background": "light"
     },
     "output_type": "display_data"
    },
    {
     "data": {
      "image/png": "[encoded data removed]",
      "text/plain": [
       "<Figure size 432x288 with 1 Axes>"
      ]
     },
     "metadata": {
      "needs_background": "light"
     },
     "output_type": "display_data"
    },
    {
     "data": {
      "image/png": "[encoded data removed]",
      "text/plain": [
       "<Figure size 432x288 with 1 Axes>"
      ]
     },
     "metadata": {
      "needs_background": "light"
     },
     "output_type": "display_data"
    },
    {
     "data": {
      "image/png": "[encoded data removed]",
      "text/plain": [
       "<Figure size 432x288 with 1 Axes>"
      ]
     },
     "metadata": {
      "needs_background": "light"
     },
     "output_type": "display_data"
    },
    {
     "data": {
      "image/png": "[encoded data removed]",
      "text/plain": [
       "<Figure size 432x288 with 1 Axes>"
      ]
     },
     "metadata": {
      "needs_background": "light"
     },
     "output_type": "display_data"
    },
    {
     "data": {
      "image/png": "[encoded data removed]",
      "text/plain": [
       "<Figure size 432x288 with 1 Axes>"
      ]
     },
     "metadata": {
      "needs_background": "light"
     },
     "output_type": "display_data"
    },
    {
     "data": {
      "image/png": "[encoded data removed]",
      "text/plain": [
       "<Figure size 432x288 with 1 Axes>"
      ]
     },
     "metadata": {
      "needs_background": "light"
     },
     "output_type": "display_data"
    },
    {
     "data": {
      "image/png": "[encoded data removed]",
      "text/plain": [
       "<Figure size 432x288 with 1 Axes>"
      ]
     },
     "metadata": {
      "needs_background": "light"
     },
     "output_type": "display_data"
    },
    {
     "data": {
      "image/png": "[encoded data removed]",
      "text/plain": [
       "<Figure size 432x288 with 1 Axes>"
      ]
     },
     "metadata": {
      "needs_background": "light"
     },
     "output_type": "display_data"
    },
    {
     "data": {
      "image/png": "[encoded data removed]",
      "text/plain": [
       "<Figure size 432x288 with 1 Axes>"
      ]
     },
     "metadata": {
      "needs_background": "light"
     },
     "output_type": "display_data"
    },
    {
     "data": {
      "image/png": "[encoded data removed]",
      "text/plain": [
       "<Figure size 432x288 with 1 Axes>"
      ]
     },
     "metadata": {
      "needs_background": "light"
     },
     "output_type": "display_data"
    }
   ],
   "source": [
    "# Generate QQ plots\n",
    "for i in [0.5, 1, 2, 3, 4, 5, 6, 7, 8, 9, 10]:\n",
    "    data_t = heart_disease['resting bp s']**(1/i)\n",
    "    qqplot(data_t, line='s')\n",
    "    plt.title(\"Transformation: 1/{}\".format(str(i)))\n",
    "\n",
    "#1/2"
   ]
  },
  {
   "cell_type": "code",
   "execution_count": 31,
   "metadata": {
    "ExecuteTime": {
     "end_time": "2020-12-26T02:48:09.180033Z",
     "start_time": "2020-12-26T02:48:06.644033Z"
    }
   },
   "outputs": [
    {
     "data": {
      "image/png": "[encoded data removed]",
      "text/plain": [
       "<Figure size 432x288 with 1 Axes>"
      ]
     },
     "metadata": {
      "needs_background": "light"
     },
     "output_type": "display_data"
    },
    {
     "data": {
      "image/png": "[encoded data removed]",
      "text/plain": [
       "<Figure size 432x288 with 1 Axes>"
      ]
     },
     "metadata": {
      "needs_background": "light"
     },
     "output_type": "display_data"
    },
    {
     "data": {
      "image/png": "[encoded data removed]",
      "text/plain": [
       "<Figure size 432x288 with 1 Axes>"
      ]
     },
     "metadata": {
      "needs_background": "light"
     },
     "output_type": "display_data"
    },
    {
     "data": {
      "image/png": "[encoded data removed]",
      "text/plain": [
       "<Figure size 432x288 with 1 Axes>"
      ]
     },
     "metadata": {
      "needs_background": "light"
     },
     "output_type": "display_data"
    },
    {
     "data": {
      "image/png": "[encoded data removed]",
      "text/plain": [
       "<Figure size 432x288 with 1 Axes>"
      ]
     },
     "metadata": {
      "needs_background": "light"
     },
     "output_type": "display_data"
    },
    {
     "data": {
      "image/png": "[encoded data removed]",
      "text/plain": [
       "<Figure size 432x288 with 1 Axes>"
      ]
     },
     "metadata": {
      "needs_background": "light"
     },
     "output_type": "display_data"
    },
    {
     "data": {
      "image/png": "[encoded data removed]",
      "text/plain": [
       "<Figure size 432x288 with 1 Axes>"
      ]
     },
     "metadata": {
      "needs_background": "light"
     },
     "output_type": "display_data"
    },
    {
     "data": {
      "image/png": "[encoded data removed]",
      "text/plain": [
       "<Figure size 432x288 with 1 Axes>"
      ]
     },
     "metadata": {
      "needs_background": "light"
     },
     "output_type": "display_data"
    },
    {
     "data": {
      "image/png": "[encoded data removed]",
      "text/plain": [
       "<Figure size 432x288 with 1 Axes>"
      ]
     },
     "metadata": {
      "needs_background": "light"
     },
     "output_type": "display_data"
    },
    {
     "data": {
      "image/png": "[encoded data removed]",
      "text/plain": [
       "<Figure size 432x288 with 1 Axes>"
      ]
     },
     "metadata": {
      "needs_background": "light"
     },
     "output_type": "display_data"
    },
    {
     "data": {
      "image/png": "[encoded data removed]",
      "text/plain": [
       "<Figure size 432x288 with 1 Axes>"
      ]
     },
     "metadata": {
      "needs_background": "light"
     },
     "output_type": "display_data"
    },
    {
     "data": {
      "image/png": "[encoded data removed]",
      "text/plain": [
       "<Figure size 432x288 with 1 Axes>"
      ]
     },
     "metadata": {
      "needs_background": "light"
     },
     "output_type": "display_data"
    },
    {
     "data": {
      "image/png": "[encoded data removed]",
      "text/plain": [
       "<Figure size 432x288 with 1 Axes>"
      ]
     },
     "metadata": {
      "needs_background": "light"
     },
     "output_type": "display_data"
    }
   ],
   "source": [
    "# Generate QQ plots\n",
    "for i in [0.25, 0.5, 0.75, 1, 2, 3, 4, 5, 6, 7, 8, 9, 10]:\n",
    "    data_t = heart_disease['cholesterol']**(1/i)\n",
    "    qqplot(data_t, line='s')\n",
    "    plt.title(\"Transformation: 1/{}\".format(str(i)))\n",
    "\n",
    "#1/0.75"
   ]
  },
  {
   "cell_type": "code",
   "execution_count": 32,
   "metadata": {
    "ExecuteTime": {
     "end_time": "2020-12-26T02:48:12.890846Z",
     "start_time": "2020-12-26T02:48:10.463144Z"
    }
   },
   "outputs": [
    {
     "data": {
      "image/png": "[encoded data removed]",
      "text/plain": [
       "<Figure size 432x288 with 1 Axes>"
      ]
     },
     "metadata": {
      "needs_background": "light"
     },
     "output_type": "display_data"
    },
    {
     "data": {
      "image/png": "[encoded data removed]",
      "text/plain": [
       "<Figure size 432x288 with 1 Axes>"
      ]
     },
     "metadata": {
      "needs_background": "light"
     },
     "output_type": "display_data"
    },
    {
     "data": {
      "image/png": "[encoded data removed]",
      "text/plain": [
       "<Figure size 432x288 with 1 Axes>"
      ]
     },
     "metadata": {
      "needs_background": "light"
     },
     "output_type": "display_data"
    },
    {
     "data": {
      "image/png": "[encoded data removed]",
      "text/plain": [
       "<Figure size 432x288 with 1 Axes>"
      ]
     },
     "metadata": {
      "needs_background": "light"
     },
     "output_type": "display_data"
    },
    {
     "data": {
      "image/png": "[encoded data removed]",
      "text/plain": [
       "<Figure size 432x288 with 1 Axes>"
      ]
     },
     "metadata": {
      "needs_background": "light"
     },
     "output_type": "display_data"
    },
    {
     "data": {
      "image/png": "[encoded data removed]",
      "text/plain": [
       "<Figure size 432x288 with 1 Axes>"
      ]
     },
     "metadata": {
      "needs_background": "light"
     },
     "output_type": "display_data"
    },
    {
     "data": {
      "image/png": "[encoded data removed]",
      "text/plain": [
       "<Figure size 432x288 with 1 Axes>"
      ]
     },
     "metadata": {
      "needs_background": "light"
     },
     "output_type": "display_data"
    },
    {
     "data": {
      "image/png": "[encoded data removed]",
      "text/plain": [
       "<Figure size 432x288 with 1 Axes>"
      ]
     },
     "metadata": {
      "needs_background": "light"
     },
     "output_type": "display_data"
    },
    {
     "data": {
      "image/png": "[encoded data removed]",
      "text/plain": [
       "<Figure size 432x288 with 1 Axes>"
      ]
     },
     "metadata": {
      "needs_background": "light"
     },
     "output_type": "display_data"
    },
    {
     "data": {
      "image/png": "[encoded data removed]",
      "text/plain": [
       "<Figure size 432x288 with 1 Axes>"
      ]
     },
     "metadata": {
      "needs_background": "light"
     },
     "output_type": "display_data"
    },
    {
     "data": {
      "image/png": "[encoded data removed]",
      "text/plain": [
       "<Figure size 432x288 with 1 Axes>"
      ]
     },
     "metadata": {
      "needs_background": "light"
     },
     "output_type": "display_data"
    },
    {
     "data": {
      "image/png": "[encoded data removed]",
      "text/plain": [
       "<Figure size 432x288 with 1 Axes>"
      ]
     },
     "metadata": {
      "needs_background": "light"
     },
     "output_type": "display_data"
    },
    {
     "data": {
      "image/png": "[encoded data removed]",
      "text/plain": [
       "<Figure size 432x288 with 1 Axes>"
      ]
     },
     "metadata": {
      "needs_background": "light"
     },
     "output_type": "display_data"
    }
   ],
   "source": [
    "# Generate QQ plots\n",
    "for i in [0.25, 0.5, 0.75, 1, 2, 3, 4, 5, 6, 7, 8, 9, 10]:\n",
    "    data_t = heart_disease['oldpeak']**(1/i)\n",
    "    qqplot(data_t, line='s')\n",
    "    plt.title(\"Transformation: 1/{}\".format(str(i)))\n",
    "\n",
    "#1/1"
   ]
  },
  {
   "cell_type": "code",
   "execution_count": 33,
   "metadata": {
    "ExecuteTime": {
     "end_time": "2020-12-26T02:48:13.804428Z",
     "start_time": "2020-12-26T02:48:13.797217Z"
    }
   },
   "outputs": [],
   "source": [
    "# Create the new transformed feature\n",
    "heart_disease['resting bp s'] = heart_disease['resting bp s'].apply(lambda x: x**(1/2))\n",
    "heart_disease['cholesterol'] = heart_disease['cholesterol'].apply(lambda x: x**(4/3))"
   ]
  },
  {
   "cell_type": "code",
   "execution_count": 34,
   "metadata": {
    "ExecuteTime": {
     "end_time": "2020-12-26T02:48:16.869959Z",
     "start_time": "2020-12-26T02:48:16.855234Z"
    }
   },
   "outputs": [
    {
     "data": {
      "text/html": [
       "<div>\n",
       "<style scoped>\n",
       "    .dataframe tbody tr th:only-of-type {\n",
       "        vertical-align: middle;\n",
       "    }\n",
       "\n",
       "    .dataframe tbody tr th {\n",
       "        vertical-align: top;\n",
       "    }\n",
       "\n",
       "    .dataframe thead th {\n",
       "        text-align: right;\n",
       "    }\n",
       "</style>\n",
       "<table border=\"1\" class=\"dataframe\">\n",
       "  <thead>\n",
       "    <tr style=\"text-align: right;\">\n",
       "      <th></th>\n",
       "      <th>age</th>\n",
       "      <th>sex</th>\n",
       "      <th>chest pain type</th>\n",
       "      <th>resting bp s</th>\n",
       "      <th>cholesterol</th>\n",
       "      <th>fasting blood sugar</th>\n",
       "      <th>resting ecg</th>\n",
       "      <th>max heart rate</th>\n",
       "      <th>exercise angina</th>\n",
       "      <th>oldpeak</th>\n",
       "      <th>ST slope</th>\n",
       "      <th>target</th>\n",
       "    </tr>\n",
       "  </thead>\n",
       "  <tbody>\n",
       "    <tr>\n",
       "      <th>0</th>\n",
       "      <td>40</td>\n",
       "      <td>1</td>\n",
       "      <td>2</td>\n",
       "      <td>11.832160</td>\n",
       "      <td>1910.720326</td>\n",
       "      <td>0</td>\n",
       "      <td>0</td>\n",
       "      <td>172</td>\n",
       "      <td>0</td>\n",
       "      <td>0.0</td>\n",
       "      <td>1</td>\n",
       "      <td>0</td>\n",
       "    </tr>\n",
       "    <tr>\n",
       "      <th>1</th>\n",
       "      <td>49</td>\n",
       "      <td>0</td>\n",
       "      <td>3</td>\n",
       "      <td>12.649111</td>\n",
       "      <td>1016.318911</td>\n",
       "      <td>0</td>\n",
       "      <td>0</td>\n",
       "      <td>156</td>\n",
       "      <td>0</td>\n",
       "      <td>1.0</td>\n",
       "      <td>2</td>\n",
       "      <td>1</td>\n",
       "    </tr>\n",
       "    <tr>\n",
       "      <th>2</th>\n",
       "      <td>37</td>\n",
       "      <td>1</td>\n",
       "      <td>2</td>\n",
       "      <td>11.401754</td>\n",
       "      <td>1858.012283</td>\n",
       "      <td>0</td>\n",
       "      <td>1</td>\n",
       "      <td>98</td>\n",
       "      <td>0</td>\n",
       "      <td>0.0</td>\n",
       "      <td>1</td>\n",
       "      <td>0</td>\n",
       "    </tr>\n",
       "    <tr>\n",
       "      <th>3</th>\n",
       "      <td>48</td>\n",
       "      <td>0</td>\n",
       "      <td>4</td>\n",
       "      <td>11.747340</td>\n",
       "      <td>1280.024742</td>\n",
       "      <td>0</td>\n",
       "      <td>0</td>\n",
       "      <td>108</td>\n",
       "      <td>1</td>\n",
       "      <td>1.5</td>\n",
       "      <td>2</td>\n",
       "      <td>1</td>\n",
       "    </tr>\n",
       "    <tr>\n",
       "      <th>4</th>\n",
       "      <td>54</td>\n",
       "      <td>1</td>\n",
       "      <td>3</td>\n",
       "      <td>12.247449</td>\n",
       "      <td>1130.783550</td>\n",
       "      <td>0</td>\n",
       "      <td>0</td>\n",
       "      <td>122</td>\n",
       "      <td>0</td>\n",
       "      <td>0.0</td>\n",
       "      <td>1</td>\n",
       "      <td>0</td>\n",
       "    </tr>\n",
       "  </tbody>\n",
       "</table>\n",
       "</div>"
      ],
      "text/plain": [
       "   age  sex  chest pain type  resting bp s  cholesterol  fasting blood sugar  \\\n",
       "0   40    1                2     11.832160  1910.720326                    0   \n",
       "1   49    0                3     12.649111  1016.318911                    0   \n",
       "2   37    1                2     11.401754  1858.012283                    0   \n",
       "3   48    0                4     11.747340  1280.024742                    0   \n",
       "4   54    1                3     12.247449  1130.783550                    0   \n",
       "\n",
       "   resting ecg  max heart rate  exercise angina  oldpeak  ST slope  target  \n",
       "0            0             172                0      0.0         1       0  \n",
       "1            0             156                0      1.0         2       1  \n",
       "2            1              98                0      0.0         1       0  \n",
       "3            0             108                1      1.5         2       1  \n",
       "4            0             122                0      0.0         1       0  "
      ]
     },
     "execution_count": 34,
     "metadata": {},
     "output_type": "execute_result"
    }
   ],
   "source": [
    "heart_disease.head()"
   ]
  },
  {
   "cell_type": "markdown",
   "metadata": {},
   "source": [
    "## Sharang's Analysis"
   ]
  },
  {
   "cell_type": "code",
   "execution_count": 35,
   "metadata": {
    "ExecuteTime": {
     "end_time": "2020-12-26T02:48:20.298399Z",
     "start_time": "2020-12-26T02:48:20.293474Z"
    }
   },
   "outputs": [],
   "source": [
    "import copy\n",
    "heart_disease_truncated = copy.deepcopy(heart_disease)\n",
    "del heart_disease_truncated['resting bp s']\n",
    "del heart_disease_truncated['resting ecg']"
   ]
  },
  {
   "cell_type": "code",
   "execution_count": 36,
   "metadata": {
    "ExecuteTime": {
     "end_time": "2020-12-26T02:48:21.859359Z",
     "start_time": "2020-12-26T02:48:21.842557Z"
    }
   },
   "outputs": [],
   "source": [
    "from sklearn.model_selection import train_test_split\n",
    "from sklearn.preprocessing import StandardScaler\n",
    "import pickle\n",
    "\n",
    "X = heart_disease.iloc[:, :-1].values\n",
    "y = heart_disease.iloc[:, -1].values\n",
    "\n",
    "X_train_full, X_test_full, y_train_full, y_test_full = train_test_split(X,y,test_size = 0.4, random_state = 1)\n",
    "X_val_full, X_test_full, y_val_full, y_test_full = train_test_split(X_test_full,y_test_full,test_size = 0.5, random_state = 1)\n",
    "\n",
    "\n",
    "sc = StandardScaler()\n",
    "X_train_full = sc.fit_transform(X_train_full)\n",
    "X_test_full = sc.transform(X_test_full)\n",
    "X_val_full = sc.transform(X_val_full)\n",
    "\n",
    "with open(r\"train_features.pickle\", \"wb\") as output_file:\n",
    "    pickle.dump(X_train_full, output_file)\n",
    "with open(r\"test_features.pickle\", \"wb\") as output_file:\n",
    "    pickle.dump(X_test_full, output_file)\n",
    "with open(r\"val_features.pickle\", \"wb\") as output_file:\n",
    "    pickle.dump(X_val_full, output_file)\n",
    "\n",
    "with open(r\"train_labels.pickle\", \"wb\") as output_file:\n",
    "    pickle.dump(y_train_full, output_file)\n",
    "with open(r\"test_labels.pickle\", \"wb\") as output_file:\n",
    "    pickle.dump(y_test_full, output_file)\n",
    "with open(r\"val_labels.pickle\", \"wb\") as output_file:\n",
    "    pickle.dump(y_val_full, output_file)\n"
   ]
  },
  {
   "cell_type": "code",
   "execution_count": 37,
   "metadata": {
    "ExecuteTime": {
     "end_time": "2020-12-26T02:48:24.239461Z",
     "start_time": "2020-12-26T02:48:24.222632Z"
    }
   },
   "outputs": [],
   "source": [
    "from sklearn.model_selection import train_test_split\n",
    "from sklearn.preprocessing import StandardScaler\n",
    "import pickle\n",
    "\n",
    "X = heart_disease_truncated.iloc[:, :-1].values\n",
    "y = heart_disease_truncated.iloc[:, -1].values\n",
    "\n",
    "X_train, X_test, y_train, y_test = train_test_split(X,y,test_size = 0.4, random_state = 1)\n",
    "X_val, X_test, y_val, y_test = train_test_split(X_test,y_test,test_size = 0.5, random_state = 1)\n",
    "\n",
    "\n",
    "sc = StandardScaler()\n",
    "X_train = sc.fit_transform(X_train)\n",
    "X_test = sc.transform(X_test)\n",
    "X_val = sc.transform(X_val)\n",
    "\n",
    "with open(r\"train_features_truncated.pickle\", \"wb\") as output_file:\n",
    "    pickle.dump(X_train, output_file)\n",
    "with open(r\"test_features_truncated.pickle\", \"wb\") as output_file:\n",
    "    pickle.dump(X_test, output_file)\n",
    "with open(r\"val_features_truncated.pickle\", \"wb\") as output_file:\n",
    "    pickle.dump(X_val, output_file)\n",
    "\n",
    "with open(r\"train_labels_truncated.pickle\", \"wb\") as output_file:\n",
    "    pickle.dump(y_train, output_file)\n",
    "with open(r\"test_labels_truncated.pickle\", \"wb\") as output_file:\n",
    "    pickle.dump(y_test, output_file)\n",
    "with open(r\"val_labels_truncated.pickle\", \"wb\") as output_file:\n",
    "    pickle.dump(y_val, output_file)\n"
   ]
  },
  {
   "cell_type": "code",
   "execution_count": 74,
   "metadata": {
    "ExecuteTime": {
     "end_time": "2020-12-26T04:30:58.240888Z",
     "start_time": "2020-12-26T04:30:58.238027Z"
    }
   },
   "outputs": [],
   "source": [
    "#import pickle\n",
    "\n",
    "#with open(r\"train_features.pickle\", \"rb\") as input_file:\n",
    "#    X_train = pickle.load(input_file)"
   ]
  },
  {
   "cell_type": "code",
   "execution_count": 39,
   "metadata": {
    "ExecuteTime": {
     "end_time": "2020-12-26T02:48:29.354992Z",
     "start_time": "2020-12-26T02:48:29.351087Z"
    }
   },
   "outputs": [],
   "source": [
    "import joblib\n",
    "from sklearn.model_selection import GridSearchCV\n",
    "import warnings\n",
    "warnings.filterwarnings('ignore', category=FutureWarning)\n",
    "warnings.filterwarnings('ignore', category=DeprecationWarning)"
   ]
  },
  {
   "cell_type": "markdown",
   "metadata": {},
   "source": [
    "## Hyperparameter tuning"
   ]
  },
  {
   "cell_type": "code",
   "execution_count": 40,
   "metadata": {
    "ExecuteTime": {
     "end_time": "2020-12-26T02:48:31.425389Z",
     "start_time": "2020-12-26T02:48:31.420271Z"
    }
   },
   "outputs": [],
   "source": [
    "def print_results(results):\n",
    "    print('BEST PARAMS: {}\\n'.format(results.best_params_))\n",
    "\n",
    "    means = results.cv_results_['mean_test_score']\n",
    "    stds = results.cv_results_['std_test_score']\n",
    "    for mean, std, params in zip(means, stds, results.cv_results_['params']):\n",
    "        print('{} (+/-{}) for {}'.format(round(mean, 3), round(std * 2, 3), params))"
   ]
  },
  {
   "cell_type": "markdown",
   "metadata": {},
   "source": [
    "## Logistic Regression"
   ]
  },
  {
   "cell_type": "code",
   "execution_count": 75,
   "metadata": {
    "ExecuteTime": {
     "end_time": "2020-12-26T01:35:33.202114Z",
     "start_time": "2020-12-26T01:35:33.198450Z"
    }
   },
   "outputs": [],
   "source": [
    "from sklearn.linear_model import LogisticRegression"
   ]
  },
  {
   "cell_type": "markdown",
   "metadata": {},
   "source": [
    "## Full Feature Set"
   ]
  },
  {
   "cell_type": "code",
   "execution_count": 70,
   "metadata": {
    "ExecuteTime": {
     "end_time": "2020-12-26T01:09:13.893165Z",
     "start_time": "2020-12-26T01:09:13.630037Z"
    }
   },
   "outputs": [
    {
     "name": "stdout",
     "output_type": "stream",
     "text": [
      "BEST PARAMS: {'C': 1}\n",
      "\n",
      "0.812 (+/-0.048) for {'C': 0.001}\n",
      "0.825 (+/-0.037) for {'C': 0.01}\n",
      "0.829 (+/-0.037) for {'C': 0.1}\n",
      "0.83 (+/-0.043) for {'C': 1}\n",
      "0.829 (+/-0.039) for {'C': 10}\n",
      "0.829 (+/-0.039) for {'C': 100}\n",
      "0.829 (+/-0.039) for {'C': 1000}\n"
     ]
    }
   ],
   "source": [
    "lr = LogisticRegression()\n",
    "parameters = {\n",
    "    'C': [0.001, 0.01, 0.1, 1, 10, 100, 1000]\n",
    "}\n",
    "\n",
    "cv = GridSearchCV(lr, parameters, cv=5)\n",
    "cv.fit(X_train_full, y_train_full)\n",
    "\n",
    "print_results(cv)"
   ]
  },
  {
   "cell_type": "markdown",
   "metadata": {},
   "source": [
    "## Truncated Feature Set"
   ]
  },
  {
   "cell_type": "code",
   "execution_count": 71,
   "metadata": {
    "ExecuteTime": {
     "end_time": "2020-12-26T01:09:40.364615Z",
     "start_time": "2020-12-26T01:09:40.124416Z"
    }
   },
   "outputs": [
    {
     "name": "stdout",
     "output_type": "stream",
     "text": [
      "BEST PARAMS: {'C': 0.1}\n",
      "\n",
      "0.822 (+/-0.046) for {'C': 0.001}\n",
      "0.832 (+/-0.029) for {'C': 0.01}\n",
      "0.836 (+/-0.045) for {'C': 0.1}\n",
      "0.833 (+/-0.042) for {'C': 1}\n",
      "0.833 (+/-0.042) for {'C': 10}\n",
      "0.833 (+/-0.042) for {'C': 100}\n",
      "0.833 (+/-0.042) for {'C': 1000}\n"
     ]
    }
   ],
   "source": [
    "lr = LogisticRegression()\n",
    "parameters = {\n",
    "    'C': [0.001, 0.01, 0.1, 1, 10, 100, 1000]\n",
    "}\n",
    "\n",
    "cv = GridSearchCV(lr, parameters, cv=5)\n",
    "cv.fit(X_train, y_train)\n",
    "\n",
    "print_results(cv)"
   ]
  },
  {
   "cell_type": "code",
   "execution_count": 72,
   "metadata": {
    "ExecuteTime": {
     "end_time": "2020-12-26T01:12:38.144331Z",
     "start_time": "2020-12-26T01:12:38.136468Z"
    }
   },
   "outputs": [
    {
     "data": {
      "text/plain": [
       "LogisticRegression(C=0.1)"
      ]
     },
     "execution_count": 72,
     "metadata": {},
     "output_type": "execute_result"
    }
   ],
   "source": [
    "cv.best_estimator_"
   ]
  },
  {
   "cell_type": "code",
   "execution_count": 73,
   "metadata": {
    "ExecuteTime": {
     "end_time": "2020-12-26T01:13:28.602536Z",
     "start_time": "2020-12-26T01:13:28.595747Z"
    }
   },
   "outputs": [
    {
     "data": {
      "text/plain": [
       "['LR_model.pkl']"
      ]
     },
     "execution_count": 73,
     "metadata": {},
     "output_type": "execute_result"
    }
   ],
   "source": [
    "joblib.dump(cv.best_estimator_, 'LR_model.pkl')"
   ]
  },
  {
   "cell_type": "markdown",
   "metadata": {},
   "source": [
    "## Inference "
   ]
  },
  {
   "cell_type": "markdown",
   "metadata": {},
   "source": [
    "Using Logistic Regression, the best accuracy is obtained using the truncated feature set, with hyperparamerer C = 0.1"
   ]
  },
  {
   "cell_type": "markdown",
   "metadata": {},
   "source": [
    "## Support Vector Machine"
   ]
  },
  {
   "cell_type": "code",
   "execution_count": 80,
   "metadata": {
    "ExecuteTime": {
     "end_time": "2020-12-26T01:59:31.377817Z",
     "start_time": "2020-12-26T01:59:31.373493Z"
    }
   },
   "outputs": [],
   "source": [
    "from sklearn.svm import SVC"
   ]
  },
  {
   "cell_type": "markdown",
   "metadata": {},
   "source": [
    "## Full feature set"
   ]
  },
  {
   "cell_type": "code",
   "execution_count": 81,
   "metadata": {
    "ExecuteTime": {
     "end_time": "2020-12-26T01:59:32.756342Z",
     "start_time": "2020-12-26T01:59:32.133089Z"
    }
   },
   "outputs": [
    {
     "name": "stdout",
     "output_type": "stream",
     "text": [
      "BEST PARAMS: {'C': 10, 'kernel': 'rbf'}\n",
      "\n",
      "0.842 (+/-0.041) for {'C': 0.1, 'kernel': 'linear'}\n",
      "0.83 (+/-0.052) for {'C': 0.1, 'kernel': 'rbf'}\n",
      "0.84 (+/-0.039) for {'C': 1, 'kernel': 'linear'}\n",
      "0.846 (+/-0.05) for {'C': 1, 'kernel': 'rbf'}\n",
      "0.842 (+/-0.039) for {'C': 10, 'kernel': 'linear'}\n",
      "0.846 (+/-0.045) for {'C': 10, 'kernel': 'rbf'}\n"
     ]
    }
   ],
   "source": [
    "svc = SVC()\n",
    "parameters = {\n",
    "    'kernel': ['linear', 'rbf'],\n",
    "    'C': [0.1, 1, 10]\n",
    "}\n",
    "\n",
    "cv = GridSearchCV(svc, parameters, cv=5)\n",
    "cv.fit(X_train_full, y_train_full)\n",
    "\n",
    "print_results(cv)"
   ]
  },
  {
   "cell_type": "markdown",
   "metadata": {},
   "source": [
    "## Truncated feature set"
   ]
  },
  {
   "cell_type": "code",
   "execution_count": 82,
   "metadata": {
    "ExecuteTime": {
     "end_time": "2020-12-26T01:59:43.486462Z",
     "start_time": "2020-12-26T01:59:42.968333Z"
    }
   },
   "outputs": [
    {
     "name": "stdout",
     "output_type": "stream",
     "text": [
      "BEST PARAMS: {'C': 1, 'kernel': 'rbf'}\n",
      "\n",
      "0.836 (+/-0.038) for {'C': 0.1, 'kernel': 'linear'}\n",
      "0.836 (+/-0.042) for {'C': 0.1, 'kernel': 'rbf'}\n",
      "0.839 (+/-0.039) for {'C': 1, 'kernel': 'linear'}\n",
      "0.844 (+/-0.058) for {'C': 1, 'kernel': 'rbf'}\n",
      "0.84 (+/-0.037) for {'C': 10, 'kernel': 'linear'}\n",
      "0.838 (+/-0.034) for {'C': 10, 'kernel': 'rbf'}\n"
     ]
    }
   ],
   "source": [
    "svc = SVC()\n",
    "parameters = {\n",
    "    'kernel': ['linear', 'rbf'],\n",
    "    'C': [0.1, 1, 10]\n",
    "}\n",
    "\n",
    "cv = GridSearchCV(svc, parameters, cv=5)\n",
    "cv.fit(X_train, y_train)\n",
    "\n",
    "print_results(cv)"
   ]
  },
  {
   "cell_type": "code",
   "execution_count": 78,
   "metadata": {
    "ExecuteTime": {
     "end_time": "2020-12-26T01:42:26.064801Z",
     "start_time": "2020-12-26T01:42:26.057879Z"
    }
   },
   "outputs": [
    {
     "data": {
      "text/plain": [
       "SVC(C=1)"
      ]
     },
     "execution_count": 78,
     "metadata": {},
     "output_type": "execute_result"
    }
   ],
   "source": [
    "cv.best_estimator_"
   ]
  },
  {
   "cell_type": "code",
   "execution_count": 79,
   "metadata": {
    "ExecuteTime": {
     "end_time": "2020-12-26T01:43:06.124305Z",
     "start_time": "2020-12-26T01:43:06.115664Z"
    }
   },
   "outputs": [
    {
     "data": {
      "text/plain": [
       "['SVM_model.pkl']"
      ]
     },
     "execution_count": 79,
     "metadata": {},
     "output_type": "execute_result"
    }
   ],
   "source": [
    "joblib.dump(cv.best_estimator_, 'SVM_model.pkl')"
   ]
  },
  {
   "cell_type": "markdown",
   "metadata": {},
   "source": [
    "## Inference "
   ]
  },
  {
   "cell_type": "markdown",
   "metadata": {},
   "source": [
    "Using Support Vector Machine, the best accuracy is obtained using the truncated feature set, with hyperparamerer C = 1 and kernel = rbf"
   ]
  },
  {
   "cell_type": "markdown",
   "metadata": {},
   "source": [
    "## Multi Layer Perceptron"
   ]
  },
  {
   "cell_type": "code",
   "execution_count": 83,
   "metadata": {
    "ExecuteTime": {
     "end_time": "2020-12-26T02:03:25.393261Z",
     "start_time": "2020-12-26T02:03:25.380975Z"
    }
   },
   "outputs": [],
   "source": [
    "from sklearn.neural_network import MLPClassifier"
   ]
  },
  {
   "cell_type": "markdown",
   "metadata": {},
   "source": [
    "## Full feature set"
   ]
  },
  {
   "cell_type": "code",
   "execution_count": 84,
   "metadata": {
    "ExecuteTime": {
     "end_time": "2020-12-26T02:09:20.765626Z",
     "start_time": "2020-12-26T02:07:58.478873Z"
    }
   },
   "outputs": [
    {
     "name": "stdout",
     "output_type": "stream",
     "text": [
      "BEST PARAMS: {'activation': 'relu', 'hidden_layer_sizes': (100,), 'learning_rate': 'adaptive'}\n",
      "\n",
      "0.831 (+/-0.032) for {'activation': 'relu', 'hidden_layer_sizes': (10,), 'learning_rate': 'constant'}\n",
      "0.822 (+/-0.045) for {'activation': 'relu', 'hidden_layer_sizes': (10,), 'learning_rate': 'invscaling'}\n",
      "0.828 (+/-0.05) for {'activation': 'relu', 'hidden_layer_sizes': (10,), 'learning_rate': 'adaptive'}\n",
      "0.849 (+/-0.032) for {'activation': 'relu', 'hidden_layer_sizes': (50,), 'learning_rate': 'constant'}\n",
      "0.842 (+/-0.034) for {'activation': 'relu', 'hidden_layer_sizes': (50,), 'learning_rate': 'invscaling'}\n",
      "0.846 (+/-0.032) for {'activation': 'relu', 'hidden_layer_sizes': (50,), 'learning_rate': 'adaptive'}\n",
      "0.836 (+/-0.046) for {'activation': 'relu', 'hidden_layer_sizes': (100,), 'learning_rate': 'constant'}\n",
      "0.836 (+/-0.038) for {'activation': 'relu', 'hidden_layer_sizes': (100,), 'learning_rate': 'invscaling'}\n",
      "0.85 (+/-0.049) for {'activation': 'relu', 'hidden_layer_sizes': (100,), 'learning_rate': 'adaptive'}\n",
      "0.835 (+/-0.043) for {'activation': 'tanh', 'hidden_layer_sizes': (10,), 'learning_rate': 'constant'}\n",
      "0.831 (+/-0.034) for {'activation': 'tanh', 'hidden_layer_sizes': (10,), 'learning_rate': 'invscaling'}\n",
      "0.832 (+/-0.035) for {'activation': 'tanh', 'hidden_layer_sizes': (10,), 'learning_rate': 'adaptive'}\n",
      "0.844 (+/-0.04) for {'activation': 'tanh', 'hidden_layer_sizes': (50,), 'learning_rate': 'constant'}\n",
      "0.844 (+/-0.038) for {'activation': 'tanh', 'hidden_layer_sizes': (50,), 'learning_rate': 'invscaling'}\n",
      "0.843 (+/-0.038) for {'activation': 'tanh', 'hidden_layer_sizes': (50,), 'learning_rate': 'adaptive'}\n",
      "0.843 (+/-0.037) for {'activation': 'tanh', 'hidden_layer_sizes': (100,), 'learning_rate': 'constant'}\n",
      "0.849 (+/-0.029) for {'activation': 'tanh', 'hidden_layer_sizes': (100,), 'learning_rate': 'invscaling'}\n",
      "0.846 (+/-0.034) for {'activation': 'tanh', 'hidden_layer_sizes': (100,), 'learning_rate': 'adaptive'}\n",
      "0.828 (+/-0.039) for {'activation': 'logistic', 'hidden_layer_sizes': (10,), 'learning_rate': 'constant'}\n",
      "0.828 (+/-0.048) for {'activation': 'logistic', 'hidden_layer_sizes': (10,), 'learning_rate': 'invscaling'}\n",
      "0.831 (+/-0.031) for {'activation': 'logistic', 'hidden_layer_sizes': (10,), 'learning_rate': 'adaptive'}\n",
      "0.832 (+/-0.037) for {'activation': 'logistic', 'hidden_layer_sizes': (50,), 'learning_rate': 'constant'}\n",
      "0.83 (+/-0.036) for {'activation': 'logistic', 'hidden_layer_sizes': (50,), 'learning_rate': 'invscaling'}\n",
      "0.832 (+/-0.037) for {'activation': 'logistic', 'hidden_layer_sizes': (50,), 'learning_rate': 'adaptive'}\n",
      "0.83 (+/-0.036) for {'activation': 'logistic', 'hidden_layer_sizes': (100,), 'learning_rate': 'constant'}\n",
      "0.83 (+/-0.036) for {'activation': 'logistic', 'hidden_layer_sizes': (100,), 'learning_rate': 'invscaling'}\n",
      "0.832 (+/-0.037) for {'activation': 'logistic', 'hidden_layer_sizes': (100,), 'learning_rate': 'adaptive'}\n"
     ]
    }
   ],
   "source": [
    "mlp = MLPClassifier()\n",
    "parameters = {\n",
    "    'hidden_layer_sizes': [(10,), (50,), (100,)],\n",
    "    'activation': ['relu', 'tanh', 'logistic'],\n",
    "    'learning_rate': ['constant', 'invscaling', 'adaptive']\n",
    "}\n",
    "\n",
    "cv = GridSearchCV(mlp, parameters, cv=5)\n",
    "cv.fit(X_train_full, y_train_full)\n",
    "\n",
    "print_results(cv)"
   ]
  },
  {
   "cell_type": "markdown",
   "metadata": {},
   "source": [
    "## Truncated feature set"
   ]
  },
  {
   "cell_type": "code",
   "execution_count": 85,
   "metadata": {
    "ExecuteTime": {
     "end_time": "2020-12-26T02:13:29.999345Z",
     "start_time": "2020-12-26T02:12:10.978146Z"
    }
   },
   "outputs": [
    {
     "name": "stdout",
     "output_type": "stream",
     "text": [
      "BEST PARAMS: {'activation': 'tanh', 'hidden_layer_sizes': (50,), 'learning_rate': 'adaptive'}\n",
      "\n",
      "0.828 (+/-0.029) for {'activation': 'relu', 'hidden_layer_sizes': (10,), 'learning_rate': 'constant'}\n",
      "0.828 (+/-0.052) for {'activation': 'relu', 'hidden_layer_sizes': (10,), 'learning_rate': 'invscaling'}\n",
      "0.83 (+/-0.05) for {'activation': 'relu', 'hidden_layer_sizes': (10,), 'learning_rate': 'adaptive'}\n",
      "0.846 (+/-0.025) for {'activation': 'relu', 'hidden_layer_sizes': (50,), 'learning_rate': 'constant'}\n",
      "0.842 (+/-0.033) for {'activation': 'relu', 'hidden_layer_sizes': (50,), 'learning_rate': 'invscaling'}\n",
      "0.843 (+/-0.043) for {'activation': 'relu', 'hidden_layer_sizes': (50,), 'learning_rate': 'adaptive'}\n",
      "0.842 (+/-0.036) for {'activation': 'relu', 'hidden_layer_sizes': (100,), 'learning_rate': 'constant'}\n",
      "0.843 (+/-0.044) for {'activation': 'relu', 'hidden_layer_sizes': (100,), 'learning_rate': 'invscaling'}\n",
      "0.847 (+/-0.041) for {'activation': 'relu', 'hidden_layer_sizes': (100,), 'learning_rate': 'adaptive'}\n",
      "0.843 (+/-0.042) for {'activation': 'tanh', 'hidden_layer_sizes': (10,), 'learning_rate': 'constant'}\n",
      "0.846 (+/-0.037) for {'activation': 'tanh', 'hidden_layer_sizes': (10,), 'learning_rate': 'invscaling'}\n",
      "0.826 (+/-0.034) for {'activation': 'tanh', 'hidden_layer_sizes': (10,), 'learning_rate': 'adaptive'}\n",
      "0.844 (+/-0.048) for {'activation': 'tanh', 'hidden_layer_sizes': (50,), 'learning_rate': 'constant'}\n",
      "0.842 (+/-0.035) for {'activation': 'tanh', 'hidden_layer_sizes': (50,), 'learning_rate': 'invscaling'}\n",
      "0.852 (+/-0.048) for {'activation': 'tanh', 'hidden_layer_sizes': (50,), 'learning_rate': 'adaptive'}\n",
      "0.847 (+/-0.026) for {'activation': 'tanh', 'hidden_layer_sizes': (100,), 'learning_rate': 'constant'}\n",
      "0.843 (+/-0.043) for {'activation': 'tanh', 'hidden_layer_sizes': (100,), 'learning_rate': 'invscaling'}\n",
      "0.847 (+/-0.04) for {'activation': 'tanh', 'hidden_layer_sizes': (100,), 'learning_rate': 'adaptive'}\n",
      "0.826 (+/-0.037) for {'activation': 'logistic', 'hidden_layer_sizes': (10,), 'learning_rate': 'constant'}\n",
      "0.83 (+/-0.033) for {'activation': 'logistic', 'hidden_layer_sizes': (10,), 'learning_rate': 'invscaling'}\n",
      "0.829 (+/-0.038) for {'activation': 'logistic', 'hidden_layer_sizes': (10,), 'learning_rate': 'adaptive'}\n",
      "0.835 (+/-0.031) for {'activation': 'logistic', 'hidden_layer_sizes': (50,), 'learning_rate': 'constant'}\n",
      "0.826 (+/-0.043) for {'activation': 'logistic', 'hidden_layer_sizes': (50,), 'learning_rate': 'invscaling'}\n",
      "0.833 (+/-0.025) for {'activation': 'logistic', 'hidden_layer_sizes': (50,), 'learning_rate': 'adaptive'}\n",
      "0.837 (+/-0.037) for {'activation': 'logistic', 'hidden_layer_sizes': (100,), 'learning_rate': 'constant'}\n",
      "0.835 (+/-0.033) for {'activation': 'logistic', 'hidden_layer_sizes': (100,), 'learning_rate': 'invscaling'}\n",
      "0.836 (+/-0.035) for {'activation': 'logistic', 'hidden_layer_sizes': (100,), 'learning_rate': 'adaptive'}\n"
     ]
    }
   ],
   "source": [
    "mlp = MLPClassifier()\n",
    "parameters = {\n",
    "    'hidden_layer_sizes': [(10,), (50,), (100,)],\n",
    "    'activation': ['relu', 'tanh', 'logistic'],\n",
    "    'learning_rate': ['constant', 'invscaling', 'adaptive']\n",
    "}\n",
    "\n",
    "cv = GridSearchCV(mlp, parameters, cv=5)\n",
    "cv.fit(X_train, y_train)\n",
    "\n",
    "print_results(cv)"
   ]
  },
  {
   "cell_type": "code",
   "execution_count": 88,
   "metadata": {
    "ExecuteTime": {
     "end_time": "2020-12-26T02:20:54.008600Z",
     "start_time": "2020-12-26T02:20:54.003069Z"
    }
   },
   "outputs": [
    {
     "data": {
      "text/plain": [
       "MLPClassifier(activation='tanh', hidden_layer_sizes=(50,),\n",
       "              learning_rate='adaptive')"
      ]
     },
     "execution_count": 88,
     "metadata": {},
     "output_type": "execute_result"
    }
   ],
   "source": [
    "cv.best_estimator_"
   ]
  },
  {
   "cell_type": "code",
   "execution_count": 89,
   "metadata": {
    "ExecuteTime": {
     "end_time": "2020-12-26T02:20:55.928888Z",
     "start_time": "2020-12-26T02:20:55.913007Z"
    }
   },
   "outputs": [
    {
     "data": {
      "text/plain": [
       "['MLP_model.pkl']"
      ]
     },
     "execution_count": 89,
     "metadata": {},
     "output_type": "execute_result"
    }
   ],
   "source": [
    "joblib.dump(cv.best_estimator_, 'MLP_model.pkl')"
   ]
  },
  {
   "cell_type": "markdown",
   "metadata": {},
   "source": [
    "## Inference "
   ]
  },
  {
   "cell_type": "markdown",
   "metadata": {},
   "source": [
    "Using Multi Layer Perceptron, the best accuracy is obtained using the truncated feature set, with hyperparamerer 'activation' = 'tanh', 'hidden_layer_sizes' = (50,), 'learning_rate' = 'adaptive'\n",
    "\n"
   ]
  },
  {
   "cell_type": "markdown",
   "metadata": {},
   "source": [
    "## Random Forest"
   ]
  },
  {
   "cell_type": "code",
   "execution_count": 49,
   "metadata": {
    "ExecuteTime": {
     "end_time": "2020-12-26T03:49:01.126619Z",
     "start_time": "2020-12-26T03:49:01.122139Z"
    }
   },
   "outputs": [],
   "source": [
    "from sklearn.ensemble import RandomForestClassifier"
   ]
  },
  {
   "cell_type": "markdown",
   "metadata": {},
   "source": [
    "## Full feature set"
   ]
  },
  {
   "cell_type": "code",
   "execution_count": 50,
   "metadata": {
    "ExecuteTime": {
     "end_time": "2020-12-26T03:49:23.869006Z",
     "start_time": "2020-12-26T03:49:02.872146Z"
    }
   },
   "outputs": [
    {
     "name": "stdout",
     "output_type": "stream",
     "text": [
      "BEST PARAMS: {'max_depth': 16, 'n_estimators': 250}\n",
      "\n",
      "0.801 (+/-0.079) for {'max_depth': 2, 'n_estimators': 5}\n",
      "0.829 (+/-0.038) for {'max_depth': 2, 'n_estimators': 50}\n",
      "0.839 (+/-0.02) for {'max_depth': 2, 'n_estimators': 250}\n",
      "0.826 (+/-0.042) for {'max_depth': 4, 'n_estimators': 5}\n",
      "0.842 (+/-0.02) for {'max_depth': 4, 'n_estimators': 50}\n",
      "0.843 (+/-0.034) for {'max_depth': 4, 'n_estimators': 250}\n",
      "0.832 (+/-0.058) for {'max_depth': 8, 'n_estimators': 5}\n",
      "0.868 (+/-0.017) for {'max_depth': 8, 'n_estimators': 50}\n",
      "0.868 (+/-0.023) for {'max_depth': 8, 'n_estimators': 250}\n",
      "0.836 (+/-0.047) for {'max_depth': 16, 'n_estimators': 5}\n",
      "0.871 (+/-0.038) for {'max_depth': 16, 'n_estimators': 50}\n",
      "0.875 (+/-0.038) for {'max_depth': 16, 'n_estimators': 250}\n",
      "0.854 (+/-0.04) for {'max_depth': 32, 'n_estimators': 5}\n",
      "0.871 (+/-0.034) for {'max_depth': 32, 'n_estimators': 50}\n",
      "0.871 (+/-0.037) for {'max_depth': 32, 'n_estimators': 250}\n",
      "0.835 (+/-0.069) for {'max_depth': None, 'n_estimators': 5}\n",
      "0.874 (+/-0.028) for {'max_depth': None, 'n_estimators': 50}\n",
      "0.871 (+/-0.043) for {'max_depth': None, 'n_estimators': 250}\n"
     ]
    }
   ],
   "source": [
    "rf = RandomForestClassifier()\n",
    "parameters = {\n",
    "    'n_estimators': [5, 50, 250],\n",
    "    'max_depth': [2, 4, 8, 16, 32, None]\n",
    "}\n",
    "\n",
    "cv = GridSearchCV(rf, parameters, cv=5)\n",
    "cv.fit(X_train_full, y_train_full)\n",
    "\n",
    "print_results(cv)"
   ]
  },
  {
   "cell_type": "code",
   "execution_count": 51,
   "metadata": {
    "ExecuteTime": {
     "end_time": "2020-12-26T03:49:40.075943Z",
     "start_time": "2020-12-26T03:49:40.070547Z"
    }
   },
   "outputs": [
    {
     "data": {
      "text/plain": [
       "RandomForestClassifier(max_depth=16, n_estimators=250)"
      ]
     },
     "execution_count": 51,
     "metadata": {},
     "output_type": "execute_result"
    }
   ],
   "source": [
    "cv.best_estimator_"
   ]
  },
  {
   "cell_type": "markdown",
   "metadata": {},
   "source": [
    "## Truncated feature set"
   ]
  },
  {
   "cell_type": "code",
   "execution_count": 52,
   "metadata": {
    "ExecuteTime": {
     "end_time": "2020-12-26T03:50:57.755266Z",
     "start_time": "2020-12-26T03:50:36.877242Z"
    }
   },
   "outputs": [
    {
     "name": "stdout",
     "output_type": "stream",
     "text": [
      "BEST PARAMS: {'max_depth': 16, 'n_estimators': 250}\n",
      "\n",
      "0.814 (+/-0.043) for {'max_depth': 2, 'n_estimators': 5}\n",
      "0.832 (+/-0.027) for {'max_depth': 2, 'n_estimators': 50}\n",
      "0.838 (+/-0.033) for {'max_depth': 2, 'n_estimators': 250}\n",
      "0.822 (+/-0.046) for {'max_depth': 4, 'n_estimators': 5}\n",
      "0.838 (+/-0.028) for {'max_depth': 4, 'n_estimators': 50}\n",
      "0.845 (+/-0.039) for {'max_depth': 4, 'n_estimators': 250}\n",
      "0.857 (+/-0.059) for {'max_depth': 8, 'n_estimators': 5}\n",
      "0.87 (+/-0.04) for {'max_depth': 8, 'n_estimators': 50}\n",
      "0.868 (+/-0.029) for {'max_depth': 8, 'n_estimators': 250}\n",
      "0.861 (+/-0.043) for {'max_depth': 16, 'n_estimators': 5}\n",
      "0.871 (+/-0.021) for {'max_depth': 16, 'n_estimators': 50}\n",
      "0.877 (+/-0.025) for {'max_depth': 16, 'n_estimators': 250}\n",
      "0.839 (+/-0.064) for {'max_depth': 32, 'n_estimators': 5}\n",
      "0.871 (+/-0.037) for {'max_depth': 32, 'n_estimators': 50}\n",
      "0.874 (+/-0.02) for {'max_depth': 32, 'n_estimators': 250}\n",
      "0.851 (+/-0.053) for {'max_depth': None, 'n_estimators': 5}\n",
      "0.871 (+/-0.011) for {'max_depth': None, 'n_estimators': 50}\n",
      "0.874 (+/-0.049) for {'max_depth': None, 'n_estimators': 250}\n"
     ]
    }
   ],
   "source": [
    "rf = RandomForestClassifier()\n",
    "parameters = {\n",
    "    'n_estimators': [5, 50, 250],\n",
    "    'max_depth': [2, 4, 8, 16, 32, None]\n",
    "}\n",
    "\n",
    "cv = GridSearchCV(rf, parameters, cv=5)\n",
    "cv.fit(X_train, y_train)\n",
    "\n",
    "print_results(cv)"
   ]
  },
  {
   "cell_type": "code",
   "execution_count": 54,
   "metadata": {
    "ExecuteTime": {
     "end_time": "2020-12-26T03:53:00.802106Z",
     "start_time": "2020-12-26T03:53:00.796159Z"
    }
   },
   "outputs": [
    {
     "data": {
      "text/plain": [
       "RandomForestClassifier(max_depth=16, n_estimators=250)"
      ]
     },
     "execution_count": 54,
     "metadata": {},
     "output_type": "execute_result"
    }
   ],
   "source": [
    "cv.best_estimator_"
   ]
  },
  {
   "cell_type": "code",
   "execution_count": 55,
   "metadata": {
    "ExecuteTime": {
     "end_time": "2020-12-26T03:53:02.891139Z",
     "start_time": "2020-12-26T03:53:02.719549Z"
    }
   },
   "outputs": [
    {
     "data": {
      "text/plain": [
       "['RF_model.pkl']"
      ]
     },
     "execution_count": 55,
     "metadata": {},
     "output_type": "execute_result"
    }
   ],
   "source": [
    "joblib.dump(cv.best_estimator_, 'RF_model.pkl')"
   ]
  },
  {
   "cell_type": "markdown",
   "metadata": {},
   "source": [
    "## Inference "
   ]
  },
  {
   "cell_type": "markdown",
   "metadata": {},
   "source": [
    "Using Random Forests, the best accuracy is obtained using the truncated dataset with 'max_depth' = 16, 'n_estimators' = 250"
   ]
  },
  {
   "cell_type": "markdown",
   "metadata": {},
   "source": [
    "## Gradient boosting"
   ]
  },
  {
   "cell_type": "code",
   "execution_count": 44,
   "metadata": {
    "ExecuteTime": {
     "end_time": "2020-12-26T03:07:48.266785Z",
     "start_time": "2020-12-26T03:07:48.262204Z"
    }
   },
   "outputs": [],
   "source": [
    "from sklearn.ensemble import GradientBoostingClassifier"
   ]
  },
  {
   "cell_type": "markdown",
   "metadata": {},
   "source": [
    "## Full feature set"
   ]
  },
  {
   "cell_type": "code",
   "execution_count": 45,
   "metadata": {
    "ExecuteTime": {
     "end_time": "2020-12-26T03:23:36.883087Z",
     "start_time": "2020-12-26T03:11:48.556190Z"
    }
   },
   "outputs": [
    {
     "name": "stdout",
     "output_type": "stream",
     "text": [
      "BEST PARAMS: {'learning_rate': 0.01, 'max_depth': 7, 'n_estimators': 500}\n",
      "\n",
      "0.52 (+/-0.006) for {'learning_rate': 0.01, 'max_depth': 1, 'n_estimators': 5}\n",
      "0.787 (+/-0.054) for {'learning_rate': 0.01, 'max_depth': 1, 'n_estimators': 50}\n",
      "0.787 (+/-0.054) for {'learning_rate': 0.01, 'max_depth': 1, 'n_estimators': 100}\n",
      "0.8 (+/-0.034) for {'learning_rate': 0.01, 'max_depth': 1, 'n_estimators': 150}\n",
      "0.824 (+/-0.048) for {'learning_rate': 0.01, 'max_depth': 1, 'n_estimators': 200}\n",
      "0.835 (+/-0.048) for {'learning_rate': 0.01, 'max_depth': 1, 'n_estimators': 250}\n",
      "0.838 (+/-0.035) for {'learning_rate': 0.01, 'max_depth': 1, 'n_estimators': 500}\n",
      "0.766 (+/-0.03) for {'learning_rate': 0.01, 'max_depth': 2, 'n_estimators': 5}\n",
      "0.794 (+/-0.052) for {'learning_rate': 0.01, 'max_depth': 2, 'n_estimators': 50}\n",
      "0.817 (+/-0.036) for {'learning_rate': 0.01, 'max_depth': 2, 'n_estimators': 100}\n",
      "0.825 (+/-0.038) for {'learning_rate': 0.01, 'max_depth': 2, 'n_estimators': 150}\n",
      "0.832 (+/-0.05) for {'learning_rate': 0.01, 'max_depth': 2, 'n_estimators': 200}\n",
      "0.833 (+/-0.042) for {'learning_rate': 0.01, 'max_depth': 2, 'n_estimators': 250}\n",
      "0.849 (+/-0.042) for {'learning_rate': 0.01, 'max_depth': 2, 'n_estimators': 500}\n",
      "0.768 (+/-0.026) for {'learning_rate': 0.01, 'max_depth': 3, 'n_estimators': 5}\n",
      "0.826 (+/-0.032) for {'learning_rate': 0.01, 'max_depth': 3, 'n_estimators': 50}\n",
      "0.835 (+/-0.027) for {'learning_rate': 0.01, 'max_depth': 3, 'n_estimators': 100}\n",
      "0.833 (+/-0.021) for {'learning_rate': 0.01, 'max_depth': 3, 'n_estimators': 150}\n",
      "0.842 (+/-0.019) for {'learning_rate': 0.01, 'max_depth': 3, 'n_estimators': 200}\n",
      "0.846 (+/-0.027) for {'learning_rate': 0.01, 'max_depth': 3, 'n_estimators': 250}\n",
      "0.844 (+/-0.044) for {'learning_rate': 0.01, 'max_depth': 3, 'n_estimators': 500}\n",
      "0.753 (+/-0.059) for {'learning_rate': 0.01, 'max_depth': 4, 'n_estimators': 5}\n",
      "0.845 (+/-0.032) for {'learning_rate': 0.01, 'max_depth': 4, 'n_estimators': 50}\n",
      "0.849 (+/-0.036) for {'learning_rate': 0.01, 'max_depth': 4, 'n_estimators': 100}\n",
      "0.849 (+/-0.033) for {'learning_rate': 0.01, 'max_depth': 4, 'n_estimators': 150}\n",
      "0.86 (+/-0.044) for {'learning_rate': 0.01, 'max_depth': 4, 'n_estimators': 200}\n",
      "0.863 (+/-0.041) for {'learning_rate': 0.01, 'max_depth': 4, 'n_estimators': 250}\n",
      "0.863 (+/-0.053) for {'learning_rate': 0.01, 'max_depth': 4, 'n_estimators': 500}\n",
      "0.762 (+/-0.038) for {'learning_rate': 0.01, 'max_depth': 5, 'n_estimators': 5}\n",
      "0.835 (+/-0.014) for {'learning_rate': 0.01, 'max_depth': 5, 'n_estimators': 50}\n",
      "0.843 (+/-0.031) for {'learning_rate': 0.01, 'max_depth': 5, 'n_estimators': 100}\n",
      "0.856 (+/-0.034) for {'learning_rate': 0.01, 'max_depth': 5, 'n_estimators': 150}\n",
      "0.864 (+/-0.042) for {'learning_rate': 0.01, 'max_depth': 5, 'n_estimators': 200}\n",
      "0.864 (+/-0.039) for {'learning_rate': 0.01, 'max_depth': 5, 'n_estimators': 250}\n",
      "0.867 (+/-0.037) for {'learning_rate': 0.01, 'max_depth': 5, 'n_estimators': 500}\n",
      "0.831 (+/-0.041) for {'learning_rate': 0.01, 'max_depth': 7, 'n_estimators': 5}\n",
      "0.84 (+/-0.044) for {'learning_rate': 0.01, 'max_depth': 7, 'n_estimators': 50}\n",
      "0.854 (+/-0.029) for {'learning_rate': 0.01, 'max_depth': 7, 'n_estimators': 100}\n",
      "0.853 (+/-0.034) for {'learning_rate': 0.01, 'max_depth': 7, 'n_estimators': 150}\n",
      "0.857 (+/-0.024) for {'learning_rate': 0.01, 'max_depth': 7, 'n_estimators': 200}\n",
      "0.86 (+/-0.04) for {'learning_rate': 0.01, 'max_depth': 7, 'n_estimators': 250}\n",
      "0.877 (+/-0.044) for {'learning_rate': 0.01, 'max_depth': 7, 'n_estimators': 500}\n",
      "0.832 (+/-0.056) for {'learning_rate': 0.01, 'max_depth': 9, 'n_estimators': 5}\n",
      "0.829 (+/-0.036) for {'learning_rate': 0.01, 'max_depth': 9, 'n_estimators': 50}\n",
      "0.831 (+/-0.037) for {'learning_rate': 0.01, 'max_depth': 9, 'n_estimators': 100}\n",
      "0.832 (+/-0.037) for {'learning_rate': 0.01, 'max_depth': 9, 'n_estimators': 150}\n",
      "0.831 (+/-0.02) for {'learning_rate': 0.01, 'max_depth': 9, 'n_estimators': 200}\n",
      "0.831 (+/-0.016) for {'learning_rate': 0.01, 'max_depth': 9, 'n_estimators': 250}\n",
      "0.854 (+/-0.058) for {'learning_rate': 0.01, 'max_depth': 9, 'n_estimators': 500}\n",
      "0.787 (+/-0.054) for {'learning_rate': 0.1, 'max_depth': 1, 'n_estimators': 5}\n",
      "0.839 (+/-0.04) for {'learning_rate': 0.1, 'max_depth': 1, 'n_estimators': 50}\n",
      "0.846 (+/-0.037) for {'learning_rate': 0.1, 'max_depth': 1, 'n_estimators': 100}\n",
      "0.847 (+/-0.023) for {'learning_rate': 0.1, 'max_depth': 1, 'n_estimators': 150}\n",
      "0.852 (+/-0.029) for {'learning_rate': 0.1, 'max_depth': 1, 'n_estimators': 200}\n",
      "0.852 (+/-0.032) for {'learning_rate': 0.1, 'max_depth': 1, 'n_estimators': 250}\n",
      "0.842 (+/-0.04) for {'learning_rate': 0.1, 'max_depth': 1, 'n_estimators': 500}\n",
      "0.795 (+/-0.052) for {'learning_rate': 0.1, 'max_depth': 2, 'n_estimators': 5}\n",
      "0.847 (+/-0.032) for {'learning_rate': 0.1, 'max_depth': 2, 'n_estimators': 50}\n",
      "0.85 (+/-0.028) for {'learning_rate': 0.1, 'max_depth': 2, 'n_estimators': 100}\n",
      "0.843 (+/-0.042) for {'learning_rate': 0.1, 'max_depth': 2, 'n_estimators': 150}\n",
      "0.85 (+/-0.038) for {'learning_rate': 0.1, 'max_depth': 2, 'n_estimators': 200}\n",
      "0.854 (+/-0.052) for {'learning_rate': 0.1, 'max_depth': 2, 'n_estimators': 250}\n",
      "0.849 (+/-0.056) for {'learning_rate': 0.1, 'max_depth': 2, 'n_estimators': 500}\n",
      "0.829 (+/-0.034) for {'learning_rate': 0.1, 'max_depth': 3, 'n_estimators': 5}\n",
      "0.847 (+/-0.045) for {'learning_rate': 0.1, 'max_depth': 3, 'n_estimators': 50}\n",
      "0.856 (+/-0.048) for {'learning_rate': 0.1, 'max_depth': 3, 'n_estimators': 100}\n",
      "0.864 (+/-0.037) for {'learning_rate': 0.1, 'max_depth': 3, 'n_estimators': 150}\n",
      "0.87 (+/-0.045) for {'learning_rate': 0.1, 'max_depth': 3, 'n_estimators': 200}\n",
      "0.87 (+/-0.054) for {'learning_rate': 0.1, 'max_depth': 3, 'n_estimators': 250}\n",
      "0.871 (+/-0.049) for {'learning_rate': 0.1, 'max_depth': 3, 'n_estimators': 500}\n",
      "0.838 (+/-0.039) for {'learning_rate': 0.1, 'max_depth': 4, 'n_estimators': 5}\n",
      "0.863 (+/-0.047) for {'learning_rate': 0.1, 'max_depth': 4, 'n_estimators': 50}\n",
      "0.871 (+/-0.042) for {'learning_rate': 0.1, 'max_depth': 4, 'n_estimators': 100}\n",
      "0.859 (+/-0.024) for {'learning_rate': 0.1, 'max_depth': 4, 'n_estimators': 150}\n",
      "0.86 (+/-0.033) for {'learning_rate': 0.1, 'max_depth': 4, 'n_estimators': 200}\n",
      "0.86 (+/-0.034) for {'learning_rate': 0.1, 'max_depth': 4, 'n_estimators': 250}\n",
      "0.853 (+/-0.045) for {'learning_rate': 0.1, 'max_depth': 4, 'n_estimators': 500}\n",
      "0.832 (+/-0.027) for {'learning_rate': 0.1, 'max_depth': 5, 'n_estimators': 5}\n",
      "0.873 (+/-0.04) for {'learning_rate': 0.1, 'max_depth': 5, 'n_estimators': 50}\n",
      "0.861 (+/-0.032) for {'learning_rate': 0.1, 'max_depth': 5, 'n_estimators': 100}\n",
      "0.853 (+/-0.037) for {'learning_rate': 0.1, 'max_depth': 5, 'n_estimators': 150}\n",
      "0.852 (+/-0.035) for {'learning_rate': 0.1, 'max_depth': 5, 'n_estimators': 200}\n",
      "0.852 (+/-0.037) for {'learning_rate': 0.1, 'max_depth': 5, 'n_estimators': 250}\n",
      "0.854 (+/-0.042) for {'learning_rate': 0.1, 'max_depth': 5, 'n_estimators': 500}\n",
      "0.836 (+/-0.04) for {'learning_rate': 0.1, 'max_depth': 7, 'n_estimators': 5}\n",
      "0.871 (+/-0.043) for {'learning_rate': 0.1, 'max_depth': 7, 'n_estimators': 50}\n",
      "0.875 (+/-0.044) for {'learning_rate': 0.1, 'max_depth': 7, 'n_estimators': 100}\n",
      "0.87 (+/-0.035) for {'learning_rate': 0.1, 'max_depth': 7, 'n_estimators': 150}\n",
      "0.868 (+/-0.019) for {'learning_rate': 0.1, 'max_depth': 7, 'n_estimators': 200}\n",
      "0.867 (+/-0.05) for {'learning_rate': 0.1, 'max_depth': 7, 'n_estimators': 250}\n",
      "0.857 (+/-0.033) for {'learning_rate': 0.1, 'max_depth': 7, 'n_estimators': 500}\n",
      "0.826 (+/-0.049) for {'learning_rate': 0.1, 'max_depth': 9, 'n_estimators': 5}\n",
      "0.845 (+/-0.026) for {'learning_rate': 0.1, 'max_depth': 9, 'n_estimators': 50}\n",
      "0.845 (+/-0.027) for {'learning_rate': 0.1, 'max_depth': 9, 'n_estimators': 100}\n",
      "0.849 (+/-0.028) for {'learning_rate': 0.1, 'max_depth': 9, 'n_estimators': 150}\n",
      "0.846 (+/-0.029) for {'learning_rate': 0.1, 'max_depth': 9, 'n_estimators': 200}\n",
      "0.847 (+/-0.033) for {'learning_rate': 0.1, 'max_depth': 9, 'n_estimators': 250}\n",
      "0.857 (+/-0.029) for {'learning_rate': 0.1, 'max_depth': 9, 'n_estimators': 500}\n",
      "0.836 (+/-0.044) for {'learning_rate': 1, 'max_depth': 1, 'n_estimators': 5}\n",
      "0.839 (+/-0.032) for {'learning_rate': 1, 'max_depth': 1, 'n_estimators': 50}\n",
      "0.836 (+/-0.038) for {'learning_rate': 1, 'max_depth': 1, 'n_estimators': 100}\n",
      "0.843 (+/-0.026) for {'learning_rate': 1, 'max_depth': 1, 'n_estimators': 150}\n",
      "0.843 (+/-0.03) for {'learning_rate': 1, 'max_depth': 1, 'n_estimators': 200}\n",
      "0.843 (+/-0.023) for {'learning_rate': 1, 'max_depth': 1, 'n_estimators': 250}\n",
      "0.854 (+/-0.022) for {'learning_rate': 1, 'max_depth': 1, 'n_estimators': 500}\n",
      "0.821 (+/-0.017) for {'learning_rate': 1, 'max_depth': 2, 'n_estimators': 5}\n",
      "0.832 (+/-0.039) for {'learning_rate': 1, 'max_depth': 2, 'n_estimators': 50}\n",
      "0.844 (+/-0.033) for {'learning_rate': 1, 'max_depth': 2, 'n_estimators': 100}\n",
      "0.846 (+/-0.024) for {'learning_rate': 1, 'max_depth': 2, 'n_estimators': 150}\n",
      "0.853 (+/-0.024) for {'learning_rate': 1, 'max_depth': 2, 'n_estimators': 200}\n",
      "0.845 (+/-0.019) for {'learning_rate': 1, 'max_depth': 2, 'n_estimators': 250}\n",
      "0.843 (+/-0.026) for {'learning_rate': 1, 'max_depth': 2, 'n_estimators': 500}\n",
      "0.828 (+/-0.046) for {'learning_rate': 1, 'max_depth': 3, 'n_estimators': 5}\n",
      "0.863 (+/-0.053) for {'learning_rate': 1, 'max_depth': 3, 'n_estimators': 50}\n",
      "0.859 (+/-0.047) for {'learning_rate': 1, 'max_depth': 3, 'n_estimators': 100}\n",
      "0.85 (+/-0.041) for {'learning_rate': 1, 'max_depth': 3, 'n_estimators': 150}\n",
      "0.844 (+/-0.058) for {'learning_rate': 1, 'max_depth': 3, 'n_estimators': 200}\n",
      "0.842 (+/-0.054) for {'learning_rate': 1, 'max_depth': 3, 'n_estimators': 250}\n",
      "0.85 (+/-0.041) for {'learning_rate': 1, 'max_depth': 3, 'n_estimators': 500}\n",
      "0.835 (+/-0.023) for {'learning_rate': 1, 'max_depth': 4, 'n_estimators': 5}\n",
      "0.857 (+/-0.043) for {'learning_rate': 1, 'max_depth': 4, 'n_estimators': 50}\n",
      "0.858 (+/-0.052) for {'learning_rate': 1, 'max_depth': 4, 'n_estimators': 100}\n",
      "0.856 (+/-0.025) for {'learning_rate': 1, 'max_depth': 4, 'n_estimators': 150}\n",
      "0.856 (+/-0.037) for {'learning_rate': 1, "
     ]
    },
    {
     "data": {
      "text/html": [
       "<b>limit_output extension: Maximum message size of 10000 exceeded with 19662 characters</b>"
      ]
     },
     "metadata": {},
     "output_type": "display_data"
    }
   ],
   "source": [
    "gb = GradientBoostingClassifier()\n",
    "parameters = {\n",
    "    'n_estimators': [5, 50, 100, 150, 200, 250, 500],\n",
    "    'max_depth': [1, 2, 3, 4, 5, 7, 9],\n",
    "    'learning_rate': [0.01, 0.1, 1, 10, 100]\n",
    "}\n",
    "\n",
    "cv = GridSearchCV(gb, parameters, cv=5)\n",
    "cv.fit(X_train_full, y_train_full)\n",
    "\n",
    "print_results(cv)"
   ]
  },
  {
   "cell_type": "markdown",
   "metadata": {},
   "source": [
    "best accuracy : 0.877 (+/-0.044) for {'learning_rate': 0.01, 'max_depth': 7, 'n_estimators': 500}"
   ]
  },
  {
   "cell_type": "markdown",
   "metadata": {},
   "source": [
    "## Truncated feature set"
   ]
  },
  {
   "cell_type": "code",
   "execution_count": 46,
   "metadata": {
    "ExecuteTime": {
     "end_time": "2020-12-26T03:34:59.592654Z",
     "start_time": "2020-12-26T03:23:36.888429Z"
    }
   },
   "outputs": [
    {
     "name": "stdout",
     "output_type": "stream",
     "text": [
      "BEST PARAMS: {'learning_rate': 1, 'max_depth': 9, 'n_estimators': 50}\n",
      "\n",
      "0.52 (+/-0.006) for {'learning_rate': 0.01, 'max_depth': 1, 'n_estimators': 5}\n",
      "0.787 (+/-0.054) for {'learning_rate': 0.01, 'max_depth': 1, 'n_estimators': 50}\n",
      "0.787 (+/-0.054) for {'learning_rate': 0.01, 'max_depth': 1, 'n_estimators': 100}\n",
      "0.8 (+/-0.034) for {'learning_rate': 0.01, 'max_depth': 1, 'n_estimators': 150}\n",
      "0.824 (+/-0.048) for {'learning_rate': 0.01, 'max_depth': 1, 'n_estimators': 200}\n",
      "0.835 (+/-0.048) for {'learning_rate': 0.01, 'max_depth': 1, 'n_estimators': 250}\n",
      "0.838 (+/-0.035) for {'learning_rate': 0.01, 'max_depth': 1, 'n_estimators': 500}\n",
      "0.766 (+/-0.03) for {'learning_rate': 0.01, 'max_depth': 2, 'n_estimators': 5}\n",
      "0.794 (+/-0.052) for {'learning_rate': 0.01, 'max_depth': 2, 'n_estimators': 50}\n",
      "0.812 (+/-0.05) for {'learning_rate': 0.01, 'max_depth': 2, 'n_estimators': 100}\n",
      "0.825 (+/-0.038) for {'learning_rate': 0.01, 'max_depth': 2, 'n_estimators': 150}\n",
      "0.832 (+/-0.051) for {'learning_rate': 0.01, 'max_depth': 2, 'n_estimators': 200}\n",
      "0.839 (+/-0.03) for {'learning_rate': 0.01, 'max_depth': 2, 'n_estimators': 250}\n",
      "0.852 (+/-0.027) for {'learning_rate': 0.01, 'max_depth': 2, 'n_estimators': 500}\n",
      "0.768 (+/-0.026) for {'learning_rate': 0.01, 'max_depth': 3, 'n_estimators': 5}\n",
      "0.828 (+/-0.04) for {'learning_rate': 0.01, 'max_depth': 3, 'n_estimators': 50}\n",
      "0.829 (+/-0.028) for {'learning_rate': 0.01, 'max_depth': 3, 'n_estimators': 100}\n",
      "0.838 (+/-0.03) for {'learning_rate': 0.01, 'max_depth': 3, 'n_estimators': 150}\n",
      "0.843 (+/-0.023) for {'learning_rate': 0.01, 'max_depth': 3, 'n_estimators': 200}\n",
      "0.847 (+/-0.023) for {'learning_rate': 0.01, 'max_depth': 3, 'n_estimators': 250}\n",
      "0.853 (+/-0.035) for {'learning_rate': 0.01, 'max_depth': 3, 'n_estimators': 500}\n",
      "0.755 (+/-0.054) for {'learning_rate': 0.01, 'max_depth': 4, 'n_estimators': 5}\n",
      "0.839 (+/-0.02) for {'learning_rate': 0.01, 'max_depth': 4, 'n_estimators': 50}\n",
      "0.845 (+/-0.034) for {'learning_rate': 0.01, 'max_depth': 4, 'n_estimators': 100}\n",
      "0.847 (+/-0.038) for {'learning_rate': 0.01, 'max_depth': 4, 'n_estimators': 150}\n",
      "0.856 (+/-0.03) for {'learning_rate': 0.01, 'max_depth': 4, 'n_estimators': 200}\n",
      "0.86 (+/-0.027) for {'learning_rate': 0.01, 'max_depth': 4, 'n_estimators': 250}\n",
      "0.861 (+/-0.038) for {'learning_rate': 0.01, 'max_depth': 4, 'n_estimators': 500}\n",
      "0.779 (+/-0.046) for {'learning_rate': 0.01, 'max_depth': 5, 'n_estimators': 5}\n",
      "0.84 (+/-0.024) for {'learning_rate': 0.01, 'max_depth': 5, 'n_estimators': 50}\n",
      "0.845 (+/-0.031) for {'learning_rate': 0.01, 'max_depth': 5, 'n_estimators': 100}\n",
      "0.847 (+/-0.039) for {'learning_rate': 0.01, 'max_depth': 5, 'n_estimators': 150}\n",
      "0.852 (+/-0.043) for {'learning_rate': 0.01, 'max_depth': 5, 'n_estimators': 200}\n",
      "0.849 (+/-0.04) for {'learning_rate': 0.01, 'max_depth': 5, 'n_estimators': 250}\n",
      "0.873 (+/-0.03) for {'learning_rate': 0.01, 'max_depth': 5, 'n_estimators': 500}\n",
      "0.824 (+/-0.038) for {'learning_rate': 0.01, 'max_depth': 7, 'n_estimators': 5}\n",
      "0.84 (+/-0.028) for {'learning_rate': 0.01, 'max_depth': 7, 'n_estimators': 50}\n",
      "0.843 (+/-0.026) for {'learning_rate': 0.01, 'max_depth': 7, 'n_estimators': 100}\n",
      "0.843 (+/-0.034) for {'learning_rate': 0.01, 'max_depth': 7, 'n_estimators': 150}\n",
      "0.857 (+/-0.042) for {'learning_rate': 0.01, 'max_depth': 7, 'n_estimators': 200}\n",
      "0.864 (+/-0.042) for {'learning_rate': 0.01, 'max_depth': 7, 'n_estimators': 250}\n",
      "0.859 (+/-0.036) for {'learning_rate': 0.01, 'max_depth': 7, 'n_estimators': 500}\n",
      "0.84 (+/-0.041) for {'learning_rate': 0.01, 'max_depth': 9, 'n_estimators': 5}\n",
      "0.836 (+/-0.036) for {'learning_rate': 0.01, 'max_depth': 9, 'n_estimators': 50}\n",
      "0.838 (+/-0.048) for {'learning_rate': 0.01, 'max_depth': 9, 'n_estimators': 100}\n",
      "0.839 (+/-0.051) for {'learning_rate': 0.01, 'max_depth': 9, 'n_estimators': 150}\n",
      "0.842 (+/-0.053) for {'learning_rate': 0.01, 'max_depth': 9, 'n_estimators': 200}\n",
      "0.842 (+/-0.053) for {'learning_rate': 0.01, 'max_depth': 9, 'n_estimators': 250}\n",
      "0.846 (+/-0.055) for {'learning_rate': 0.01, 'max_depth': 9, 'n_estimators': 500}\n",
      "0.787 (+/-0.054) for {'learning_rate': 0.1, 'max_depth': 1, 'n_estimators': 5}\n",
      "0.839 (+/-0.04) for {'learning_rate': 0.1, 'max_depth': 1, 'n_estimators': 50}\n",
      "0.846 (+/-0.034) for {'learning_rate': 0.1, 'max_depth': 1, 'n_estimators': 100}\n",
      "0.854 (+/-0.023) for {'learning_rate': 0.1, 'max_depth': 1, 'n_estimators': 150}\n",
      "0.854 (+/-0.021) for {'learning_rate': 0.1, 'max_depth': 1, 'n_estimators': 200}\n",
      "0.854 (+/-0.027) for {'learning_rate': 0.1, 'max_depth': 1, 'n_estimators': 250}\n",
      "0.85 (+/-0.029) for {'learning_rate': 0.1, 'max_depth': 1, 'n_estimators': 500}\n",
      "0.795 (+/-0.052) for {'learning_rate': 0.1, 'max_depth': 2, 'n_estimators': 5}\n",
      "0.854 (+/-0.024) for {'learning_rate': 0.1, 'max_depth': 2, 'n_estimators': 50}\n",
      "0.846 (+/-0.027) for {'learning_rate': 0.1, 'max_depth': 2, 'n_estimators': 100}\n",
      "0.852 (+/-0.038) for {'learning_rate': 0.1, 'max_depth': 2, 'n_estimators': 150}\n",
      "0.849 (+/-0.032) for {'learning_rate': 0.1, 'max_depth': 2, 'n_estimators': 200}\n",
      "0.849 (+/-0.041) for {'learning_rate': 0.1, 'max_depth': 2, 'n_estimators': 250}\n",
      "0.853 (+/-0.043) for {'learning_rate': 0.1, 'max_depth': 2, 'n_estimators': 500}\n",
      "0.829 (+/-0.033) for {'learning_rate': 0.1, 'max_depth': 3, 'n_estimators': 5}\n",
      "0.854 (+/-0.024) for {'learning_rate': 0.1, 'max_depth': 3, 'n_estimators': 50}\n",
      "0.854 (+/-0.033) for {'learning_rate': 0.1, 'max_depth': 3, 'n_estimators': 100}\n",
      "0.856 (+/-0.023) for {'learning_rate': 0.1, 'max_depth': 3, 'n_estimators': 150}\n",
      "0.856 (+/-0.058) for {'learning_rate': 0.1, 'max_depth': 3, 'n_estimators': 200}\n",
      "0.863 (+/-0.046) for {'learning_rate': 0.1, 'max_depth': 3, 'n_estimators': 250}\n",
      "0.867 (+/-0.035) for {'learning_rate': 0.1, 'max_depth': 3, 'n_estimators': 500}\n",
      "0.838 (+/-0.019) for {'learning_rate': 0.1, 'max_depth': 4, 'n_estimators': 5}\n",
      "0.861 (+/-0.028) for {'learning_rate': 0.1, 'max_depth': 4, 'n_estimators': 50}\n",
      "0.87 (+/-0.035) for {'learning_rate': 0.1, 'max_depth': 4, 'n_estimators': 100}\n",
      "0.871 (+/-0.045) for {'learning_rate': 0.1, 'max_depth': 4, 'n_estimators': 150}\n",
      "0.873 (+/-0.023) for {'learning_rate': 0.1, 'max_depth': 4, 'n_estimators': 200}\n",
      "0.861 (+/-0.045) for {'learning_rate': 0.1, 'max_depth': 4, 'n_estimators': 250}\n",
      "0.867 (+/-0.052) for {'learning_rate': 0.1, 'max_depth': 4, 'n_estimators': 500}\n",
      "0.842 (+/-0.026) for {'learning_rate': 0.1, 'max_depth': 5, 'n_estimators': 5}\n",
      "0.871 (+/-0.032) for {'learning_rate': 0.1, 'max_depth': 5, 'n_estimators': 50}\n",
      "0.875 (+/-0.038) for {'learning_rate': 0.1, 'max_depth': 5, 'n_estimators': 100}\n",
      "0.868 (+/-0.032) for {'learning_rate': 0.1, 'max_depth': 5, 'n_estimators': 150}\n",
      "0.859 (+/-0.033) for {'learning_rate': 0.1, 'max_depth': 5, 'n_estimators': 200}\n",
      "0.868 (+/-0.025) for {'learning_rate': 0.1, 'max_depth': 5, 'n_estimators': 250}\n",
      "0.854 (+/-0.034) for {'learning_rate': 0.1, 'max_depth': 5, 'n_estimators': 500}\n",
      "0.833 (+/-0.052) for {'learning_rate': 0.1, 'max_depth': 7, 'n_estimators': 5}\n",
      "0.861 (+/-0.04) for {'learning_rate': 0.1, 'max_depth': 7, 'n_estimators': 50}\n",
      "0.86 (+/-0.043) for {'learning_rate': 0.1, 'max_depth': 7, 'n_estimators': 100}\n",
      "0.857 (+/-0.023) for {'learning_rate': 0.1, 'max_depth': 7, 'n_estimators': 150}\n",
      "0.842 (+/-0.045) for {'learning_rate': 0.1, 'max_depth': 7, 'n_estimators': 200}\n",
      "0.859 (+/-0.034) for {'learning_rate': 0.1, 'max_depth': 7, 'n_estimators': 250}\n",
      "0.857 (+/-0.041) for {'learning_rate': 0.1, 'max_depth': 7, 'n_estimators': 500}\n",
      "0.839 (+/-0.035) for {'learning_rate': 0.1, 'max_depth': 9, 'n_estimators': 5}\n",
      "0.843 (+/-0.067) for {'learning_rate': 0.1, 'max_depth': 9, 'n_estimators': 50}\n",
      "0.85 (+/-0.061) for {'learning_rate': 0.1, 'max_depth': 9, 'n_estimators': 100}\n",
      "0.854 (+/-0.053) for {'learning_rate': 0.1, 'max_depth': 9, 'n_estimators': 150}\n",
      "0.852 (+/-0.047) for {'learning_rate': 0.1, 'max_depth': 9, 'n_estimators': 200}\n",
      "0.853 (+/-0.045) for {'learning_rate': 0.1, 'max_depth': 9, 'n_estimators': 250}\n",
      "0.856 (+/-0.019) for {'learning_rate': 0.1, 'max_depth': 9, 'n_estimators': 500}\n",
      "0.836 (+/-0.044) for {'learning_rate': 1, 'max_depth': 1, 'n_estimators': 5}\n",
      "0.852 (+/-0.024) for {'learning_rate': 1, 'max_depth': 1, 'n_estimators': 50}\n",
      "0.849 (+/-0.028) for {'learning_rate': 1, 'max_depth': 1, 'n_estimators': 100}\n",
      "0.842 (+/-0.017) for {'learning_rate': 1, 'max_depth': 1, 'n_estimators': 150}\n",
      "0.842 (+/-0.029) for {'learning_rate': 1, 'max_depth': 1, 'n_estimators': 200}\n",
      "0.846 (+/-0.02) for {'learning_rate': 1, 'max_depth': 1, 'n_estimators': 250}\n",
      "0.849 (+/-0.034) for {'learning_rate': 1, 'max_depth': 1, 'n_estimators': 500}\n",
      "0.812 (+/-0.018) for {'learning_rate': 1, 'max_depth': 2, 'n_estimators': 5}\n",
      "0.85 (+/-0.026) for {'learning_rate': 1, 'max_depth': 2, 'n_estimators': 50}\n",
      "0.849 (+/-0.047) for {'learning_rate': 1, 'max_depth': 2, 'n_estimators': 100}\n",
      "0.847 (+/-0.029) for {'learning_rate': 1, 'max_depth': 2, 'n_estimators': 150}\n",
      "0.853 (+/-0.03) for {'learning_rate': 1, 'max_depth': 2, 'n_estimators': 200}\n",
      "0.852 (+/-0.029) for {'learning_rate': 1, 'max_depth': 2, 'n_estimators': 250}\n",
      "0.853 (+/-0.042) for {'learning_rate': 1, 'max_depth': 2, 'n_estimators': 500}\n",
      "0.832 (+/-0.041) for {'learning_rate': 1, 'max_depth': 3, 'n_estimators': 5}\n",
      "0.857 (+/-0.019) for {'learning_rate': 1, 'max_depth': 3, 'n_estimators': 50}\n",
      "0.86 (+/-0.037) for {'learning_rate': 1, 'max_depth': 3, 'n_estimators': 100}\n",
      "0.857 (+/-0.037) for {'learning_rate': 1, 'max_depth': 3, 'n_estimators': 150}\n",
      "0.854 (+/-0.04) for {'learning_rate': 1, 'max_depth': 3, 'n_estimators': 200}\n",
      "0.863 (+/-0.056) for {'learning_rate': 1, 'max_depth': 3, 'n_estimators': 250}\n",
      "0.858 (+/-0.048) for {'learning_rate': 1, 'max_depth': 3, 'n_estimators': 500}\n",
      "0.833 (+/-0.028) for {'learning_rate': 1, 'max_depth': 4, 'n_estimators': 5}\n",
      "0.861 (+/-0.035) for {'learning_rate': 1, 'max_depth': 4, 'n_estimators': 50}\n",
      "0.863 (+/-0.046) for {'learning_rate': 1, 'max_depth': 4, 'n_estimators': 100}\n",
      "0.868 (+/-0.066) for {'learning_rate': 1, 'max_depth': 4, 'n_estimators': 150}\n",
      "0.863 (+/-0.054) for {'learning_rate': 1, 'max_d"
     ]
    },
    {
     "data": {
      "text/html": [
       "<b>limit_output extension: Maximum message size of 10000 exceeded with 19650 characters</b>"
      ]
     },
     "metadata": {},
     "output_type": "display_data"
    }
   ],
   "source": [
    "gb = GradientBoostingClassifier()\n",
    "parameters = {\n",
    "    'n_estimators': [5, 50, 100, 150, 200, 250, 500],\n",
    "    'max_depth': [1, 2, 3, 4, 5, 7, 9],\n",
    "    'learning_rate': [0.01, 0.1, 1, 10, 100]\n",
    "}\n",
    "\n",
    "cv = GridSearchCV(gb, parameters, cv=5)\n",
    "cv.fit(X_train, y_train)\n",
    "\n",
    "print_results(cv)"
   ]
  },
  {
   "cell_type": "markdown",
   "metadata": {},
   "source": [
    "BEST PARAMS: {'learning_rate': 1, 'max_depth': 9, 'n_estimators': 50}"
   ]
  },
  {
   "cell_type": "code",
   "execution_count": 47,
   "metadata": {
    "ExecuteTime": {
     "end_time": "2020-12-26T03:47:13.012672Z",
     "start_time": "2020-12-26T03:47:13.004548Z"
    }
   },
   "outputs": [
    {
     "data": {
      "text/plain": [
       "GradientBoostingClassifier(learning_rate=1, max_depth=9, n_estimators=50)"
      ]
     },
     "execution_count": 47,
     "metadata": {},
     "output_type": "execute_result"
    }
   ],
   "source": [
    "cv.best_estimator_"
   ]
  },
  {
   "cell_type": "code",
   "execution_count": 48,
   "metadata": {
    "ExecuteTime": {
     "end_time": "2020-12-26T03:48:24.713882Z",
     "start_time": "2020-12-26T03:48:24.693740Z"
    }
   },
   "outputs": [
    {
     "data": {
      "text/plain": [
       "['GBC_model.pkl']"
      ]
     },
     "execution_count": 48,
     "metadata": {},
     "output_type": "execute_result"
    }
   ],
   "source": [
    "joblib.dump(cv.best_estimator_, 'GBC_model.pkl')"
   ]
  },
  {
   "cell_type": "markdown",
   "metadata": {},
   "source": [
    "## Inference "
   ]
  },
  {
   "cell_type": "markdown",
   "metadata": {},
   "source": [
    "Best accuracy obtained with full dataset with 'learning_rate': 0.01, 'max_depth': 7, 'n_estimators': 500 or truncated dataset with 'learning_rate': 1, 'max_depth': 9, 'n_estimators': 50"
   ]
  },
  {
   "cell_type": "markdown",
   "metadata": {},
   "source": [
    "### Compare model results and final model selection"
   ]
  },
  {
   "cell_type": "code",
   "execution_count": 57,
   "metadata": {
    "ExecuteTime": {
     "end_time": "2020-12-26T03:57:10.158910Z",
     "start_time": "2020-12-26T03:57:10.155766Z"
    }
   },
   "outputs": [],
   "source": [
    "from sklearn.metrics import accuracy_score, precision_score, recall_score\n",
    "from time import time"
   ]
  },
  {
   "cell_type": "code",
   "execution_count": 60,
   "metadata": {
    "ExecuteTime": {
     "end_time": "2020-12-26T03:58:17.383491Z",
     "start_time": "2020-12-26T03:58:17.236746Z"
    }
   },
   "outputs": [],
   "source": [
    "models = {}\n",
    "\n",
    "for mdl in ['LR', 'SVM', 'MLP', 'RF', 'GBC']:\n",
    "    models[mdl] = joblib.load('{}_model.pkl'.format(mdl))"
   ]
  },
  {
   "cell_type": "code",
   "execution_count": 61,
   "metadata": {
    "ExecuteTime": {
     "end_time": "2020-12-26T03:58:18.795019Z",
     "start_time": "2020-12-26T03:58:18.787753Z"
    }
   },
   "outputs": [
    {
     "data": {
      "text/plain": [
       "{'LR': LogisticRegression(C=0.1),\n",
       " 'SVM': SVC(C=1),\n",
       " 'MLP': MLPClassifier(activation='tanh', hidden_layer_sizes=(50,),\n",
       "               learning_rate='adaptive'),\n",
       " 'RF': RandomForestClassifier(max_depth=16, n_estimators=250),\n",
       " 'GBC': GradientBoostingClassifier(learning_rate=1, max_depth=9, n_estimators=50)}"
      ]
     },
     "execution_count": 61,
     "metadata": {},
     "output_type": "execute_result"
    }
   ],
   "source": [
    "models"
   ]
  },
  {
   "cell_type": "markdown",
   "metadata": {},
   "source": [
    "### Evaluate models on the validation set"
   ]
  },
  {
   "cell_type": "code",
   "execution_count": 62,
   "metadata": {
    "ExecuteTime": {
     "end_time": "2020-12-26T03:59:45.722716Z",
     "start_time": "2020-12-26T03:59:45.716840Z"
    }
   },
   "outputs": [],
   "source": [
    "def evaluate_model(name, model, features, labels):\n",
    "    start = time()\n",
    "    pred = model.predict(features)\n",
    "    end = time()\n",
    "    accuracy = round(accuracy_score(labels, pred), 3)\n",
    "    precision = round(precision_score(labels, pred), 3)\n",
    "    recall = round(recall_score(labels, pred), 3)\n",
    "    print('{} -- Accuracy: {} / Precision: {} / Recall: {} / Latency: {}ms'.format(name,\n",
    "                                                                                   accuracy,\n",
    "                                                                                   precision,\n",
    "                                                                                   recall,\n",
    "                                                                                   round((end - start)*1000, 1)))"
   ]
  },
  {
   "cell_type": "code",
   "execution_count": 64,
   "metadata": {
    "ExecuteTime": {
     "end_time": "2020-12-26T04:02:15.576791Z",
     "start_time": "2020-12-26T04:02:15.500810Z"
    }
   },
   "outputs": [
    {
     "name": "stdout",
     "output_type": "stream",
     "text": [
      "LR -- Accuracy: 0.849 / Precision: 0.841 / Recall: 0.881 / Latency: 0.4ms\n",
      "SVM -- Accuracy: 0.87 / Precision: 0.863 / Recall: 0.897 / Latency: 2.6ms\n",
      "MLP -- Accuracy: 0.866 / Precision: 0.856 / Recall: 0.897 / Latency: 0.9ms\n",
      "RF -- Accuracy: 0.933 / Precision: 0.917 / Recall: 0.96 / Latency: 47.5ms\n",
      "GBC -- Accuracy: 0.903 / Precision: 0.893 / Recall: 0.929 / Latency: 2.0ms\n"
     ]
    }
   ],
   "source": [
    "for name, mdl in models.items():\n",
    "    evaluate_model(name, mdl, X_val, y_val)"
   ]
  },
  {
   "cell_type": "markdown",
   "metadata": {},
   "source": [
    "### Evaluate best model on test set"
   ]
  },
  {
   "cell_type": "code",
   "execution_count": 66,
   "metadata": {
    "ExecuteTime": {
     "end_time": "2020-12-26T04:04:20.531491Z",
     "start_time": "2020-12-26T04:04:20.474674Z"
    }
   },
   "outputs": [
    {
     "name": "stdout",
     "output_type": "stream",
     "text": [
      "Random Forest -- Accuracy: 0.895 / Precision: 0.921 / Recall: 0.886 / Latency: 49.1ms\n"
     ]
    }
   ],
   "source": [
    "evaluate_model('Random Forest', models['RF'], X_test, y_test)"
   ]
  },
  {
   "cell_type": "code",
   "execution_count": 67,
   "metadata": {
    "ExecuteTime": {
     "end_time": "2020-12-26T04:05:49.039696Z",
     "start_time": "2020-12-26T04:05:49.029115Z"
    }
   },
   "outputs": [
    {
     "name": "stdout",
     "output_type": "stream",
     "text": [
      "Gradient Boost -- Accuracy: 0.861 / Precision: 0.89 / Recall: 0.856 / Latency: 3.0ms\n"
     ]
    }
   ],
   "source": [
    "evaluate_model('Gradient Boost', models['GBC'], X_test, y_test)"
   ]
  },
  {
   "cell_type": "code",
   "execution_count": 69,
   "metadata": {
    "ExecuteTime": {
     "end_time": "2020-12-26T04:07:16.428858Z",
     "start_time": "2020-12-26T04:07:16.417954Z"
    }
   },
   "outputs": [
    {
     "name": "stdout",
     "output_type": "stream",
     "text": [
      "Support Vector Machine -- Accuracy: 0.824 / Precision: 0.857 / Recall: 0.818 / Latency: 3.3ms\n"
     ]
    }
   ],
   "source": [
    "evaluate_model('Support Vector Machine', models['SVM'], X_test, y_test)"
   ]
  },
  {
   "cell_type": "code",
   "execution_count": 68,
   "metadata": {
    "ExecuteTime": {
     "end_time": "2020-12-26T04:07:16.428858Z",
     "start_time": "2020-12-26T04:07:16.417954Z"
    }
   },
   "outputs": [
    {
     "name": "stdout",
     "output_type": "stream",
     "text": [
      "Multi Level Perceptron -- Accuracy: 0.819 / Precision: 0.868 / Recall: 0.795 / Latency: 2.3ms\n"
     ]
    }
   ],
   "source": [
    "evaluate_model('Multi Level Perceptron', models['MLP'], X_test, y_test)"
   ]
  },
  {
   "cell_type": "markdown",
   "metadata": {},
   "source": [
    "## Test on 80:20 split"
   ]
  },
  {
   "cell_type": "code",
   "execution_count": 70,
   "metadata": {
    "ExecuteTime": {
     "end_time": "2020-12-26T04:18:54.835107Z",
     "start_time": "2020-12-26T04:18:54.165574Z"
    }
   },
   "outputs": [
    {
     "name": "stdout",
     "output_type": "stream",
     "text": [
      "              precision    recall  f1-score   support\n",
      "\n",
      "           0       0.95      0.95      0.95       111\n",
      "           1       0.95      0.95      0.95       127\n",
      "\n",
      "    accuracy                           0.95       238\n",
      "   macro avg       0.95      0.95      0.95       238\n",
      "weighted avg       0.95      0.95      0.95       238\n",
      "\n"
     ]
    }
   ],
   "source": [
    "from sklearn.metrics import classification_report \n",
    "from sklearn.ensemble import RandomForestClassifier\n",
    "from sklearn.model_selection import train_test_split\n",
    "\n",
    "X = heart_disease_truncated.iloc[:, :-1].values\n",
    "y = heart_disease_truncated.iloc[:, -1].values\n",
    "\n",
    "x_train, x_test, y_train, y_test = train_test_split(X,y,test_size = 0.2, random_state = 1)\n",
    "\n",
    "\n",
    "model = RandomForestClassifier(random_state=1, max_depth=16, n_estimators=250)# get instance of model\n",
    "model.fit(x_train, y_train) # Train/Fit model \n",
    "\n",
    "y_pred = model.predict(x_test) # get y predictions\n",
    "print(classification_report(y_test, y_pred)) # output accuracy"
   ]
  },
  {
   "cell_type": "markdown",
   "metadata": {},
   "source": [
    "## Confusion Matrix"
   ]
  },
  {
   "cell_type": "code",
   "execution_count": 71,
   "metadata": {
    "ExecuteTime": {
     "end_time": "2020-12-26T04:22:50.746147Z",
     "start_time": "2020-12-26T04:22:50.736194Z"
    }
   },
   "outputs": [
    {
     "name": "stdout",
     "output_type": "stream",
     "text": [
      "[[105   6]\n",
      " [  6 121]]\n"
     ]
    },
    {
     "data": {
      "text/plain": [
       "0.9495798319327731"
      ]
     },
     "execution_count": 71,
     "metadata": {},
     "output_type": "execute_result"
    }
   ],
   "source": [
    "from sklearn.metrics import confusion_matrix, accuracy_score\n",
    "cm = confusion_matrix(y_test, y_pred)\n",
    "print(cm)\n",
    "accuracy_score(y_test, y_pred)"
   ]
  },
  {
   "cell_type": "markdown",
   "metadata": {},
   "source": [
    "105 are the True Positives in our test data.\n",
    "\n",
    "There are 6 type 1 error (False Positives)- predicted positive and it’s false.\n",
    "\n",
    "There are 6 type 2 error (False Negatives)- predicted negative and it’s false.\n",
    "\n",
    "121 are the True Negatives in our test data."
   ]
  },
  {
   "cell_type": "code",
   "execution_count": 72,
   "metadata": {
    "ExecuteTime": {
     "end_time": "2020-12-26T04:27:06.357328Z",
     "start_time": "2020-12-26T04:27:06.310775Z"
    }
   },
   "outputs": [
    {
     "name": "stdout",
     "output_type": "stream",
     "text": [
      "Feature: 0, Score: 0.11175\n",
      "Feature: 1, Score: 0.04363\n",
      "Feature: 2, Score: 0.13102\n",
      "Feature: 3, Score: 0.13294\n",
      "Feature: 4, Score: 0.02103\n",
      "Feature: 5, Score: 0.15787\n",
      "Feature: 6, Score: 0.07946\n",
      "Feature: 7, Score: 0.12398\n",
      "Feature: 8, Score: 0.19831\n"
     ]
    }
   ],
   "source": [
    "importance = model.feature_importances_\n",
    "\n",
    "# summarize feature importance\n",
    "for i,v in enumerate(importance):\n",
    "    print('Feature: %0d, Score: %.5f' % (i,v))"
   ]
  },
  {
   "cell_type": "code",
   "execution_count": 73,
   "metadata": {
    "ExecuteTime": {
     "end_time": "2020-12-26T04:28:17.780587Z",
     "start_time": "2020-12-26T04:28:17.501658Z"
    }
   },
   "outputs": [
    {
     "data": {
      "text/plain": [
       "<AxesSubplot:>"
      ]
     },
     "execution_count": 73,
     "metadata": {},
     "output_type": "execute_result"
    },
    {
     "data": {
      "image/png": "[encoded data removed]",
      "text/plain": [
       "<Figure size 432x288 with 1 Axes>"
      ]
     },
     "metadata": {
      "needs_background": "light"
     },
     "output_type": "display_data"
    }
   ],
   "source": [
    "import pandas as pd\n",
    "index= heart_disease_truncated.columns[:-1]\n",
    "importance = pd.Series(model.feature_importances_, index=index)\n",
    "importance.nlargest(13).plot(kind='barh', colormap='winter')"
   ]
  },
  {
   "cell_type": "markdown",
   "metadata": {},
   "source": [
    "#### The top 4 significant features in the random forest model are\n",
    "\n",
    "St slope, \n",
    "max heart rate, \n",
    "chest pain type, \n",
    "cholestrol "
   ]
  },
  {
   "cell_type": "markdown",
   "metadata": {},
   "source": [
    "# Conclusion"
   ]
  },
  {
   "cell_type": "markdown",
   "metadata": {},
   "source": [
    "Random Forest is the best model for our use case with parameters max_depth=16, n_estimators=250 on the truncated model with an accuracy score of 95%"
   ]
  },
  {
   "cell_type": "markdown",
   "metadata": {},
   "source": [
    "# Sarah's Analysis"
   ]
  },
  {
   "cell_type": "code",
   "execution_count": 130,
   "metadata": {
    "ExecuteTime": {
     "end_time": "2020-12-25T21:28:23.090094Z",
     "start_time": "2020-12-25T21:28:23.033828Z"
    }
   },
   "outputs": [
    {
     "data": {
      "text/html": [
       "<div>\n",
       "<style scoped>\n",
       "    .dataframe tbody tr th:only-of-type {\n",
       "        vertical-align: middle;\n",
       "    }\n",
       "\n",
       "    .dataframe tbody tr th {\n",
       "        vertical-align: top;\n",
       "    }\n",
       "\n",
       "    .dataframe thead th {\n",
       "        text-align: right;\n",
       "    }\n",
       "</style>\n",
       "<table border=\"1\" class=\"dataframe\">\n",
       "  <thead>\n",
       "    <tr style=\"text-align: right;\">\n",
       "      <th></th>\n",
       "      <th>age</th>\n",
       "      <th>sex</th>\n",
       "      <th>chest pain type</th>\n",
       "      <th>resting bp s</th>\n",
       "      <th>cholesterol</th>\n",
       "      <th>fasting blood sugar</th>\n",
       "      <th>resting ecg</th>\n",
       "      <th>max heart rate</th>\n",
       "      <th>exercise angina</th>\n",
       "      <th>oldpeak</th>\n",
       "      <th>ST slope</th>\n",
       "      <th>target</th>\n",
       "    </tr>\n",
       "  </thead>\n",
       "  <tbody>\n",
       "    <tr>\n",
       "      <th>count</th>\n",
       "      <td>629.000000</td>\n",
       "      <td>629.000000</td>\n",
       "      <td>629.000000</td>\n",
       "      <td>629.000000</td>\n",
       "      <td>629.000000</td>\n",
       "      <td>629.000000</td>\n",
       "      <td>629.000000</td>\n",
       "      <td>629.000000</td>\n",
       "      <td>629.000000</td>\n",
       "      <td>629.000000</td>\n",
       "      <td>629.000000</td>\n",
       "      <td>629.0</td>\n",
       "    </tr>\n",
       "    <tr>\n",
       "      <th>mean</th>\n",
       "      <td>56.014308</td>\n",
       "      <td>0.888712</td>\n",
       "      <td>3.639110</td>\n",
       "      <td>11.541787</td>\n",
       "      <td>1214.344037</td>\n",
       "      <td>0.297297</td>\n",
       "      <td>0.758347</td>\n",
       "      <td>129.755167</td>\n",
       "      <td>0.608903</td>\n",
       "      <td>1.316375</td>\n",
       "      <td>1.915739</td>\n",
       "      <td>1.0</td>\n",
       "    </tr>\n",
       "    <tr>\n",
       "      <th>std</th>\n",
       "      <td>8.558795</td>\n",
       "      <td>0.314738</td>\n",
       "      <td>0.754053</td>\n",
       "      <td>0.909183</td>\n",
       "      <td>795.368689</td>\n",
       "      <td>0.457432</td>\n",
       "      <td>0.868109</td>\n",
       "      <td>23.660426</td>\n",
       "      <td>0.488384</td>\n",
       "      <td>1.137828</td>\n",
       "      <td>0.518041</td>\n",
       "      <td>0.0</td>\n",
       "    </tr>\n",
       "    <tr>\n",
       "      <th>min</th>\n",
       "      <td>31.000000</td>\n",
       "      <td>0.000000</td>\n",
       "      <td>1.000000</td>\n",
       "      <td>0.000000</td>\n",
       "      <td>0.000000</td>\n",
       "      <td>0.000000</td>\n",
       "      <td>0.000000</td>\n",
       "      <td>60.000000</td>\n",
       "      <td>0.000000</td>\n",
       "      <td>-2.600000</td>\n",
       "      <td>0.000000</td>\n",
       "      <td>1.0</td>\n",
       "    </tr>\n",
       "    <tr>\n",
       "      <th>25%</th>\n",
       "      <td>51.000000</td>\n",
       "      <td>1.000000</td>\n",
       "      <td>4.000000</td>\n",
       "      <td>10.954451</td>\n",
       "      <td>631.675540</td>\n",
       "      <td>0.000000</td>\n",
       "      <td>0.000000</td>\n",
       "      <td>113.000000</td>\n",
       "      <td>0.000000</td>\n",
       "      <td>0.100000</td>\n",
       "      <td>2.000000</td>\n",
       "      <td>1.0</td>\n",
       "    </tr>\n",
       "    <tr>\n",
       "      <th>50%</th>\n",
       "      <td>57.000000</td>\n",
       "      <td>1.000000</td>\n",
       "      <td>4.000000</td>\n",
       "      <td>11.489125</td>\n",
       "      <td>1376.611053</td>\n",
       "      <td>0.000000</td>\n",
       "      <td>0.000000</td>\n",
       "      <td>128.000000</td>\n",
       "      <td>1.000000</td>\n",
       "      <td>1.200000</td>\n",
       "      <td>2.000000</td>\n",
       "      <td>1.0</td>\n",
       "    </tr>\n",
       "    <tr>\n",
       "      <th>75%</th>\n",
       "      <td>62.000000</td>\n",
       "      <td>1.000000</td>\n",
       "      <td>4.000000</td>\n",
       "      <td>12.041595</td>\n",
       "      <td>1779.647889</td>\n",
       "      <td>1.000000</td>\n",
       "      <td>2.000000</td>\n",
       "      <td>147.000000</td>\n",
       "      <td>1.000000</td>\n",
       "      <td>2.000000</td>\n",
       "      <td>2.000000</td>\n",
       "      <td>1.0</td>\n",
       "    </tr>\n",
       "    <tr>\n",
       "      <th>max</th>\n",
       "      <td>74.000000</td>\n",
       "      <td>1.000000</td>\n",
       "      <td>4.000000</td>\n",
       "      <td>13.416408</td>\n",
       "      <td>3039.238397</td>\n",
       "      <td>1.000000</td>\n",
       "      <td>2.000000</td>\n",
       "      <td>188.000000</td>\n",
       "      <td>1.000000</td>\n",
       "      <td>4.000000</td>\n",
       "      <td>3.000000</td>\n",
       "      <td>1.0</td>\n",
       "    </tr>\n",
       "  </tbody>\n",
       "</table>\n",
       "</div>"
      ],
      "text/plain": [
       "              age         sex  chest pain type  resting bp s  cholesterol  \\\n",
       "count  629.000000  629.000000       629.000000    629.000000   629.000000   \n",
       "mean    56.014308    0.888712         3.639110     11.541787  1214.344037   \n",
       "std      8.558795    0.314738         0.754053      0.909183   795.368689   \n",
       "min     31.000000    0.000000         1.000000      0.000000     0.000000   \n",
       "25%     51.000000    1.000000         4.000000     10.954451   631.675540   \n",
       "50%     57.000000    1.000000         4.000000     11.489125  1376.611053   \n",
       "75%     62.000000    1.000000         4.000000     12.041595  1779.647889   \n",
       "max     74.000000    1.000000         4.000000     13.416408  3039.238397   \n",
       "\n",
       "       fasting blood sugar  resting ecg  max heart rate  exercise angina  \\\n",
       "count           629.000000   629.000000      629.000000       629.000000   \n",
       "mean              0.297297     0.758347      129.755167         0.608903   \n",
       "std               0.457432     0.868109       23.660426         0.488384   \n",
       "min               0.000000     0.000000       60.000000         0.000000   \n",
       "25%               0.000000     0.000000      113.000000         0.000000   \n",
       "50%               0.000000     0.000000      128.000000         1.000000   \n",
       "75%               1.000000     2.000000      147.000000         1.000000   \n",
       "max               1.000000     2.000000      188.000000         1.000000   \n",
       "\n",
       "          oldpeak    ST slope  target  \n",
       "count  629.000000  629.000000   629.0  \n",
       "mean     1.316375    1.915739     1.0  \n",
       "std      1.137828    0.518041     0.0  \n",
       "min     -2.600000    0.000000     1.0  \n",
       "25%      0.100000    2.000000     1.0  \n",
       "50%      1.200000    2.000000     1.0  \n",
       "75%      2.000000    2.000000     1.0  \n",
       "max      4.000000    3.000000     1.0  "
      ]
     },
     "execution_count": 130,
     "metadata": {},
     "output_type": "execute_result"
    }
   ],
   "source": [
    "# Filtering data by POSITIVE Heart Disease patient\n",
    "pos_data = heart_disease[heart_disease['target']==1]\n",
    "pos_data.describe()"
   ]
  },
  {
   "cell_type": "code",
   "execution_count": 131,
   "metadata": {
    "ExecuteTime": {
     "end_time": "2020-12-25T21:28:24.197735Z",
     "start_time": "2020-12-25T21:28:24.142485Z"
    }
   },
   "outputs": [
    {
     "data": {
      "text/html": [
       "<div>\n",
       "<style scoped>\n",
       "    .dataframe tbody tr th:only-of-type {\n",
       "        vertical-align: middle;\n",
       "    }\n",
       "\n",
       "    .dataframe tbody tr th {\n",
       "        vertical-align: top;\n",
       "    }\n",
       "\n",
       "    .dataframe thead th {\n",
       "        text-align: right;\n",
       "    }\n",
       "</style>\n",
       "<table border=\"1\" class=\"dataframe\">\n",
       "  <thead>\n",
       "    <tr style=\"text-align: right;\">\n",
       "      <th></th>\n",
       "      <th>age</th>\n",
       "      <th>sex</th>\n",
       "      <th>chest pain type</th>\n",
       "      <th>resting bp s</th>\n",
       "      <th>cholesterol</th>\n",
       "      <th>fasting blood sugar</th>\n",
       "      <th>resting ecg</th>\n",
       "      <th>max heart rate</th>\n",
       "      <th>exercise angina</th>\n",
       "      <th>oldpeak</th>\n",
       "      <th>ST slope</th>\n",
       "      <th>target</th>\n",
       "    </tr>\n",
       "  </thead>\n",
       "  <tbody>\n",
       "    <tr>\n",
       "      <th>count</th>\n",
       "      <td>561.000000</td>\n",
       "      <td>561.000000</td>\n",
       "      <td>561.000000</td>\n",
       "      <td>561.000000</td>\n",
       "      <td>561.000000</td>\n",
       "      <td>561.000000</td>\n",
       "      <td>561.000000</td>\n",
       "      <td>561.000000</td>\n",
       "      <td>561.000000</td>\n",
       "      <td>561.000000</td>\n",
       "      <td>561.000000</td>\n",
       "      <td>561.0</td>\n",
       "    </tr>\n",
       "    <tr>\n",
       "      <th>mean</th>\n",
       "      <td>51.115865</td>\n",
       "      <td>0.623886</td>\n",
       "      <td>2.777184</td>\n",
       "      <td>11.369455</td>\n",
       "      <td>1448.118484</td>\n",
       "      <td>0.119430</td>\n",
       "      <td>0.631016</td>\n",
       "      <td>150.798574</td>\n",
       "      <td>0.139037</td>\n",
       "      <td>0.463993</td>\n",
       "      <td>1.297683</td>\n",
       "      <td>0.0</td>\n",
       "    </tr>\n",
       "    <tr>\n",
       "      <th>std</th>\n",
       "      <td>9.471524</td>\n",
       "      <td>0.484842</td>\n",
       "      <td>0.909423</td>\n",
       "      <td>0.715414</td>\n",
       "      <td>509.576325</td>\n",
       "      <td>0.324583</td>\n",
       "      <td>0.868723</td>\n",
       "      <td>22.526502</td>\n",
       "      <td>0.346294</td>\n",
       "      <td>0.729693</td>\n",
       "      <td>0.536668</td>\n",
       "      <td>0.0</td>\n",
       "    </tr>\n",
       "    <tr>\n",
       "      <th>min</th>\n",
       "      <td>28.000000</td>\n",
       "      <td>0.000000</td>\n",
       "      <td>1.000000</td>\n",
       "      <td>8.944272</td>\n",
       "      <td>0.000000</td>\n",
       "      <td>0.000000</td>\n",
       "      <td>0.000000</td>\n",
       "      <td>69.000000</td>\n",
       "      <td>0.000000</td>\n",
       "      <td>-1.100000</td>\n",
       "      <td>1.000000</td>\n",
       "      <td>0.0</td>\n",
       "    </tr>\n",
       "    <tr>\n",
       "      <th>25%</th>\n",
       "      <td>44.000000</td>\n",
       "      <td>0.000000</td>\n",
       "      <td>2.000000</td>\n",
       "      <td>10.954451</td>\n",
       "      <td>1177.410967</td>\n",
       "      <td>0.000000</td>\n",
       "      <td>0.000000</td>\n",
       "      <td>137.000000</td>\n",
       "      <td>0.000000</td>\n",
       "      <td>0.000000</td>\n",
       "      <td>1.000000</td>\n",
       "      <td>0.0</td>\n",
       "    </tr>\n",
       "    <tr>\n",
       "      <th>50%</th>\n",
       "      <td>51.000000</td>\n",
       "      <td>1.000000</td>\n",
       "      <td>3.000000</td>\n",
       "      <td>11.401754</td>\n",
       "      <td>1425.555007</td>\n",
       "      <td>0.000000</td>\n",
       "      <td>0.000000</td>\n",
       "      <td>154.000000</td>\n",
       "      <td>0.000000</td>\n",
       "      <td>0.000000</td>\n",
       "      <td>1.000000</td>\n",
       "      <td>0.0</td>\n",
       "    </tr>\n",
       "    <tr>\n",
       "      <th>75%</th>\n",
       "      <td>57.000000</td>\n",
       "      <td>1.000000</td>\n",
       "      <td>4.000000</td>\n",
       "      <td>11.832160</td>\n",
       "      <td>1727.877935</td>\n",
       "      <td>0.000000</td>\n",
       "      <td>2.000000</td>\n",
       "      <td>169.000000</td>\n",
       "      <td>0.000000</td>\n",
       "      <td>0.800000</td>\n",
       "      <td>2.000000</td>\n",
       "      <td>0.0</td>\n",
       "    </tr>\n",
       "    <tr>\n",
       "      <th>max</th>\n",
       "      <td>74.000000</td>\n",
       "      <td>1.000000</td>\n",
       "      <td>4.000000</td>\n",
       "      <td>13.416408</td>\n",
       "      <td>3039.238397</td>\n",
       "      <td>1.000000</td>\n",
       "      <td>2.000000</td>\n",
       "      <td>188.000000</td>\n",
       "      <td>1.000000</td>\n",
       "      <td>4.000000</td>\n",
       "      <td>3.000000</td>\n",
       "      <td>0.0</td>\n",
       "    </tr>\n",
       "  </tbody>\n",
       "</table>\n",
       "</div>"
      ],
      "text/plain": [
       "              age         sex  chest pain type  resting bp s  cholesterol  \\\n",
       "count  561.000000  561.000000       561.000000    561.000000   561.000000   \n",
       "mean    51.115865    0.623886         2.777184     11.369455  1448.118484   \n",
       "std      9.471524    0.484842         0.909423      0.715414   509.576325   \n",
       "min     28.000000    0.000000         1.000000      8.944272     0.000000   \n",
       "25%     44.000000    0.000000         2.000000     10.954451  1177.410967   \n",
       "50%     51.000000    1.000000         3.000000     11.401754  1425.555007   \n",
       "75%     57.000000    1.000000         4.000000     11.832160  1727.877935   \n",
       "max     74.000000    1.000000         4.000000     13.416408  3039.238397   \n",
       "\n",
       "       fasting blood sugar  resting ecg  max heart rate  exercise angina  \\\n",
       "count           561.000000   561.000000      561.000000       561.000000   \n",
       "mean              0.119430     0.631016      150.798574         0.139037   \n",
       "std               0.324583     0.868723       22.526502         0.346294   \n",
       "min               0.000000     0.000000       69.000000         0.000000   \n",
       "25%               0.000000     0.000000      137.000000         0.000000   \n",
       "50%               0.000000     0.000000      154.000000         0.000000   \n",
       "75%               0.000000     2.000000      169.000000         0.000000   \n",
       "max               1.000000     2.000000      188.000000         1.000000   \n",
       "\n",
       "          oldpeak    ST slope  target  \n",
       "count  561.000000  561.000000   561.0  \n",
       "mean     0.463993    1.297683     0.0  \n",
       "std      0.729693    0.536668     0.0  \n",
       "min     -1.100000    1.000000     0.0  \n",
       "25%      0.000000    1.000000     0.0  \n",
       "50%      0.000000    1.000000     0.0  \n",
       "75%      0.800000    2.000000     0.0  \n",
       "max      4.000000    3.000000     0.0  "
      ]
     },
     "execution_count": 131,
     "metadata": {},
     "output_type": "execute_result"
    }
   ],
   "source": [
    "# Filtering data by NEGATIVE Heart Disease patient\n",
    "neg_data = heart_disease[heart_disease['target']==0]\n",
    "neg_data.describe()"
   ]
  },
  {
   "cell_type": "code",
   "execution_count": 132,
   "metadata": {
    "ExecuteTime": {
     "end_time": "2020-12-25T21:28:28.183075Z",
     "start_time": "2020-12-25T21:28:28.176406Z"
    }
   },
   "outputs": [
    {
     "name": "stdout",
     "output_type": "stream",
     "text": [
      "(Positive Patients ST depression): 1.3163751987281398\n",
      "(Negative Patients ST depression): 0.4639928698752228\n"
     ]
    }
   ],
   "source": [
    "print(\"(Positive Patients ST depression): \" + str(pos_data['oldpeak'].mean()))\n",
    "print(\"(Negative Patients ST depression): \" + str(neg_data['oldpeak'].mean()))"
   ]
  },
  {
   "cell_type": "code",
   "execution_count": 133,
   "metadata": {
    "ExecuteTime": {
     "end_time": "2020-12-25T21:28:29.676580Z",
     "start_time": "2020-12-25T21:28:29.670567Z"
    }
   },
   "outputs": [
    {
     "name": "stdout",
     "output_type": "stream",
     "text": [
      "(Positive Patients thalach): 129.75516693163752\n",
      "(Negative Patients thalach): 150.79857397504458\n"
     ]
    }
   ],
   "source": [
    "print(\"(Positive Patients thalach): \" + str(pos_data['max heart rate'].mean()))\n",
    "print(\"(Negative Patients thalach): \" + str(neg_data['max heart rate'].mean()))"
   ]
  },
  {
   "cell_type": "markdown",
   "metadata": {},
   "source": [
    "## Machine Learning + Predictive Analytics"
   ]
  },
  {
   "cell_type": "code",
   "execution_count": 134,
   "metadata": {
    "ExecuteTime": {
     "end_time": "2020-12-25T21:28:45.758626Z",
     "start_time": "2020-12-25T21:28:45.753530Z"
    }
   },
   "outputs": [],
   "source": [
    "X = heart_disease.iloc[:, :-1].values\n",
    "y = heart_disease.iloc[:, -1].values"
   ]
  },
  {
   "cell_type": "code",
   "execution_count": 135,
   "metadata": {
    "ExecuteTime": {
     "end_time": "2020-12-25T21:28:46.823431Z",
     "start_time": "2020-12-25T21:28:46.817920Z"
    }
   },
   "outputs": [],
   "source": [
    "from sklearn.model_selection import train_test_split\n",
    "x_train, x_test, y_train, y_test = train_test_split(X,y,test_size = 0.2, random_state = 1)"
   ]
  },
  {
   "cell_type": "code",
   "execution_count": 136,
   "metadata": {
    "ExecuteTime": {
     "end_time": "2020-12-25T21:28:49.116586Z",
     "start_time": "2020-12-25T21:28:49.110114Z"
    }
   },
   "outputs": [],
   "source": [
    "from sklearn.preprocessing import StandardScaler\n",
    "sc = StandardScaler()\n",
    "x_train = sc.fit_transform(x_train)\n",
    "x_test = sc.transform(x_test)"
   ]
  },
  {
   "cell_type": "markdown",
   "metadata": {},
   "source": [
    "### Model 1: Logistic Regression"
   ]
  },
  {
   "cell_type": "code",
   "execution_count": 137,
   "metadata": {
    "ExecuteTime": {
     "end_time": "2020-12-25T21:28:53.173943Z",
     "start_time": "2020-12-25T21:28:53.149955Z"
    }
   },
   "outputs": [
    {
     "name": "stdout",
     "output_type": "stream",
     "text": [
      "              precision    recall  f1-score   support\n",
      "\n",
      "           0       0.82      0.85      0.83       111\n",
      "           1       0.86      0.83      0.85       127\n",
      "\n",
      "    accuracy                           0.84       238\n",
      "   macro avg       0.84      0.84      0.84       238\n",
      "weighted avg       0.84      0.84      0.84       238\n",
      "\n"
     ]
    }
   ],
   "source": [
    "from sklearn.metrics import classification_report \n",
    "from sklearn.linear_model import LogisticRegression\n",
    "\n",
    "model1 = LogisticRegression(random_state=1) # get instance of model\n",
    "model1.fit(x_train, y_train) # Train/Fit model \n",
    "\n",
    "y_pred1 = model1.predict(x_test) # get y predictions\n",
    "print(classification_report(y_test, y_pred1)) # output accuracy"
   ]
  },
  {
   "cell_type": "markdown",
   "metadata": {},
   "source": [
    "### Model 2: K-NN (K-Nearest Neighbors)"
   ]
  },
  {
   "cell_type": "code",
   "execution_count": 138,
   "metadata": {
    "ExecuteTime": {
     "end_time": "2020-12-25T21:28:57.047431Z",
     "start_time": "2020-12-25T21:28:57.009084Z"
    }
   },
   "outputs": [
    {
     "name": "stdout",
     "output_type": "stream",
     "text": [
      "              precision    recall  f1-score   support\n",
      "\n",
      "           0       0.87      0.86      0.86       111\n",
      "           1       0.88      0.89      0.88       127\n",
      "\n",
      "    accuracy                           0.87       238\n",
      "   macro avg       0.87      0.87      0.87       238\n",
      "weighted avg       0.87      0.87      0.87       238\n",
      "\n"
     ]
    }
   ],
   "source": [
    "from sklearn.metrics import classification_report \n",
    "from sklearn.neighbors import KNeighborsClassifier\n",
    "\n",
    "model2 = KNeighborsClassifier() # get instance of model\n",
    "model2.fit(x_train, y_train) # Train/Fit model \n",
    "\n",
    "y_pred2 = model2.predict(x_test) # get y predictions\n",
    "print(classification_report(y_test, y_pred2)) # output accuracy"
   ]
  },
  {
   "cell_type": "markdown",
   "metadata": {},
   "source": [
    "### Model 3: SVM (Support Vector Machine)"
   ]
  },
  {
   "cell_type": "code",
   "execution_count": 139,
   "metadata": {
    "ExecuteTime": {
     "end_time": "2020-12-25T21:29:00.472558Z",
     "start_time": "2020-12-25T21:29:00.429581Z"
    }
   },
   "outputs": [
    {
     "name": "stdout",
     "output_type": "stream",
     "text": [
      "              precision    recall  f1-score   support\n",
      "\n",
      "           0       0.91      0.91      0.91       111\n",
      "           1       0.92      0.92      0.92       127\n",
      "\n",
      "    accuracy                           0.92       238\n",
      "   macro avg       0.92      0.92      0.92       238\n",
      "weighted avg       0.92      0.92      0.92       238\n",
      "\n"
     ]
    }
   ],
   "source": [
    "from sklearn.metrics import classification_report \n",
    "from sklearn.svm import SVC\n",
    "\n",
    "model3 = SVC(random_state=1) # get instance of model\n",
    "model3.fit(x_train, y_train) # Train/Fit model \n",
    "\n",
    "y_pred3 = model3.predict(x_test) # get y predictions\n",
    "print(classification_report(y_test, y_pred3)) # output accuracy"
   ]
  },
  {
   "cell_type": "markdown",
   "metadata": {},
   "source": [
    "### Model 4: Naives Bayes Classifier"
   ]
  },
  {
   "cell_type": "code",
   "execution_count": 140,
   "metadata": {
    "ExecuteTime": {
     "end_time": "2020-12-25T21:29:03.512833Z",
     "start_time": "2020-12-25T21:29:03.494918Z"
    }
   },
   "outputs": [
    {
     "name": "stdout",
     "output_type": "stream",
     "text": [
      "              precision    recall  f1-score   support\n",
      "\n",
      "           0       0.84      0.88      0.86       111\n",
      "           1       0.89      0.86      0.88       127\n",
      "\n",
      "    accuracy                           0.87       238\n",
      "   macro avg       0.87      0.87      0.87       238\n",
      "weighted avg       0.87      0.87      0.87       238\n",
      "\n"
     ]
    }
   ],
   "source": [
    "from sklearn.metrics import classification_report \n",
    "from sklearn.naive_bayes import GaussianNB\n",
    "\n",
    "model4 = GaussianNB() # get instance of model\n",
    "model4.fit(x_train, y_train) # Train/Fit model \n",
    "\n",
    "y_pred4 = model4.predict(x_test) # get y predictions\n",
    "print(classification_report(y_test, y_pred4)) # output accuracy"
   ]
  },
  {
   "cell_type": "markdown",
   "metadata": {},
   "source": [
    "### Model 5: Decision Trees"
   ]
  },
  {
   "cell_type": "code",
   "execution_count": 141,
   "metadata": {
    "ExecuteTime": {
     "end_time": "2020-12-25T21:29:06.922805Z",
     "start_time": "2020-12-25T21:29:06.902734Z"
    }
   },
   "outputs": [
    {
     "name": "stdout",
     "output_type": "stream",
     "text": [
      "              precision    recall  f1-score   support\n",
      "\n",
      "           0       0.84      0.97      0.90       111\n",
      "           1       0.97      0.83      0.90       127\n",
      "\n",
      "    accuracy                           0.90       238\n",
      "   macro avg       0.90      0.90      0.90       238\n",
      "weighted avg       0.91      0.90      0.90       238\n",
      "\n"
     ]
    }
   ],
   "source": [
    "from sklearn.metrics import classification_report \n",
    "from sklearn.tree import DecisionTreeClassifier\n",
    "\n",
    "model5 = DecisionTreeClassifier(random_state=1) # get instance of model\n",
    "model5.fit(x_train, y_train) # Train/Fit model \n",
    "\n",
    "y_pred5 = model5.predict(x_test) # get y predictions\n",
    "print(classification_report(y_test, y_pred5)) # output accuracy"
   ]
  },
  {
   "cell_type": "markdown",
   "metadata": {},
   "source": [
    "### Model 6: Random Forest"
   ]
  },
  {
   "cell_type": "code",
   "execution_count": 142,
   "metadata": {
    "ExecuteTime": {
     "end_time": "2020-12-25T21:29:10.873324Z",
     "start_time": "2020-12-25T21:29:10.596407Z"
    }
   },
   "outputs": [
    {
     "name": "stdout",
     "output_type": "stream",
     "text": [
      "              precision    recall  f1-score   support\n",
      "\n",
      "           0       0.94      0.95      0.94       111\n",
      "           1       0.95      0.94      0.95       127\n",
      "\n",
      "    accuracy                           0.95       238\n",
      "   macro avg       0.94      0.95      0.95       238\n",
      "weighted avg       0.95      0.95      0.95       238\n",
      "\n"
     ]
    }
   ],
   "source": [
    "from sklearn.metrics import classification_report \n",
    "from sklearn.ensemble import RandomForestClassifier\n",
    "\n",
    "model6 = RandomForestClassifier(random_state=1)# get instance of model\n",
    "model6.fit(x_train, y_train) # Train/Fit model \n",
    "\n",
    "y_pred6 = model6.predict(x_test) # get y predictions\n",
    "print(classification_report(y_test, y_pred6)) # output accuracy"
   ]
  },
  {
   "cell_type": "markdown",
   "metadata": {},
   "source": [
    "## This for dataset without the 2 features\n",
    "\n"
   ]
  },
  {
   "cell_type": "code",
   "execution_count": 143,
   "metadata": {
    "ExecuteTime": {
     "end_time": "2020-12-25T21:29:16.564249Z",
     "start_time": "2020-12-25T21:29:16.559075Z"
    }
   },
   "outputs": [],
   "source": [
    "X1 = heart_disease_without2f.iloc[:, :-1].values\n",
    "y1 = heart_disease_without2f.iloc[:, -1].values"
   ]
  },
  {
   "cell_type": "code",
   "execution_count": 144,
   "metadata": {
    "ExecuteTime": {
     "end_time": "2020-12-25T21:29:27.911900Z",
     "start_time": "2020-12-25T21:29:27.906202Z"
    }
   },
   "outputs": [],
   "source": [
    "# this for dataset without the 2 features\n",
    "\n",
    "from sklearn.model_selection import train_test_split\n",
    "x1_train, x1_test, y1_train, y1_test = train_test_split(X1,y1,test_size = 0.2, random_state = 1)"
   ]
  },
  {
   "cell_type": "code",
   "execution_count": 145,
   "metadata": {
    "ExecuteTime": {
     "end_time": "2020-12-25T21:29:30.325444Z",
     "start_time": "2020-12-25T21:29:30.319026Z"
    }
   },
   "outputs": [],
   "source": [
    "# this for dataset without the 2 features\n",
    "from sklearn.preprocessing import StandardScaler\n",
    "sc = StandardScaler()\n",
    "x1_train = sc.fit_transform(x1_train)\n",
    "x1_test = sc.transform(x1_test)"
   ]
  },
  {
   "cell_type": "markdown",
   "metadata": {},
   "source": [
    "### Model 1: Logistic Regression"
   ]
  },
  {
   "cell_type": "code",
   "execution_count": 146,
   "metadata": {
    "ExecuteTime": {
     "end_time": "2020-12-25T21:29:33.401353Z",
     "start_time": "2020-12-25T21:29:33.380371Z"
    }
   },
   "outputs": [
    {
     "name": "stdout",
     "output_type": "stream",
     "text": [
      "              precision    recall  f1-score   support\n",
      "\n",
      "           0       0.82      0.86      0.84       111\n",
      "           1       0.87      0.83      0.85       127\n",
      "\n",
      "    accuracy                           0.84       238\n",
      "   macro avg       0.84      0.85      0.84       238\n",
      "weighted avg       0.85      0.84      0.84       238\n",
      "\n"
     ]
    }
   ],
   "source": [
    "from sklearn.metrics import classification_report \n",
    "from sklearn.linear_model import LogisticRegression\n",
    "\n",
    "model1 = LogisticRegression(random_state=1) # get instance of model\n",
    "model1.fit(x1_train, y1_train) # Train/Fit model \n",
    "\n",
    "y1_pred1 = model1.predict(x1_test) # get y predictions\n",
    "print(classification_report(y1_test, y1_pred1)) # output accuracy"
   ]
  },
  {
   "cell_type": "markdown",
   "metadata": {},
   "source": [
    "### Model 2: K-NN (K-Nearest Neighbors)"
   ]
  },
  {
   "cell_type": "code",
   "execution_count": 147,
   "metadata": {
    "ExecuteTime": {
     "end_time": "2020-12-25T21:29:36.560380Z",
     "start_time": "2020-12-25T21:29:36.525278Z"
    }
   },
   "outputs": [
    {
     "name": "stdout",
     "output_type": "stream",
     "text": [
      "              precision    recall  f1-score   support\n",
      "\n",
      "           0       0.87      0.91      0.89       111\n",
      "           1       0.92      0.88      0.90       127\n",
      "\n",
      "    accuracy                           0.89       238\n",
      "   macro avg       0.89      0.90      0.89       238\n",
      "weighted avg       0.90      0.89      0.90       238\n",
      "\n"
     ]
    }
   ],
   "source": [
    "from sklearn.metrics import classification_report \n",
    "from sklearn.neighbors import KNeighborsClassifier\n",
    "\n",
    "model2 = KNeighborsClassifier() # get instance of model\n",
    "model2.fit(x1_train, y1_train) # Train/Fit model \n",
    "\n",
    "y1_pred2 = model2.predict(x1_test) # get y predictions\n",
    "print(classification_report(y1_test, y1_pred2)) # output accuracy"
   ]
  },
  {
   "cell_type": "markdown",
   "metadata": {},
   "source": [
    "### Model 3: SVM (Support Vector Machine)"
   ]
  },
  {
   "cell_type": "code",
   "execution_count": 148,
   "metadata": {
    "ExecuteTime": {
     "end_time": "2020-12-25T21:29:43.184621Z",
     "start_time": "2020-12-25T21:29:43.146163Z"
    }
   },
   "outputs": [
    {
     "name": "stdout",
     "output_type": "stream",
     "text": [
      "              precision    recall  f1-score   support\n",
      "\n",
      "           0       0.89      0.91      0.90       111\n",
      "           1       0.92      0.90      0.91       127\n",
      "\n",
      "    accuracy                           0.90       238\n",
      "   macro avg       0.90      0.90      0.90       238\n",
      "weighted avg       0.90      0.90      0.90       238\n",
      "\n"
     ]
    }
   ],
   "source": [
    "from sklearn.metrics import classification_report \n",
    "from sklearn.svm import SVC\n",
    "\n",
    "model3 = SVC(random_state=1) # get instance of model\n",
    "model3.fit(x1_train, y1_train) # Train/Fit model \n",
    "\n",
    "y1_pred3 = model3.predict(x1_test) # get y predictions\n",
    "print(classification_report(y1_test, y1_pred3)) # output accuracy"
   ]
  },
  {
   "cell_type": "markdown",
   "metadata": {},
   "source": [
    "### Model 4: Naives Bayes Classifier"
   ]
  },
  {
   "cell_type": "code",
   "execution_count": 149,
   "metadata": {
    "ExecuteTime": {
     "end_time": "2020-12-25T21:29:46.239948Z",
     "start_time": "2020-12-25T21:29:46.225343Z"
    }
   },
   "outputs": [
    {
     "name": "stdout",
     "output_type": "stream",
     "text": [
      "              precision    recall  f1-score   support\n",
      "\n",
      "           0       0.85      0.88      0.87       111\n",
      "           1       0.89      0.87      0.88       127\n",
      "\n",
      "    accuracy                           0.87       238\n",
      "   macro avg       0.87      0.87      0.87       238\n",
      "weighted avg       0.87      0.87      0.87       238\n",
      "\n"
     ]
    }
   ],
   "source": [
    "from sklearn.metrics import classification_report \n",
    "from sklearn.naive_bayes import GaussianNB\n",
    "\n",
    "model4 = GaussianNB() # get instance of model\n",
    "model4.fit(x1_train, y1_train) # Train/Fit model \n",
    "\n",
    "y1_pred4 = model4.predict(x1_test) # get y predictions\n",
    "print(classification_report(y1_test, y1_pred4)) # output accuracy"
   ]
  },
  {
   "cell_type": "markdown",
   "metadata": {},
   "source": [
    "### Model 5: Decision Trees"
   ]
  },
  {
   "cell_type": "code",
   "execution_count": 150,
   "metadata": {
    "ExecuteTime": {
     "end_time": "2020-12-25T21:29:49.621347Z",
     "start_time": "2020-12-25T21:29:49.603826Z"
    }
   },
   "outputs": [
    {
     "name": "stdout",
     "output_type": "stream",
     "text": [
      "              precision    recall  f1-score   support\n",
      "\n",
      "           0       0.85      0.95      0.90       111\n",
      "           1       0.96      0.85      0.90       127\n",
      "\n",
      "    accuracy                           0.90       238\n",
      "   macro avg       0.90      0.90      0.90       238\n",
      "weighted avg       0.91      0.90      0.90       238\n",
      "\n"
     ]
    }
   ],
   "source": [
    "from sklearn.metrics import classification_report \n",
    "from sklearn.tree import DecisionTreeClassifier\n",
    "\n",
    "model5 = DecisionTreeClassifier(random_state=1) # get instance of model\n",
    "model5.fit(x1_train, y1_train) # Train/Fit model \n",
    "\n",
    "y1_pred5 = model5.predict(x1_test) # get y predictions\n",
    "print(classification_report(y1_test, y1_pred5)) # output accuracy"
   ]
  },
  {
   "cell_type": "markdown",
   "metadata": {},
   "source": [
    "### Model 6: Random Forest"
   ]
  },
  {
   "cell_type": "code",
   "execution_count": 151,
   "metadata": {
    "ExecuteTime": {
     "end_time": "2020-12-25T21:29:52.822885Z",
     "start_time": "2020-12-25T21:29:52.543634Z"
    }
   },
   "outputs": [
    {
     "name": "stdout",
     "output_type": "stream",
     "text": [
      "              precision    recall  f1-score   support\n",
      "\n",
      "           0       0.95      0.95      0.95       111\n",
      "           1       0.95      0.96      0.96       127\n",
      "\n",
      "    accuracy                           0.95       238\n",
      "   macro avg       0.95      0.95      0.95       238\n",
      "weighted avg       0.95      0.95      0.95       238\n",
      "\n"
     ]
    }
   ],
   "source": [
    "from sklearn.metrics import classification_report \n",
    "from sklearn.ensemble import RandomForestClassifier\n",
    "\n",
    "model6 = RandomForestClassifier(random_state=1)# get instance of model\n",
    "model6.fit(x1_train, y1_train) # Train/Fit model \n",
    "\n",
    "y1_pred6 = model6.predict(x1_test) # get y predictions\n",
    "print(classification_report(y1_test, y1_pred6)) # output accuracy"
   ]
  },
  {
   "cell_type": "markdown",
   "metadata": {},
   "source": [
    "### Confusion Matrix"
   ]
  },
  {
   "cell_type": "code",
   "execution_count": 152,
   "metadata": {
    "ExecuteTime": {
     "end_time": "2020-12-25T21:30:13.371794Z",
     "start_time": "2020-12-25T21:30:13.361209Z"
    }
   },
   "outputs": [
    {
     "name": "stdout",
     "output_type": "stream",
     "text": [
      "[[105   6]\n",
      " [  5 122]]\n"
     ]
    },
    {
     "data": {
      "text/plain": [
       "0.9537815126050421"
      ]
     },
     "execution_count": 152,
     "metadata": {},
     "output_type": "execute_result"
    }
   ],
   "source": [
    "# cnfusion matrix for the random forest model < dataset without 2 features\n",
    "from sklearn.metrics import confusion_matrix, accuracy_score\n",
    "cm = confusion_matrix(y1_test, y1_pred6)\n",
    "print(cm)\n",
    "accuracy_score(y1_test, y1_pred6)"
   ]
  },
  {
   "cell_type": "markdown",
   "metadata": {},
   "source": [
    "##  Confusion Matrix for random Forest\n",
    "105 the TP in our test data \n",
    "\n",
    "6 &5 the number of errors\n",
    "\n",
    "There are 6 type 1 error (False Positives)-  predicted positive and it’s false.\n",
    "\n",
    "There are 5 type 2 error (False Negatives)-  predicted negative and it’s false.\n",
    "\n",
    "122 the TN in our test data \n",
    "\n"
   ]
  },
  {
   "cell_type": "code",
   "execution_count": 153,
   "metadata": {
    "ExecuteTime": {
     "end_time": "2020-12-25T21:30:27.591553Z",
     "start_time": "2020-12-25T21:30:27.570976Z"
    }
   },
   "outputs": [
    {
     "name": "stdout",
     "output_type": "stream",
     "text": [
      "Feature: 0, Score: 0.11282\n",
      "Feature: 1, Score: 0.04405\n",
      "Feature: 2, Score: 0.13611\n",
      "Feature: 3, Score: 0.13165\n",
      "Feature: 4, Score: 0.02113\n",
      "Feature: 5, Score: 0.15820\n",
      "Feature: 6, Score: 0.07844\n",
      "Feature: 7, Score: 0.12495\n",
      "Feature: 8, Score: 0.19265\n"
     ]
    }
   ],
   "source": [
    "importance = model6.feature_importances_\n",
    "\n",
    "# summarize feature importance\n",
    "for i,v in enumerate(importance):\n",
    "    print('Feature: %0d, Score: %.5f' % (i,v))"
   ]
  },
  {
   "cell_type": "code",
   "execution_count": 154,
   "metadata": {
    "ExecuteTime": {
     "end_time": "2020-12-25T21:30:32.617400Z",
     "start_time": "2020-12-25T21:30:32.349523Z"
    }
   },
   "outputs": [
    {
     "data": {
      "text/plain": [
       "<AxesSubplot:>"
      ]
     },
     "execution_count": 154,
     "metadata": {},
     "output_type": "execute_result"
    },
    {
     "data": {
      "image/png": "[encoded data removed]",
      "text/plain": [
       "<Figure size 432x288 with 1 Axes>"
      ]
     },
     "metadata": {
      "needs_background": "light"
     },
     "output_type": "display_data"
    }
   ],
   "source": [
    "index= heart_disease_without2f.columns[:-1]\n",
    "importance = pd.Series(model6.feature_importances_, index=index)\n",
    "importance.nlargest(13).plot(kind='barh', colormap='winter')"
   ]
  },
  {
   "cell_type": "markdown",
   "metadata": {},
   "source": [
    "#### The top 4 significant features in the random forest model are\n",
    "\n",
    "St slope, \n",
    "max heart rate, \n",
    "chest pain type, \n",
    "cholestrol "
   ]
  },
  {
   "cell_type": "code",
   "execution_count": null,
   "metadata": {},
   "outputs": [],
   "source": []
  }
 ],
 "metadata": {
  "kernelspec": {
   "display_name": "Python 3",
   "language": "python",
   "name": "python3"
  },
  "language_info": {
   "codemirror_mode": {
    "name": "ipython",
    "version": 3
   },
   "file_extension": ".py",
   "mimetype": "text/x-python",
   "name": "python",
   "nbconvert_exporter": "python",
   "pygments_lexer": "ipython3",
   "version": "3.8.5"
  }
 },
 "nbformat": 4,
 "nbformat_minor": 4
}
